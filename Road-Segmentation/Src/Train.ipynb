{
 "cells": [
  {
   "cell_type": "markdown",
   "metadata": {
    "colab_type": "text",
    "id": "V3WSjIHnbEG3"
   },
   "source": [
    "# Segmentation of Road from Satellite imagery\n",
    "\n",
    "# Change IT"
   ]
  },
  {
   "cell_type": "markdown",
   "metadata": {
    "colab_type": "text",
    "id": "p1ZeiWO9bSrT"
   },
   "source": [
    "## Importing Libraries"
   ]
  },
  {
   "cell_type": "code",
   "execution_count": 3,
   "metadata": {
    "colab": {},
    "colab_type": "code",
    "id": "vUHhxUFxxOaU"
   },
   "outputs": [],
   "source": [
    "import warnings\n",
    "warnings.filterwarnings('ignore')\n",
    "\n",
    "import os\n",
    "import cv2\n",
    "import numpy as np\n",
    "import tensorflow as tf\n",
    "import pandas as pd\n",
    "from keras.models import Model, load_model\n",
    "from skimage.morphology import label\n",
    "import pickle\n",
    "from keras import backend as K\n",
    "\n",
    "from matplotlib import pyplot as plt\n",
    "from tqdm import tqdm_notebook\n",
    "import random\n",
    "from skimage.io import imread, imshow, imread_collection, concatenate_images\n",
    "from matplotlib import pyplot as plt\n",
    "import h5py\n",
    "\n",
    "seed = 56"
   ]
  },
  {
   "cell_type": "markdown",
   "metadata": {
    "colab_type": "text",
    "id": "dxc4fNMJbWV2"
   },
   "source": [
    "## Loading Data"
   ]
  },
  {
   "cell_type": "code",
   "execution_count": 0,
   "metadata": {
    "colab": {},
    "colab_type": "code",
    "id": "WgZi89lE0NK3"
   },
   "outputs": [],
   "source": [
    "IMAGE_HEIGHT = IMAGE_WIDTH = 256\n",
    "NUM_CHANNELS = 3\n",
    "image_file = './Data/road_images.h5py'\n",
    "mask_file = './Data/road_masks.h5py'"
   ]
  },
  {
   "cell_type": "code",
   "execution_count": 29,
   "metadata": {
    "colab": {
     "base_uri": "https://localhost:8080/",
     "height": 34
    },
    "colab_type": "code",
    "id": "xfJWXIoL5_Hb",
    "outputId": "7854f409-f64d-48cc-e35c-14ae3792c4b8"
   },
   "outputs": [
    {
     "name": "stdout",
     "output_type": "stream",
     "text": [
      "(22226, 256, 256, 3)\n"
     ]
    }
   ],
   "source": [
    "hfile = h5py.File(image_file, 'r')\n",
    "n1 = hfile.get('all_images')\n",
    "images = np.array(n1)\n",
    "print(images.shape)\n",
    "hfile.close()"
   ]
  },
  {
   "cell_type": "code",
   "execution_count": 30,
   "metadata": {
    "colab": {
     "base_uri": "https://localhost:8080/",
     "height": 50
    },
    "colab_type": "code",
    "id": "PbWTQdw38Wrl",
    "outputId": "b662e375-470b-439c-8b0b-f5ec3d4a7430"
   },
   "outputs": [
    {
     "name": "stdout",
     "output_type": "stream",
     "text": [
      "(22226, 256, 256)\n",
      "Unique elements in the train mask: [  0 255]\n"
     ]
    }
   ],
   "source": [
    "hfile = h5py.File(mask_file, 'r')\n",
    "n1 = hfile.get('all_masks')\n",
    "masks = np.array(n1)\n",
    "print(masks.shape)\n",
    "print(\"Unique elements in the train mask:\", np.unique(masks))\n",
    "hfile.close()"
   ]
  },
  {
   "cell_type": "markdown",
   "metadata": {
    "colab_type": "text",
    "id": "osgE_nJru7W9"
   },
   "source": [
    "## Displaying few Samples"
   ]
  },
  {
   "cell_type": "code",
   "execution_count": 0,
   "metadata": {
    "colab": {},
    "colab_type": "code",
    "id": "H5ySd_gpUUvH"
   },
   "outputs": [],
   "source": [
    "masks = np.expand_dims(masks, -1)"
   ]
  },
  {
   "cell_type": "markdown",
   "metadata": {
    "colab_type": "text",
    "id": "aS3yy-MoxNJd"
   },
   "source": [
    "## Defining Custom Loss functions and accuracy Metric."
   ]
  },
  {
   "cell_type": "code",
   "execution_count": 0,
   "metadata": {
    "colab": {},
    "colab_type": "code",
    "id": "OmI15mzGmD_R"
   },
   "outputs": [],
   "source": [
    "#Source: https://towardsdatascience.com/metrics-to-evaluate-your-semantic-segmentation-model-6bcb99639aa2\n",
    "from keras import backend as K\n",
    "def iou_coef(y_true, y_pred, smooth=1):\n",
    "  intersection = K.sum(K.abs(y_true * y_pred), axis=[1,2,3])\n",
    "  union = K.sum(y_true,[1,2,3])+K.sum(y_pred,[1,2,3])-intersection\n",
    "  iou = K.mean((intersection + smooth) / (union + smooth), axis=0)\n",
    "  \n",
    "  return iou"
   ]
  },
  {
   "cell_type": "code",
   "execution_count": 0,
   "metadata": {
    "colab": {},
    "colab_type": "code",
    "id": "bxUwv6N4gwQ0"
   },
   "outputs": [],
   "source": [
    "def dice_coef(y_true, y_pred, smooth = 1):\n",
    "    y_true_f = K.flatten(y_true)\n",
    "    y_pred_f = K.flatten(y_pred)\n",
    "    intersection = K.sum(y_true_f * y_pred_f)\n",
    "    return (2. * intersection + smooth) / (K.sum(y_true_f) + K.sum(y_pred_f) + smooth)\n",
    "\n",
    "def soft_dice_loss(y_true, y_pred):\n",
    "    return 1-dice_coef(y_true, y_pred)"
   ]
  },
  {
   "cell_type": "code",
   "execution_count": 35,
   "metadata": {
    "colab": {
     "base_uri": "https://localhost:8080/",
     "height": 50
    },
    "colab_type": "code",
    "id": "m_JjfHf-EO-M",
    "outputId": "2add0301-5e95-469f-8cc7-d4a83fea0dcf"
   },
   "outputs": [
    {
     "name": "stdout",
     "output_type": "stream",
     "text": [
      "(22226, 256, 256, 1)\n",
      "(22226, 256, 256, 3)\n"
     ]
    }
   ],
   "source": [
    "print(masks.shape)\n",
    "print(images.shape)"
   ]
  },
  {
   "cell_type": "markdown",
   "metadata": {
    "colab_type": "text",
    "id": "qvS7KS7bPish"
   },
   "source": [
    "## Splitting data"
   ]
  },
  {
   "cell_type": "code",
   "execution_count": 37,
   "metadata": {
    "colab": {
     "base_uri": "https://localhost:8080/",
     "height": 118
    },
    "colab_type": "code",
    "id": "zeHyAwgZPkhJ",
    "outputId": "a2f9906d-ce25-45f8-aa3c-cde52404d4c8"
   },
   "outputs": [
    {
     "name": "stdout",
     "output_type": "stream",
     "text": [
      "TRAIN SET\n",
      "(17780, 256, 256, 3)\n",
      "(17780, 256, 256, 1)\n",
      "TEST SET\n",
      "(4446, 256, 256, 3)\n",
      "(4446, 256, 256, 1)\n"
     ]
    }
   ],
   "source": [
    "from sklearn.model_selection import train_test_split\n",
    "train_images, test_images, train_masks, test_masks = train_test_split(images, masks, test_size=0.2, random_state=seed)\n",
    "del images, masks\n",
    "print(\"TRAIN SET\")\n",
    "print(train_images.shape)\n",
    "print(train_masks.shape)\n",
    "print(\"TEST SET\")\n",
    "print(test_images.shape)\n",
    "print(test_masks.shape)"
   ]
  },
  {
   "cell_type": "markdown",
   "metadata": {
    "colab_type": "text",
    "id": "icu1-GbRxkor"
   },
   "source": [
    "## Defining Our Model"
   ]
  },
  {
   "cell_type": "code",
   "execution_count": 0,
   "metadata": {
    "colab": {},
    "colab_type": "code",
    "id": "RAw-OnW57dm9"
   },
   "outputs": [],
   "source": [
    "from keras.models import Model, load_model\n",
    "import tensorflow as tf\n",
    "from keras.layers import Input\n",
    "from keras.layers.core import Dropout, Lambda\n",
    "from keras.layers.convolutional import Conv2D, Conv2DTranspose\n",
    "from keras.layers.pooling import MaxPooling2D\n",
    "from keras.layers.merge import concatenate\n",
    "from keras import optimizers\n",
    "from keras.layers import BatchNormalization\n",
    "from tensorflow.keras.metrics import MeanIoU\n",
    "import keras"
   ]
  },
  {
   "cell_type": "code",
   "execution_count": 0,
   "metadata": {
    "colab": {
     "base_uri": "https://localhost:8080/",
     "height": 1000
    },
    "colab_type": "code",
    "id": "jRN88N68SB2k",
    "outputId": "543f26e6-e7f6-4ece-c1d8-dde4d9e0b19a"
   },
   "outputs": [
    {
     "name": "stdout",
     "output_type": "stream",
     "text": [
      "WARNING:tensorflow:From /usr/local/lib/python3.6/dist-packages/keras/backend/tensorflow_backend.py:66: The name tf.get_default_graph is deprecated. Please use tf.compat.v1.get_default_graph instead.\n",
      "\n",
      "WARNING:tensorflow:From /usr/local/lib/python3.6/dist-packages/keras/backend/tensorflow_backend.py:541: The name tf.placeholder is deprecated. Please use tf.compat.v1.placeholder instead.\n",
      "\n",
      "WARNING:tensorflow:From /usr/local/lib/python3.6/dist-packages/keras/backend/tensorflow_backend.py:4479: The name tf.truncated_normal is deprecated. Please use tf.random.truncated_normal instead.\n",
      "\n",
      "WARNING:tensorflow:From /usr/local/lib/python3.6/dist-packages/keras/backend/tensorflow_backend.py:190: The name tf.get_default_session is deprecated. Please use tf.compat.v1.get_default_session instead.\n",
      "\n",
      "WARNING:tensorflow:From /usr/local/lib/python3.6/dist-packages/keras/backend/tensorflow_backend.py:197: The name tf.ConfigProto is deprecated. Please use tf.compat.v1.ConfigProto instead.\n",
      "\n",
      "WARNING:tensorflow:From /usr/local/lib/python3.6/dist-packages/keras/backend/tensorflow_backend.py:203: The name tf.Session is deprecated. Please use tf.compat.v1.Session instead.\n",
      "\n",
      "WARNING:tensorflow:From /usr/local/lib/python3.6/dist-packages/keras/backend/tensorflow_backend.py:207: The name tf.global_variables is deprecated. Please use tf.compat.v1.global_variables instead.\n",
      "\n",
      "WARNING:tensorflow:From /usr/local/lib/python3.6/dist-packages/keras/backend/tensorflow_backend.py:216: The name tf.is_variable_initialized is deprecated. Please use tf.compat.v1.is_variable_initialized instead.\n",
      "\n",
      "WARNING:tensorflow:From /usr/local/lib/python3.6/dist-packages/keras/backend/tensorflow_backend.py:223: The name tf.variables_initializer is deprecated. Please use tf.compat.v1.variables_initializer instead.\n",
      "\n",
      "WARNING:tensorflow:From /usr/local/lib/python3.6/dist-packages/keras/backend/tensorflow_backend.py:2041: The name tf.nn.fused_batch_norm is deprecated. Please use tf.compat.v1.nn.fused_batch_norm instead.\n",
      "\n",
      "WARNING:tensorflow:From /usr/local/lib/python3.6/dist-packages/keras/backend/tensorflow_backend.py:148: The name tf.placeholder_with_default is deprecated. Please use tf.compat.v1.placeholder_with_default instead.\n",
      "\n",
      "WARNING:tensorflow:From /usr/local/lib/python3.6/dist-packages/keras/backend/tensorflow_backend.py:3733: calling dropout (from tensorflow.python.ops.nn_ops) with keep_prob is deprecated and will be removed in a future version.\n",
      "Instructions for updating:\n",
      "Please use `rate` instead of `keep_prob`. Rate should be set to `rate = 1 - keep_prob`.\n",
      "WARNING:tensorflow:From /usr/local/lib/python3.6/dist-packages/keras/backend/tensorflow_backend.py:4267: The name tf.nn.max_pool is deprecated. Please use tf.nn.max_pool2d instead.\n",
      "\n",
      "WARNING:tensorflow:From /usr/local/lib/python3.6/dist-packages/keras/backend/tensorflow_backend.py:4432: The name tf.random_uniform is deprecated. Please use tf.random.uniform instead.\n",
      "\n",
      "Model: \"model_1\"\n",
      "__________________________________________________________________________________________________\n",
      "Layer (type)                    Output Shape         Param #     Connected to                     \n",
      "==================================================================================================\n",
      "input_1 (InputLayer)            (None, 256, 256, 3)  0                                            \n",
      "__________________________________________________________________________________________________\n",
      "conv2d_1 (Conv2D)               (None, 256, 256, 16) 448         input_1[0][0]                    \n",
      "__________________________________________________________________________________________________\n",
      "batch_normalization_1 (BatchNor (None, 256, 256, 16) 64          conv2d_1[0][0]                   \n",
      "__________________________________________________________________________________________________\n",
      "dropout_1 (Dropout)             (None, 256, 256, 16) 0           batch_normalization_1[0][0]      \n",
      "__________________________________________________________________________________________________\n",
      "conv2d_2 (Conv2D)               (None, 256, 256, 16) 2320        dropout_1[0][0]                  \n",
      "__________________________________________________________________________________________________\n",
      "batch_normalization_2 (BatchNor (None, 256, 256, 16) 64          conv2d_2[0][0]                   \n",
      "__________________________________________________________________________________________________\n",
      "max_pooling2d_1 (MaxPooling2D)  (None, 128, 128, 16) 0           batch_normalization_2[0][0]      \n",
      "__________________________________________________________________________________________________\n",
      "conv2d_3 (Conv2D)               (None, 128, 128, 32) 4640        max_pooling2d_1[0][0]            \n",
      "__________________________________________________________________________________________________\n",
      "batch_normalization_3 (BatchNor (None, 128, 128, 32) 128         conv2d_3[0][0]                   \n",
      "__________________________________________________________________________________________________\n",
      "dropout_2 (Dropout)             (None, 128, 128, 32) 0           batch_normalization_3[0][0]      \n",
      "__________________________________________________________________________________________________\n",
      "conv2d_4 (Conv2D)               (None, 128, 128, 32) 9248        dropout_2[0][0]                  \n",
      "__________________________________________________________________________________________________\n",
      "batch_normalization_4 (BatchNor (None, 128, 128, 32) 128         conv2d_4[0][0]                   \n",
      "__________________________________________________________________________________________________\n",
      "max_pooling2d_2 (MaxPooling2D)  (None, 64, 64, 32)   0           batch_normalization_4[0][0]      \n",
      "__________________________________________________________________________________________________\n",
      "conv2d_5 (Conv2D)               (None, 64, 64, 64)   18496       max_pooling2d_2[0][0]            \n",
      "__________________________________________________________________________________________________\n",
      "batch_normalization_5 (BatchNor (None, 64, 64, 64)   256         conv2d_5[0][0]                   \n",
      "__________________________________________________________________________________________________\n",
      "dropout_3 (Dropout)             (None, 64, 64, 64)   0           batch_normalization_5[0][0]      \n",
      "__________________________________________________________________________________________________\n",
      "conv2d_6 (Conv2D)               (None, 64, 64, 64)   36928       dropout_3[0][0]                  \n",
      "__________________________________________________________________________________________________\n",
      "batch_normalization_6 (BatchNor (None, 64, 64, 64)   256         conv2d_6[0][0]                   \n",
      "__________________________________________________________________________________________________\n",
      "max_pooling2d_3 (MaxPooling2D)  (None, 32, 32, 64)   0           batch_normalization_6[0][0]      \n",
      "__________________________________________________________________________________________________\n",
      "conv2d_7 (Conv2D)               (None, 32, 32, 128)  73856       max_pooling2d_3[0][0]            \n",
      "__________________________________________________________________________________________________\n",
      "batch_normalization_7 (BatchNor (None, 32, 32, 128)  512         conv2d_7[0][0]                   \n",
      "__________________________________________________________________________________________________\n",
      "dropout_4 (Dropout)             (None, 32, 32, 128)  0           batch_normalization_7[0][0]      \n",
      "__________________________________________________________________________________________________\n",
      "conv2d_8 (Conv2D)               (None, 32, 32, 128)  147584      dropout_4[0][0]                  \n",
      "__________________________________________________________________________________________________\n",
      "batch_normalization_8 (BatchNor (None, 32, 32, 128)  512         conv2d_8[0][0]                   \n",
      "__________________________________________________________________________________________________\n",
      "max_pooling2d_4 (MaxPooling2D)  (None, 16, 16, 128)  0           batch_normalization_8[0][0]      \n",
      "__________________________________________________________________________________________________\n",
      "conv2d_9 (Conv2D)               (None, 16, 16, 256)  295168      max_pooling2d_4[0][0]            \n",
      "__________________________________________________________________________________________________\n",
      "batch_normalization_9 (BatchNor (None, 16, 16, 256)  1024        conv2d_9[0][0]                   \n",
      "__________________________________________________________________________________________________\n",
      "dropout_5 (Dropout)             (None, 16, 16, 256)  0           batch_normalization_9[0][0]      \n",
      "__________________________________________________________________________________________________\n",
      "conv2d_10 (Conv2D)              (None, 16, 16, 256)  590080      dropout_5[0][0]                  \n",
      "__________________________________________________________________________________________________\n",
      "batch_normalization_10 (BatchNo (None, 16, 16, 256)  1024        conv2d_10[0][0]                  \n",
      "__________________________________________________________________________________________________\n",
      "conv2d_transpose_1 (Conv2DTrans (None, 32, 32, 128)  131200      batch_normalization_10[0][0]     \n",
      "__________________________________________________________________________________________________\n",
      "concatenate_1 (Concatenate)     (None, 32, 32, 256)  0           conv2d_transpose_1[0][0]         \n",
      "                                                                 batch_normalization_8[0][0]      \n",
      "__________________________________________________________________________________________________\n",
      "conv2d_11 (Conv2D)              (None, 32, 32, 128)  295040      concatenate_1[0][0]              \n",
      "__________________________________________________________________________________________________\n",
      "batch_normalization_11 (BatchNo (None, 32, 32, 128)  512         conv2d_11[0][0]                  \n",
      "__________________________________________________________________________________________________\n",
      "dropout_6 (Dropout)             (None, 32, 32, 128)  0           batch_normalization_11[0][0]     \n",
      "__________________________________________________________________________________________________\n",
      "conv2d_12 (Conv2D)              (None, 32, 32, 128)  147584      dropout_6[0][0]                  \n",
      "__________________________________________________________________________________________________\n",
      "batch_normalization_12 (BatchNo (None, 32, 32, 128)  512         conv2d_12[0][0]                  \n",
      "__________________________________________________________________________________________________\n",
      "conv2d_transpose_2 (Conv2DTrans (None, 64, 64, 64)   32832       batch_normalization_12[0][0]     \n",
      "__________________________________________________________________________________________________\n",
      "concatenate_2 (Concatenate)     (None, 64, 64, 128)  0           conv2d_transpose_2[0][0]         \n",
      "                                                                 batch_normalization_6[0][0]      \n",
      "__________________________________________________________________________________________________\n",
      "conv2d_13 (Conv2D)              (None, 64, 64, 64)   73792       concatenate_2[0][0]              \n",
      "__________________________________________________________________________________________________\n",
      "batch_normalization_13 (BatchNo (None, 64, 64, 64)   256         conv2d_13[0][0]                  \n",
      "__________________________________________________________________________________________________\n",
      "dropout_7 (Dropout)             (None, 64, 64, 64)   0           batch_normalization_13[0][0]     \n",
      "__________________________________________________________________________________________________\n",
      "conv2d_14 (Conv2D)              (None, 64, 64, 64)   36928       dropout_7[0][0]                  \n",
      "__________________________________________________________________________________________________\n",
      "batch_normalization_14 (BatchNo (None, 64, 64, 64)   256         conv2d_14[0][0]                  \n",
      "__________________________________________________________________________________________________\n",
      "conv2d_transpose_3 (Conv2DTrans (None, 128, 128, 32) 8224        batch_normalization_14[0][0]     \n",
      "__________________________________________________________________________________________________\n",
      "concatenate_3 (Concatenate)     (None, 128, 128, 64) 0           conv2d_transpose_3[0][0]         \n",
      "                                                                 batch_normalization_4[0][0]      \n",
      "__________________________________________________________________________________________________\n",
      "conv2d_15 (Conv2D)              (None, 128, 128, 32) 18464       concatenate_3[0][0]              \n",
      "__________________________________________________________________________________________________\n",
      "batch_normalization_15 (BatchNo (None, 128, 128, 32) 128         conv2d_15[0][0]                  \n",
      "__________________________________________________________________________________________________\n",
      "dropout_8 (Dropout)             (None, 128, 128, 32) 0           batch_normalization_15[0][0]     \n",
      "__________________________________________________________________________________________________\n",
      "conv2d_16 (Conv2D)              (None, 128, 128, 32) 9248        dropout_8[0][0]                  \n",
      "__________________________________________________________________________________________________\n",
      "batch_normalization_16 (BatchNo (None, 128, 128, 32) 128         conv2d_16[0][0]                  \n",
      "__________________________________________________________________________________________________\n",
      "conv2d_transpose_4 (Conv2DTrans (None, 256, 256, 16) 2064        batch_normalization_16[0][0]     \n",
      "__________________________________________________________________________________________________\n",
      "concatenate_4 (Concatenate)     (None, 256, 256, 32) 0           conv2d_transpose_4[0][0]         \n",
      "                                                                 batch_normalization_2[0][0]      \n",
      "__________________________________________________________________________________________________\n",
      "conv2d_17 (Conv2D)              (None, 256, 256, 16) 4624        concatenate_4[0][0]              \n",
      "__________________________________________________________________________________________________\n",
      "batch_normalization_17 (BatchNo (None, 256, 256, 16) 64          conv2d_17[0][0]                  \n",
      "__________________________________________________________________________________________________\n",
      "dropout_9 (Dropout)             (None, 256, 256, 16) 0           batch_normalization_17[0][0]     \n",
      "__________________________________________________________________________________________________\n",
      "conv2d_18 (Conv2D)              (None, 256, 256, 16) 2320        dropout_9[0][0]                  \n",
      "__________________________________________________________________________________________________\n",
      "batch_normalization_18 (BatchNo (None, 256, 256, 16) 64          conv2d_18[0][0]                  \n",
      "__________________________________________________________________________________________________\n",
      "conv2d_19 (Conv2D)              (None, 256, 256, 1)  17          batch_normalization_18[0][0]     \n",
      "==================================================================================================\n",
      "Total params: 1,946,993\n",
      "Trainable params: 1,944,049\n",
      "Non-trainable params: 2,944\n",
      "__________________________________________________________________________________________________\n"
     ]
    }
   ],
   "source": [
    "inputs = Input((IMAGE_HEIGHT, IMAGE_WIDTH, 3))\n",
    "s = Lambda(lambda x: x / 255) (inputs)\n",
    "\n",
    "conv1 = Conv2D(16, (3, 3), activation='elu', kernel_initializer='he_normal', padding='same') (inputs)\n",
    "conv1 = BatchNormalization() (conv1)\n",
    "conv1 = Dropout(0.1) (conv1)\n",
    "conv1 = Conv2D(16, (3, 3), activation='elu', kernel_initializer='he_normal', padding='same') (conv1)\n",
    "conv1 = BatchNormalization() (conv1)\n",
    "pooling1 = MaxPooling2D((2, 2)) (conv1)\n",
    "\n",
    "conv2 = Conv2D(32, (3, 3), activation='elu', kernel_initializer='he_normal', padding='same') (pooling1)\n",
    "conv2 = BatchNormalization() (conv2)\n",
    "conv2 = Dropout(0.1) (conv2)\n",
    "conv2 = Conv2D(32, (3, 3), activation='elu', kernel_initializer='he_normal', padding='same') (conv2)\n",
    "conv2 = BatchNormalization() (conv2)\n",
    "pooling2 = MaxPooling2D((2, 2)) (conv2)\n",
    "\n",
    "conv3 = Conv2D(64, (3, 3), activation='elu', kernel_initializer='he_normal', padding='same') (pooling2)\n",
    "conv3 = BatchNormalization() (conv3)\n",
    "conv3 = Dropout(0.2) (conv3)\n",
    "conv3 = Conv2D(64, (3, 3), activation='elu', kernel_initializer='he_normal', padding='same') (conv3)\n",
    "conv3 = BatchNormalization() (conv3)\n",
    "pooling3 = MaxPooling2D((2, 2)) (conv3)\n",
    "\n",
    "conv4 = Conv2D(128, (3, 3), activation='elu', kernel_initializer='he_normal', padding='same') (pooling3)\n",
    "conv4 = BatchNormalization() (conv4)\n",
    "conv4 = Dropout(0.2) (conv4)\n",
    "conv4 = Conv2D(128, (3, 3), activation='elu', kernel_initializer='he_normal', padding='same') (conv4)\n",
    "conv4 = BatchNormalization() (conv4)\n",
    "pooling4 = MaxPooling2D(pool_size=(2, 2)) (conv4)\n",
    "\n",
    "conv5 = Conv2D(256, (3, 3), activation='elu', kernel_initializer='he_normal', padding='same') (pooling4)\n",
    "conv5 = BatchNormalization() (conv5)\n",
    "conv5 = Dropout(0.3) (conv5)\n",
    "conv5 = Conv2D(256, (3, 3), activation='elu', kernel_initializer='he_normal', padding='same') (conv5)\n",
    "conv5 = BatchNormalization() (conv5)\n",
    "\n",
    "\n",
    "upsample6 = Conv2DTranspose(128, (2, 2), strides=(2, 2), padding='same') (conv5)\n",
    "upsample6 = concatenate([upsample6, conv4])\n",
    "conv6 = Conv2D(128, (3, 3), activation='elu', kernel_initializer='he_normal', padding='same') (upsample6)\n",
    "conv6 = BatchNormalization() (conv6)\n",
    "conv6 = Dropout(0.2) (conv6)\n",
    "conv6 = Conv2D(128, (3, 3), activation='elu', kernel_initializer='he_normal', padding='same') (conv6)\n",
    "conv6 = BatchNormalization() (conv6)\n",
    "\n",
    "upsample7 = Conv2DTranspose(64, (2, 2), strides=(2, 2), padding='same') (conv6)\n",
    "upsample7 = concatenate([upsample7, conv3])\n",
    "conv7 = Conv2D(64, (3, 3), activation='elu', kernel_initializer='he_normal', padding='same') (upsample7)\n",
    "conv7 = BatchNormalization() (conv7)\n",
    "conv7 = Dropout(0.2) (conv7)\n",
    "conv7 = Conv2D(64, (3, 3), activation='elu', kernel_initializer='he_normal', padding='same') (conv7)\n",
    "conv7 = BatchNormalization() (conv7)\n",
    "\n",
    "upsample8 = Conv2DTranspose(32, (2, 2), strides=(2, 2), padding='same') (conv7)\n",
    "upsample8 = concatenate([upsample8, conv2])\n",
    "conv8 = Conv2D(32, (3, 3), activation='elu', kernel_initializer='he_normal', padding='same') (upsample8)\n",
    "conv8 = BatchNormalization() (conv8)\n",
    "conv8 = Dropout(0.1) (conv8)\n",
    "conv8 = Conv2D(32, (3, 3), activation='elu', kernel_initializer='he_normal', padding='same') (conv8)\n",
    "conv8 = BatchNormalization() (conv8)\n",
    "\n",
    "upsample9 = Conv2DTranspose(16, (2, 2), strides=(2, 2), padding='same') (conv8)\n",
    "upsample9 = concatenate([upsample9, conv1], axis=3)\n",
    "conv9 = Conv2D(16, (3, 3), activation='elu', kernel_initializer='he_normal', padding='same') (upsample9)\n",
    "conv9 = BatchNormalization() (conv9)\n",
    "conv9 = Dropout(0.1) (conv9)\n",
    "conv9 = Conv2D(16, (3, 3), activation='elu', kernel_initializer='he_normal', padding='same') (conv9)\n",
    "conv9 = BatchNormalization() (conv9)\n",
    "\n",
    "outputs = Conv2D(1, (1, 1), activation='sigmoid') (conv9)\n",
    "\n",
    "model = Model(inputs=[inputs], outputs=[outputs])\n",
    "model.summary()"
   ]
  },
  {
   "cell_type": "markdown",
   "metadata": {
    "colab_type": "text",
    "id": "PrmWnkYJB8uj"
   },
   "source": [
    "### HYPER_PARAMETERS"
   ]
  },
  {
   "cell_type": "code",
   "execution_count": 0,
   "metadata": {
    "colab": {},
    "colab_type": "code",
    "id": "SbnY2mIDDVZN"
   },
   "outputs": [],
   "source": [
    "EPOCHS = 100\n",
    "LEARNING_RATE = 0.0001\n",
    "BATCH_SIZE = 16"
   ]
  },
  {
   "cell_type": "markdown",
   "metadata": {
    "colab_type": "text",
    "id": "PvDS_wY7D9sq"
   },
   "source": [
    "### Initializing Callbacks"
   ]
  },
  {
   "cell_type": "code",
   "execution_count": 0,
   "metadata": {
    "colab": {},
    "colab_type": "code",
    "id": "Au-ZS3kKEs5V"
   },
   "outputs": [],
   "source": [
    "from keras.callbacks import EarlyStopping, ModelCheckpoint, ReduceLROnPlateau\n",
    "from datetime import datetime"
   ]
  },
  {
   "cell_type": "code",
   "execution_count": 0,
   "metadata": {
    "colab": {},
    "colab_type": "code",
    "id": "Y3e-jHbcDTxb"
   },
   "outputs": [],
   "source": [
    "model_path = \"./Models/road_mapper_2.h5\"\n",
    "checkpointer = ModelCheckpoint(model_path,\n",
    "                             monitor=\"val_loss\",\n",
    "                             mode=\"min\",\n",
    "                             save_best_only = True,\n",
    "                             verbose=1)\n",
    "\n",
    "earlystopper = EarlyStopping(monitor = 'val_loss', \n",
    "                          min_delta = 0, \n",
    "                          patience = 5,\n",
    "                          verbose = 1,\n",
    "                          restore_best_weights = True)\n",
    "\n",
    "lr_reducer = ReduceLROnPlateau(monitor='val_loss',\n",
    "                               factor=0.1,\n",
    "                               patience=4,\n",
    "                               verbose=1,\n",
    "                               epsilon=1e-4)"
   ]
  },
  {
   "cell_type": "markdown",
   "metadata": {
    "colab_type": "text",
    "id": "e6sX2f-L_UrQ"
   },
   "source": [
    "### Compiling the model"
   ]
  },
  {
   "cell_type": "code",
   "execution_count": 0,
   "metadata": {
    "colab": {},
    "colab_type": "code",
    "id": "BSW1jCBF-_R5"
   },
   "outputs": [],
   "source": [
    "opt = keras.optimizers.adam(LEARNING_RATE)\n",
    "model.compile(\n",
    "      optimizer=opt,\n",
    "      loss=soft_dice_loss,\n",
    "      metrics=[iou_coef])"
   ]
  },
  {
   "cell_type": "code",
   "execution_count": 0,
   "metadata": {
    "colab": {
     "base_uri": "https://localhost:8080/",
     "height": 1000
    },
    "colab_type": "code",
    "id": "IGWiqayxBYpv",
    "outputId": "c19db73e-ab47-4d87-9166-643885b7cdae"
   },
   "outputs": [
    {
     "name": "stdout",
     "output_type": "stream",
     "text": [
      "WARNING:tensorflow:From /usr/local/lib/python3.6/dist-packages/keras/backend/tensorflow_backend.py:1033: The name tf.assign_add is deprecated. Please use tf.compat.v1.assign_add instead.\n",
      "\n",
      "WARNING:tensorflow:From /usr/local/lib/python3.6/dist-packages/keras/backend/tensorflow_backend.py:1020: The name tf.assign is deprecated. Please use tf.compat.v1.assign instead.\n",
      "\n",
      "Train on 16002 samples, validate on 1778 samples\n",
      "WARNING:tensorflow:From /usr/local/lib/python3.6/dist-packages/tensorboardcolab/core.py:49: The name tf.summary.FileWriter is deprecated. Please use tf.compat.v1.summary.FileWriter instead.\n",
      "\n",
      "WARNING:tensorflow:From /usr/local/lib/python3.6/dist-packages/keras/callbacks.py:1122: The name tf.summary.merge_all is deprecated. Please use tf.compat.v1.summary.merge_all instead.\n",
      "\n",
      "Epoch 1/100\n",
      "16002/16002 [==============================] - 142s 9ms/step - loss: 0.6747 - iou_coef: 0.1851 - val_loss: 0.4917 - val_iou_coef: 0.3107\n",
      "\n",
      "Epoch 00001: val_loss improved from inf to 0.49170, saving model to ./Models/road_mapper_2.h5\n",
      "WARNING:tensorflow:From /usr/local/lib/python3.6/dist-packages/tensorboardcolab/callbacks.py:51: The name tf.Summary is deprecated. Please use tf.compat.v1.Summary instead.\n",
      "\n",
      "Epoch 2/100\n",
      "16002/16002 [==============================] - 133s 8ms/step - loss: 0.4489 - iou_coef: 0.3512 - val_loss: 0.3822 - val_iou_coef: 0.4068\n",
      "\n",
      "Epoch 00002: val_loss improved from 0.49170 to 0.38215, saving model to ./Models/road_mapper_2.h5\n",
      "Epoch 3/100\n",
      "16002/16002 [==============================] - 133s 8ms/step - loss: 0.3432 - iou_coef: 0.4540 - val_loss: 0.3216 - val_iou_coef: 0.4796\n",
      "\n",
      "Epoch 00003: val_loss improved from 0.38215 to 0.32158, saving model to ./Models/road_mapper_2.h5\n",
      "Epoch 4/100\n",
      "16002/16002 [==============================] - 133s 8ms/step - loss: 0.3077 - iou_coef: 0.4985 - val_loss: 0.2941 - val_iou_coef: 0.5123\n",
      "\n",
      "Epoch 00004: val_loss improved from 0.32158 to 0.29405, saving model to ./Models/road_mapper_2.h5\n",
      "Epoch 5/100\n",
      "16002/16002 [==============================] - 133s 8ms/step - loss: 0.2925 - iou_coef: 0.5191 - val_loss: 0.2806 - val_iou_coef: 0.5289\n",
      "\n",
      "Epoch 00005: val_loss improved from 0.29405 to 0.28058, saving model to ./Models/road_mapper_2.h5\n",
      "Epoch 6/100\n",
      "16002/16002 [==============================] - 133s 8ms/step - loss: 0.2828 - iou_coef: 0.5318 - val_loss: 0.2757 - val_iou_coef: 0.5375\n",
      "\n",
      "Epoch 00006: val_loss improved from 0.28058 to 0.27573, saving model to ./Models/road_mapper_2.h5\n",
      "Epoch 7/100\n",
      "16002/16002 [==============================] - 133s 8ms/step - loss: 0.2765 - iou_coef: 0.5394 - val_loss: 0.2678 - val_iou_coef: 0.5435\n",
      "\n",
      "Epoch 00007: val_loss improved from 0.27573 to 0.26782, saving model to ./Models/road_mapper_2.h5\n",
      "Epoch 8/100\n",
      "16002/16002 [==============================] - 133s 8ms/step - loss: 0.2718 - iou_coef: 0.5466 - val_loss: 0.2659 - val_iou_coef: 0.5507\n",
      "\n",
      "Epoch 00008: val_loss improved from 0.26782 to 0.26590, saving model to ./Models/road_mapper_2.h5\n",
      "Epoch 9/100\n",
      "16002/16002 [==============================] - 133s 8ms/step - loss: 0.2677 - iou_coef: 0.5514 - val_loss: 0.2666 - val_iou_coef: 0.5504\n",
      "\n",
      "Epoch 00009: val_loss did not improve from 0.26590\n",
      "Epoch 10/100\n",
      "16002/16002 [==============================] - 133s 8ms/step - loss: 0.2653 - iou_coef: 0.5548 - val_loss: 0.2611 - val_iou_coef: 0.5550\n",
      "\n",
      "Epoch 00010: val_loss improved from 0.26590 to 0.26108, saving model to ./Models/road_mapper_2.h5\n",
      "Epoch 11/100\n",
      "16002/16002 [==============================] - 133s 8ms/step - loss: 0.2618 - iou_coef: 0.5600 - val_loss: 0.2610 - val_iou_coef: 0.5589\n",
      "\n",
      "Epoch 00011: val_loss improved from 0.26108 to 0.26105, saving model to ./Models/road_mapper_2.h5\n",
      "Epoch 12/100\n",
      "16002/16002 [==============================] - 133s 8ms/step - loss: 0.2593 - iou_coef: 0.5627 - val_loss: 0.2578 - val_iou_coef: 0.5574\n",
      "\n",
      "Epoch 00012: val_loss improved from 0.26105 to 0.25783, saving model to ./Models/road_mapper_2.h5\n",
      "Epoch 13/100\n",
      "16002/16002 [==============================] - 133s 8ms/step - loss: 0.2565 - iou_coef: 0.5662 - val_loss: 0.2568 - val_iou_coef: 0.5612\n",
      "\n",
      "Epoch 00013: val_loss improved from 0.25783 to 0.25681, saving model to ./Models/road_mapper_2.h5\n",
      "Epoch 14/100\n",
      "16002/16002 [==============================] - 133s 8ms/step - loss: 0.2546 - iou_coef: 0.5684 - val_loss: 0.2547 - val_iou_coef: 0.5668\n",
      "\n",
      "Epoch 00014: val_loss improved from 0.25681 to 0.25468, saving model to ./Models/road_mapper_2.h5\n",
      "Epoch 15/100\n",
      "16002/16002 [==============================] - 133s 8ms/step - loss: 0.2529 - iou_coef: 0.5712 - val_loss: 0.2519 - val_iou_coef: 0.5675\n",
      "\n",
      "Epoch 00015: val_loss improved from 0.25468 to 0.25193, saving model to ./Models/road_mapper_2.h5\n",
      "Epoch 16/100\n",
      "16002/16002 [==============================] - 133s 8ms/step - loss: 0.2502 - iou_coef: 0.5740 - val_loss: 0.2516 - val_iou_coef: 0.5693\n",
      "\n",
      "Epoch 00016: val_loss improved from 0.25193 to 0.25160, saving model to ./Models/road_mapper_2.h5\n",
      "Epoch 17/100\n",
      "16002/16002 [==============================] - 133s 8ms/step - loss: 0.2487 - iou_coef: 0.5762 - val_loss: 0.2515 - val_iou_coef: 0.5685\n",
      "\n",
      "Epoch 00017: val_loss improved from 0.25160 to 0.25150, saving model to ./Models/road_mapper_2.h5\n",
      "Epoch 18/100\n",
      "16002/16002 [==============================] - 133s 8ms/step - loss: 0.2472 - iou_coef: 0.5779 - val_loss: 0.2515 - val_iou_coef: 0.5660\n",
      "\n",
      "Epoch 00018: val_loss improved from 0.25150 to 0.25149, saving model to ./Models/road_mapper_2.h5\n",
      "Epoch 19/100\n",
      "16002/16002 [==============================] - 132s 8ms/step - loss: 0.2455 - iou_coef: 0.5810 - val_loss: 0.2504 - val_iou_coef: 0.5690\n",
      "\n",
      "Epoch 00019: val_loss improved from 0.25149 to 0.25044, saving model to ./Models/road_mapper_2.h5\n",
      "Epoch 20/100\n",
      "16002/16002 [==============================] - 132s 8ms/step - loss: 0.2441 - iou_coef: 0.5823 - val_loss: 0.2480 - val_iou_coef: 0.5751\n",
      "\n",
      "Epoch 00020: val_loss improved from 0.25044 to 0.24797, saving model to ./Models/road_mapper_2.h5\n",
      "Epoch 21/100\n",
      "16002/16002 [==============================] - 132s 8ms/step - loss: 0.2418 - iou_coef: 0.5854 - val_loss: 0.2471 - val_iou_coef: 0.5763\n",
      "\n",
      "Epoch 00021: val_loss improved from 0.24797 to 0.24705, saving model to ./Models/road_mapper_2.h5\n",
      "Epoch 22/100\n",
      "16002/16002 [==============================] - 133s 8ms/step - loss: 0.2405 - iou_coef: 0.5867 - val_loss: 0.2470 - val_iou_coef: 0.5761\n",
      "\n",
      "Epoch 00022: val_loss improved from 0.24705 to 0.24701, saving model to ./Models/road_mapper_2.h5\n",
      "Epoch 23/100\n",
      "16002/16002 [==============================] - 133s 8ms/step - loss: 0.2391 - iou_coef: 0.5892 - val_loss: 0.2465 - val_iou_coef: 0.5781\n",
      "\n",
      "Epoch 00023: val_loss improved from 0.24701 to 0.24647, saving model to ./Models/road_mapper_2.h5\n",
      "Epoch 24/100\n",
      "16002/16002 [==============================] - 133s 8ms/step - loss: 0.2377 - iou_coef: 0.5899 - val_loss: 0.2456 - val_iou_coef: 0.5771\n",
      "\n",
      "Epoch 00024: val_loss improved from 0.24647 to 0.24565, saving model to ./Models/road_mapper_2.h5\n",
      "Epoch 25/100\n",
      "16002/16002 [==============================] - 133s 8ms/step - loss: 0.2368 - iou_coef: 0.5918 - val_loss: 0.2442 - val_iou_coef: 0.5802\n",
      "\n",
      "Epoch 00025: val_loss improved from 0.24565 to 0.24416, saving model to ./Models/road_mapper_2.h5\n",
      "Epoch 26/100\n",
      "16002/16002 [==============================] - 133s 8ms/step - loss: 0.2352 - iou_coef: 0.5939 - val_loss: 0.2432 - val_iou_coef: 0.5797\n",
      "\n",
      "Epoch 00026: val_loss improved from 0.24416 to 0.24322, saving model to ./Models/road_mapper_2.h5\n",
      "Epoch 27/100\n",
      "16002/16002 [==============================] - 133s 8ms/step - loss: 0.2345 - iou_coef: 0.5947 - val_loss: 0.2433 - val_iou_coef: 0.5817\n",
      "\n",
      "Epoch 00027: val_loss did not improve from 0.24322\n",
      "Epoch 28/100\n",
      "16002/16002 [==============================] - 133s 8ms/step - loss: 0.2324 - iou_coef: 0.5973 - val_loss: 0.2420 - val_iou_coef: 0.5821\n",
      "\n",
      "Epoch 00028: val_loss improved from 0.24322 to 0.24204, saving model to ./Models/road_mapper_2.h5\n",
      "Epoch 29/100\n",
      "16002/16002 [==============================] - 133s 8ms/step - loss: 0.2316 - iou_coef: 0.5988 - val_loss: 0.2428 - val_iou_coef: 0.5816\n",
      "\n",
      "Epoch 00029: val_loss did not improve from 0.24204\n",
      "Epoch 30/100\n",
      "16002/16002 [==============================] - 133s 8ms/step - loss: 0.2306 - iou_coef: 0.6001 - val_loss: 0.2431 - val_iou_coef: 0.5806\n",
      "\n",
      "Epoch 00030: val_loss did not improve from 0.24204\n",
      "Epoch 31/100\n",
      "16002/16002 [==============================] - 133s 8ms/step - loss: 0.2295 - iou_coef: 0.6012 - val_loss: 0.2439 - val_iou_coef: 0.5827\n",
      "\n",
      "Epoch 00031: val_loss did not improve from 0.24204\n",
      "Epoch 32/100\n",
      "16002/16002 [==============================] - 133s 8ms/step - loss: 0.2286 - iou_coef: 0.6035 - val_loss: 0.2405 - val_iou_coef: 0.5861\n",
      "\n",
      "Epoch 00032: val_loss improved from 0.24204 to 0.24045, saving model to ./Models/road_mapper_2.h5\n",
      "Epoch 33/100\n",
      "16002/16002 [==============================] - 133s 8ms/step - loss: 0.2268 - iou_coef: 0.6048 - val_loss: 0.2424 - val_iou_coef: 0.5818\n",
      "\n",
      "Epoch 00033: val_loss did not improve from 0.24045\n",
      "Epoch 34/100\n",
      "16002/16002 [==============================] - 133s 8ms/step - loss: 0.2262 - iou_coef: 0.6061 - val_loss: 0.2406 - val_iou_coef: 0.5846\n",
      "\n",
      "Epoch 00034: val_loss did not improve from 0.24045\n",
      "Epoch 35/100\n",
      "16002/16002 [==============================] - 133s 8ms/step - loss: 0.2248 - iou_coef: 0.6073 - val_loss: 0.2402 - val_iou_coef: 0.5839\n",
      "\n",
      "Epoch 00035: val_loss improved from 0.24045 to 0.24020, saving model to ./Models/road_mapper_2.h5\n",
      "Epoch 36/100\n",
      "16002/16002 [==============================] - 133s 8ms/step - loss: 0.2234 - iou_coef: 0.6096 - val_loss: 0.2401 - val_iou_coef: 0.5824\n",
      "\n",
      "Epoch 00036: val_loss improved from 0.24020 to 0.24011, saving model to ./Models/road_mapper_2.h5\n",
      "Epoch 37/100\n",
      "16002/16002 [==============================] - 133s 8ms/step - loss: 0.2228 - iou_coef: 0.6104 - val_loss: 0.2408 - val_iou_coef: 0.5835\n",
      "\n",
      "Epoch 00037: val_loss did not improve from 0.24011\n",
      "Epoch 38/100\n",
      "16002/16002 [==============================] - 133s 8ms/step - loss: 0.2214 - iou_coef: 0.6119 - val_loss: 0.2403 - val_iou_coef: 0.5858\n",
      "\n",
      "Epoch 00038: val_loss did not improve from 0.24011\n",
      "Epoch 39/100\n",
      "16002/16002 [==============================] - 133s 8ms/step - loss: 0.2213 - iou_coef: 0.6128 - val_loss: 0.2389 - val_iou_coef: 0.5865\n",
      "\n",
      "Epoch 00039: val_loss improved from 0.24011 to 0.23886, saving model to ./Models/road_mapper_2.h5\n",
      "Epoch 40/100\n",
      "16002/16002 [==============================] - 133s 8ms/step - loss: 0.2203 - iou_coef: 0.6138 - val_loss: 0.2396 - val_iou_coef: 0.5854\n",
      "\n",
      "Epoch 00040: val_loss did not improve from 0.23886\n",
      "Epoch 41/100\n",
      "16002/16002 [==============================] - 133s 8ms/step - loss: 0.2189 - iou_coef: 0.6155 - val_loss: 0.2389 - val_iou_coef: 0.5872\n",
      "\n",
      "Epoch 00041: val_loss did not improve from 0.23886\n",
      "Epoch 42/100\n",
      "16002/16002 [==============================] - 133s 8ms/step - loss: 0.2181 - iou_coef: 0.6170 - val_loss: 0.2373 - val_iou_coef: 0.5891\n",
      "\n",
      "Epoch 00042: val_loss improved from 0.23886 to 0.23733, saving model to ./Models/road_mapper_2.h5\n",
      "Epoch 43/100\n",
      "16002/16002 [==============================] - 133s 8ms/step - loss: 0.2167 - iou_coef: 0.6192 - val_loss: 0.2383 - val_iou_coef: 0.5894\n",
      "\n",
      "Epoch 00043: val_loss did not improve from 0.23733\n",
      "Epoch 44/100\n",
      "16002/16002 [==============================] - 133s 8ms/step - loss: 0.2167 - iou_coef: 0.6189 - val_loss: 0.2399 - val_iou_coef: 0.5872\n",
      "\n",
      "Epoch 00044: val_loss did not improve from 0.23733\n",
      "Epoch 45/100\n",
      "16002/16002 [==============================] - 133s 8ms/step - loss: 0.2149 - iou_coef: 0.6212 - val_loss: 0.2371 - val_iou_coef: 0.5911\n",
      "\n",
      "Epoch 00045: val_loss improved from 0.23733 to 0.23707, saving model to ./Models/road_mapper_2.h5\n",
      "Epoch 46/100\n",
      "16002/16002 [==============================] - 133s 8ms/step - loss: 0.2142 - iou_coef: 0.6217 - val_loss: 0.2377 - val_iou_coef: 0.5907\n",
      "\n",
      "Epoch 00046: val_loss did not improve from 0.23707\n",
      "Epoch 47/100\n",
      "16002/16002 [==============================] - 133s 8ms/step - loss: 0.2135 - iou_coef: 0.6227 - val_loss: 0.2373 - val_iou_coef: 0.5885\n",
      "\n",
      "Epoch 00047: val_loss did not improve from 0.23707\n",
      "Epoch 48/100\n",
      "16002/16002 [==============================] - 133s 8ms/step - loss: 0.2129 - iou_coef: 0.6236 - val_loss: 0.2389 - val_iou_coef: 0.5870\n",
      "\n",
      "Epoch 00048: val_loss did not improve from 0.23707\n",
      "Epoch 49/100\n",
      "16002/16002 [==============================] - 133s 8ms/step - loss: 0.2120 - iou_coef: 0.6249 - val_loss: 0.2379 - val_iou_coef: 0.5891\n",
      "\n",
      "Epoch 00049: val_loss did not improve from 0.23707\n",
      "\n",
      "Epoch 00049: ReduceLROnPlateau reducing learning rate to 9.999999747378752e-06.\n",
      "Epoch 50/100\n",
      "16002/16002 [==============================] - 133s 8ms/step - loss: 0.2072 - iou_coef: 0.6316 - val_loss: 0.2356 - val_iou_coef: 0.5931\n",
      "\n",
      "Epoch 00050: val_loss improved from 0.23707 to 0.23562, saving model to ./Models/road_mapper_2.h5\n",
      "Epoch 51/100\n",
      "16002/16002 [==============================] - 134s 8ms/step - loss: 0.2064 - iou_coef: 0.6330 - val_loss: 0.2355 - val_iou_coef: 0.5932\n",
      "\n",
      "Epoch 00051: val_loss improved from 0.23562 to 0.23550, saving model to ./Models/road_mapper_2.h5\n",
      "Epoch 52/100\n",
      "16002/16002 [==============================] - 134s 8ms/step - loss: 0.2056 - iou_coef: 0.6345 - val_loss: 0.2353 - val_iou_coef: 0.5934\n",
      "\n",
      "Epoch 00052: val_loss improved from 0.23550 to 0.23535, saving model to ./Models/road_mapper_2.h5\n",
      "Epoch 53/100\n",
      "16002/16002 [==============================] - 133s 8ms/step - loss: 0.2048 - iou_coef: 0.6347 - val_loss: 0.2354 - val_iou_coef: 0.5936\n",
      "\n",
      "Epoch 00053: val_loss did not improve from 0.23535\n",
      "Epoch 54/100\n",
      "16002/16002 [==============================] - 134s 8ms/step - loss: 0.2050 - iou_coef: 0.6357 - val_loss: 0.2353 - val_iou_coef: 0.5938\n",
      "\n",
      "Epoch 00054: val_loss improved from 0.23535 to 0.23527, saving model to ./Models/road_mapper_2.h5\n",
      "Epoch 55/100\n",
      "16002/16002 [==============================] - 133s 8ms/step - loss: 0.2047 - iou_coef: 0.6355 - val_loss: 0.2352 - val_iou_coef: 0.5933\n",
      "\n",
      "Epoch 00055: val_loss improved from 0.23527 to 0.23524, saving model to ./Models/road_mapper_2.h5\n",
      "Epoch 56/100\n",
      "16002/16002 [==============================] - 134s 8ms/step - loss: 0.2046 - iou_coef: 0.6362 - val_loss: 0.2353 - val_iou_coef: 0.5929\n",
      "\n",
      "Epoch 00056: val_loss did not improve from 0.23524\n",
      "Epoch 57/100\n",
      "16002/16002 [==============================] - 134s 8ms/step - loss: 0.2043 - iou_coef: 0.6364 - val_loss: 0.2352 - val_iou_coef: 0.5929\n",
      "\n",
      "Epoch 00057: val_loss did not improve from 0.23524\n",
      "Epoch 58/100\n",
      " 8912/16002 [===============>..............] - ETA: 56s - loss: 0.2034 - iou_coef: 0.6362Buffered data was truncated after reaching the output size limit."
     ]
    }
   ],
   "source": [
    "history = model.fit(train_images,\n",
    "                    train_masks/255,\n",
    "                    validation_split = 0.1,\n",
    "                    epochs=EPOCHS,\n",
    "                    batch_size = BATCH_SIZE,\n",
    "                    callbacks = [checkpointer, earlystopper, lr_reducer]\n",
    "                       )"
   ]
  }
 ],
 "metadata": {
  "accelerator": "GPU",
  "colab": {
   "collapsed_sections": [],
   "machine_shape": "hm",
   "name": "Road Detection - GPU.ipynb",
   "provenance": []
  },
  "kernelspec": {
   "display_name": "Python 3",
   "language": "python",
   "name": "python3"
  },
  "language_info": {
   "codemirror_mode": {
    "name": "ipython",
    "version": 3
   },
   "file_extension": ".py",
   "mimetype": "text/x-python",
   "name": "python",
   "nbconvert_exporter": "python",
   "pygments_lexer": "ipython3",
   "version": "3.6.9"
  }
 },
 "nbformat": 4,
 "nbformat_minor": 1
}
