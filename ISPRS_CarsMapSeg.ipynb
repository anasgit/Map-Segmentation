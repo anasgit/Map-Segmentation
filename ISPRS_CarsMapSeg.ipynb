{
  "nbformat": 4,
  "nbformat_minor": 0,
  "metadata": {
    "colab": {
      "name": "ISPRS CarsMapSeg.ipynb",
      "provenance": [],
      "collapsed_sections": [],
      "machine_shape": "hm",
      "authorship_tag": "ABX9TyP0CButaWJaWva+IB7WT2zI",
      "include_colab_link": true
    },
    "kernelspec": {
      "name": "python3",
      "display_name": "Python 3"
    },
    "accelerator": "GPU"
  },
  "cells": [
    {
      "cell_type": "markdown",
      "metadata": {
        "id": "view-in-github",
        "colab_type": "text"
      },
      "source": [
        "<a href=\"https://colab.research.google.com/github/parshwa1999/Map-Segmentation/blob/master/ISPRS_CarsMapSeg.ipynb\" target=\"_parent\"><img src=\"https://colab.research.google.com/assets/colab-badge.svg\" alt=\"Open In Colab\"/></a>"
      ]
    },
    {
      "cell_type": "markdown",
      "metadata": {
        "id": "EttPfqDEymfq",
        "colab_type": "text"
      },
      "source": [
        "#Semantic Segmentation of Aerial Images\n",
        "###Road Training"
      ]
    },
    {
      "cell_type": "markdown",
      "metadata": {
        "id": "yGkz_jLSz3_k",
        "colab_type": "text"
      },
      "source": [
        "####Mounting Google Drive"
      ]
    },
    {
      "cell_type": "code",
      "metadata": {
        "id": "jp1XESIw_CJP",
        "colab_type": "code",
        "outputId": "fb7cd983-5af6-41ad-9bd2-32ee0d619206",
        "colab": {
          "base_uri": "https://localhost:8080/",
          "height": 124
        }
      },
      "source": [
        "from google.colab import drive\n",
        "drive.mount('/content/gdrive/')\n",
        "base_path = \"gdrive/My\\ Drive/ISPRS/\""
      ],
      "execution_count": 1,
      "outputs": [
        {
          "output_type": "stream",
          "text": [
            "Go to this URL in a browser: https://accounts.google.com/o/oauth2/auth?client_id=947318989803-6bn6qk8qdgf4n4g3pfee6491hc0brc4i.apps.googleusercontent.com&redirect_uri=urn%3aietf%3awg%3aoauth%3a2.0%3aoob&response_type=code&scope=email%20https%3a%2f%2fwww.googleapis.com%2fauth%2fdocs.test%20https%3a%2f%2fwww.googleapis.com%2fauth%2fdrive%20https%3a%2f%2fwww.googleapis.com%2fauth%2fdrive.photos.readonly%20https%3a%2f%2fwww.googleapis.com%2fauth%2fpeopleapi.readonly\n",
            "\n",
            "Enter your authorization code:\n",
            "··········\n",
            "Mounted at /content/gdrive/\n"
          ],
          "name": "stdout"
        }
      ]
    },
    {
      "cell_type": "markdown",
      "metadata": {
        "id": "LmuIKqGIy03M",
        "colab_type": "text"
      },
      "source": [
        "####Importing Libraries"
      ]
    },
    {
      "cell_type": "code",
      "metadata": {
        "id": "xLs7ouvD_Ox8",
        "colab_type": "code",
        "colab": {}
      },
      "source": [
        "import cv2\n",
        "import numpy as np\n",
        "import h5py"
      ],
      "execution_count": 0,
      "outputs": []
    },
    {
      "cell_type": "code",
      "metadata": {
        "id": "Q_Wjplyd_O8g",
        "colab_type": "code",
        "colab": {
          "base_uri": "https://localhost:8080/",
          "height": 98
        },
        "outputId": "e5b70121-6fcd-4d6a-ef70-9d098fe55036"
      },
      "source": [
        "import tensorflow as tf\n",
        "from keras import backend as K"
      ],
      "execution_count": 3,
      "outputs": [
        {
          "output_type": "display_data",
          "data": {
            "text/html": [
              "<p style=\"color: red;\">\n",
              "The default version of TensorFlow in Colab will soon switch to TensorFlow 2.x.<br>\n",
              "We recommend you <a href=\"https://www.tensorflow.org/guide/migrate\" target=\"_blank\">upgrade</a> now \n",
              "or ensure your notebook will continue to use TensorFlow 1.x via the <code>%tensorflow_version 1.x</code> magic:\n",
              "<a href=\"https://colab.research.google.com/notebooks/tensorflow_version.ipynb\" target=\"_blank\">more info</a>.</p>\n"
            ],
            "text/plain": [
              "<IPython.core.display.HTML object>"
            ]
          },
          "metadata": {
            "tags": []
          }
        },
        {
          "output_type": "stream",
          "text": [
            "Using TensorFlow backend.\n"
          ],
          "name": "stderr"
        }
      ]
    },
    {
      "cell_type": "code",
      "metadata": {
        "id": "0aFHDPl3_PAe",
        "colab_type": "code",
        "colab": {}
      },
      "source": [
        "from keras.models import Model, load_model\n",
        "import tensorflow as tf\n",
        "from keras.layers import Input\n",
        "from keras.layers.core import Dropout, Lambda\n",
        "from keras.layers.convolutional import Conv2D, Conv2DTranspose\n",
        "from keras.layers.pooling import MaxPooling2D\n",
        "from keras.layers.merge import concatenate\n",
        "from keras import optimizers\n",
        "from keras.layers import BatchNormalization\n",
        "from tensorflow.keras.metrics import MeanIoU\n",
        "import keras\n",
        "\n",
        "from skimage import color\n",
        "import pickle"
      ],
      "execution_count": 0,
      "outputs": []
    },
    {
      "cell_type": "markdown",
      "metadata": {
        "id": "YblNbuv_zCsz",
        "colab_type": "text"
      },
      "source": [
        "\n",
        "####Read Data From h5 files"
      ]
    },
    {
      "cell_type": "code",
      "metadata": {
        "id": "2XHC2-Eb_PDV",
        "colab_type": "code",
        "outputId": "760c1e8d-2c1d-4c11-fd69-6bbaba7c184a",
        "colab": {
          "base_uri": "https://localhost:8080/",
          "height": 52
        }
      },
      "source": [
        "print(\"Labels\")\n",
        "h5f = h5py.File('/content/gdrive/My Drive/ISPRS/labels.h5','r')\n",
        "roadlabel = h5f['labels'][:]\n",
        "h5f.close()\n",
        "\n",
        "print(\"RGB\")\n",
        "h5f = h5py.File('/content/gdrive/My Drive/ISPRS/rgb.h5','r')\n",
        "road = h5f['rgb'][:]\n",
        "h5f.close()"
      ],
      "execution_count": 5,
      "outputs": [
        {
          "output_type": "stream",
          "text": [
            "Labels\n",
            "RGB\n"
          ],
          "name": "stdout"
        }
      ]
    },
    {
      "cell_type": "code",
      "metadata": {
        "colab_type": "code",
        "id": "tX5CGhQJyRMW",
        "outputId": "47f22156-c07b-4b52-81af-72f4f4657c74",
        "colab": {
          "base_uri": "https://localhost:8080/",
          "height": 52
        }
      },
      "source": [
        "#for i in range(road.shape[0]):\n",
        "#  cv2.imwrite(\"Road/\" + str(i) + \".png\", road[i])\n",
        "\n",
        "#for i in range(roadlabel.shape[0]):\n",
        "#  cv2.imwrite(\"RoadLabel/\" + str(i) + \".png\", roadlabel[i])\n",
        "\n",
        "print(roadlabel.shape)\n",
        "print(road.shape)\n"
      ],
      "execution_count": 6,
      "outputs": [
        {
          "output_type": "stream",
          "text": [
            "(20140, 256, 256, 3)\n",
            "(20140, 256, 256, 3)\n"
          ],
          "name": "stdout"
        }
      ]
    },
    {
      "cell_type": "markdown",
      "metadata": {
        "id": "S_FvtUV8zLLO",
        "colab_type": "text"
      },
      "source": [
        "####Loss Function"
      ]
    },
    {
      "cell_type": "code",
      "metadata": {
        "id": "UCQmMVMM_PIG",
        "colab_type": "code",
        "colab": {}
      },
      "source": [
        "def iou_coef(y_true, y_pred, smooth=1):\n",
        "  intersection = K.sum(K.abs(y_true * y_pred), axis=[1,2,3])\n",
        "  union = K.sum(y_true,[1,2,3])+K.sum(y_pred,[1,2,3])-intersection\n",
        "  iou = K.mean((intersection + smooth) / (union + smooth), axis=0)\n",
        "  return iou\n",
        "\n",
        "def dice_coef(y_true, y_pred, smooth = 1):\n",
        "    y_true_f = K.flatten(y_true)\n",
        "    y_pred_f = K.flatten(y_pred)\n",
        "    intersection = K.sum(y_true_f * y_pred_f)\n",
        "    return (2. * intersection + smooth) / (K.sum(y_true_f) + K.sum(y_pred_f) + smooth)\n",
        "\n",
        "def soft_dice_loss(y_true, y_pred):\n",
        "    return 1-dice_coef(y_true, y_pred)\n"
      ],
      "execution_count": 0,
      "outputs": []
    },
    {
      "cell_type": "markdown",
      "metadata": {
        "id": "h60tIIAZzUFk",
        "colab_type": "text"
      },
      "source": [
        "####Preprocecssing Data"
      ]
    },
    {
      "cell_type": "code",
      "metadata": {
        "id": "4zPNZMN8a-Pk",
        "colab_type": "code",
        "outputId": "b7312312-eae2-4b3f-9e5e-f05e58b582ca",
        "colab": {
          "base_uri": "https://localhost:8080/",
          "height": 34
        }
      },
      "source": [
        "lower_black = np.array([0,250,250], dtype = \"uint8\")\n",
        "upper_black = np.array([0,255,255], dtype = \"uint8\")\n",
        "\n",
        "roadlabelgray = []\n",
        "for i in range(roadlabel.shape[0]):\n",
        "  roadlabelgray.append(cv2.inRange(roadlabel[i], lower_black, upper_black))\n",
        "\n",
        "roadlabelgray = np.asarray(roadlabelgray)\n",
        "\n",
        "\n",
        "roadlabel = np.expand_dims(roadlabelgray, -1)\n",
        "print(roadlabel.shape)\n",
        "\n",
        "del roadlabelgray"
      ],
      "execution_count": 8,
      "outputs": [
        {
          "output_type": "stream",
          "text": [
            "(20140, 256, 256, 1)\n"
          ],
          "name": "stdout"
        }
      ]
    },
    {
      "cell_type": "code",
      "metadata": {
        "id": "wyK64qk8_3xS",
        "colab_type": "code",
        "colab": {}
      },
      "source": [
        "seed = 56\n",
        "IMAGE_HEIGHT = IMAGE_WIDTH = 256\n",
        "NUM_CHANNELS = 3"
      ],
      "execution_count": 0,
      "outputs": []
    },
    {
      "cell_type": "markdown",
      "metadata": {
        "id": "ifTwsREszadP",
        "colab_type": "text"
      },
      "source": [
        "####Model"
      ]
    },
    {
      "cell_type": "code",
      "metadata": {
        "id": "XpyukCaS_3_t",
        "colab_type": "code",
        "outputId": "96218d15-8e6a-45b2-b066-184b0fae060c",
        "colab": {
          "base_uri": "https://localhost:8080/",
          "height": 1000
        }
      },
      "source": [
        "\"\"\"\n",
        "Model\n",
        "\"\"\"\n",
        "\n",
        "inputs = Input((IMAGE_HEIGHT, IMAGE_WIDTH, 3))\n",
        "s = Lambda(lambda x: x / 255) (inputs)\n",
        "\n",
        "conv1 = Conv2D(16, (3, 3), activation='elu', kernel_initializer='he_normal', padding='same') (inputs)\n",
        "conv1 = BatchNormalization() (conv1)\n",
        "conv1 = Dropout(0.1) (conv1)\n",
        "conv1 = Conv2D(16, (3, 3), activation='elu', kernel_initializer='he_normal', padding='same') (conv1)\n",
        "conv1 = BatchNormalization() (conv1)\n",
        "pooling1 = MaxPooling2D((2, 2)) (conv1)\n",
        "\n",
        "conv2 = Conv2D(32, (3, 3), activation='elu', kernel_initializer='he_normal', padding='same') (pooling1)\n",
        "conv2 = BatchNormalization() (conv2)\n",
        "conv2 = Dropout(0.1) (conv2)\n",
        "conv2 = Conv2D(32, (3, 3), activation='elu', kernel_initializer='he_normal', padding='same') (conv2)\n",
        "conv2 = BatchNormalization() (conv2)\n",
        "pooling2 = MaxPooling2D((2, 2)) (conv2)\n",
        "\n",
        "conv3 = Conv2D(64, (3, 3), activation='elu', kernel_initializer='he_normal', padding='same') (pooling2)\n",
        "conv3 = BatchNormalization() (conv3)\n",
        "conv3 = Dropout(0.2) (conv3)\n",
        "conv3 = Conv2D(64, (3, 3), activation='elu', kernel_initializer='he_normal', padding='same') (conv3)\n",
        "conv3 = BatchNormalization() (conv3)\n",
        "pooling3 = MaxPooling2D((2, 2)) (conv3)\n",
        "\n",
        "conv4 = Conv2D(128, (3, 3), activation='elu', kernel_initializer='he_normal', padding='same') (pooling3)\n",
        "conv4 = BatchNormalization() (conv4)\n",
        "conv4 = Dropout(0.2) (conv4)\n",
        "conv4 = Conv2D(128, (3, 3), activation='elu', kernel_initializer='he_normal', padding='same') (conv4)\n",
        "conv4 = BatchNormalization() (conv4)\n",
        "pooling4 = MaxPooling2D(pool_size=(2, 2)) (conv4)\n",
        "\n",
        "conv5 = Conv2D(256, (3, 3), activation='elu', kernel_initializer='he_normal', padding='same') (pooling4)\n",
        "conv5 = BatchNormalization() (conv5)\n",
        "conv5 = Dropout(0.3) (conv5)\n",
        "conv5 = Conv2D(256, (3, 3), activation='elu', kernel_initializer='he_normal', padding='same') (conv5)\n",
        "conv5 = BatchNormalization() (conv5)\n",
        "\n",
        "\n",
        "upsample6 = Conv2DTranspose(128, (2, 2), strides=(2, 2), padding='same') (conv5)\n",
        "upsample6 = concatenate([upsample6, conv4])\n",
        "conv6 = Conv2D(128, (3, 3), activation='elu', kernel_initializer='he_normal', padding='same') (upsample6)\n",
        "conv6 = BatchNormalization() (conv6)\n",
        "conv6 = Dropout(0.2) (conv6)\n",
        "conv6 = Conv2D(128, (3, 3), activation='elu', kernel_initializer='he_normal', padding='same') (conv6)\n",
        "conv6 = BatchNormalization() (conv6)\n",
        "\n",
        "upsample7 = Conv2DTranspose(64, (2, 2), strides=(2, 2), padding='same') (conv6)\n",
        "upsample7 = concatenate([upsample7, conv3])\n",
        "conv7 = Conv2D(64, (3, 3), activation='elu', kernel_initializer='he_normal', padding='same') (upsample7)\n",
        "conv7 = BatchNormalization() (conv7)\n",
        "conv7 = Dropout(0.2) (conv7)\n",
        "conv7 = Conv2D(64, (3, 3), activation='elu', kernel_initializer='he_normal', padding='same') (conv7)\n",
        "conv7 = BatchNormalization() (conv7)\n",
        "\n",
        "upsample8 = Conv2DTranspose(32, (2, 2), strides=(2, 2), padding='same') (conv7)\n",
        "upsample8 = concatenate([upsample8, conv2])\n",
        "conv8 = Conv2D(32, (3, 3), activation='elu', kernel_initializer='he_normal', padding='same') (upsample8)\n",
        "conv8 = BatchNormalization() (conv8)\n",
        "conv8 = Dropout(0.1) (conv8)\n",
        "conv8 = Conv2D(32, (3, 3), activation='elu', kernel_initializer='he_normal', padding='same') (conv8)\n",
        "conv8 = BatchNormalization() (conv8)\n",
        "\n",
        "upsample9 = Conv2DTranspose(16, (2, 2), strides=(2, 2), padding='same') (conv8)\n",
        "upsample9 = concatenate([upsample9, conv1], axis=3)\n",
        "conv9 = Conv2D(16, (3, 3), activation='elu', kernel_initializer='he_normal', padding='same') (upsample9)\n",
        "conv9 = BatchNormalization() (conv9)\n",
        "conv9 = Dropout(0.1) (conv9)\n",
        "conv9 = Conv2D(16, (3, 3), activation='elu', kernel_initializer='he_normal', padding='same') (conv9)\n",
        "conv9 = BatchNormalization() (conv9)\n",
        "\n",
        "outputs = Conv2D(1, (1, 1), activation='sigmoid') (conv9)\n",
        "\n",
        "model = Model(inputs=[inputs], outputs=[outputs])\n",
        "model.summary()\n"
      ],
      "execution_count": 10,
      "outputs": [
        {
          "output_type": "stream",
          "text": [
            "WARNING:tensorflow:From /usr/local/lib/python3.6/dist-packages/keras/backend/tensorflow_backend.py:66: The name tf.get_default_graph is deprecated. Please use tf.compat.v1.get_default_graph instead.\n",
            "\n",
            "WARNING:tensorflow:From /usr/local/lib/python3.6/dist-packages/keras/backend/tensorflow_backend.py:541: The name tf.placeholder is deprecated. Please use tf.compat.v1.placeholder instead.\n",
            "\n",
            "WARNING:tensorflow:From /usr/local/lib/python3.6/dist-packages/keras/backend/tensorflow_backend.py:4479: The name tf.truncated_normal is deprecated. Please use tf.random.truncated_normal instead.\n",
            "\n",
            "WARNING:tensorflow:From /usr/local/lib/python3.6/dist-packages/keras/backend/tensorflow_backend.py:190: The name tf.get_default_session is deprecated. Please use tf.compat.v1.get_default_session instead.\n",
            "\n",
            "WARNING:tensorflow:From /usr/local/lib/python3.6/dist-packages/keras/backend/tensorflow_backend.py:197: The name tf.ConfigProto is deprecated. Please use tf.compat.v1.ConfigProto instead.\n",
            "\n",
            "WARNING:tensorflow:From /usr/local/lib/python3.6/dist-packages/keras/backend/tensorflow_backend.py:203: The name tf.Session is deprecated. Please use tf.compat.v1.Session instead.\n",
            "\n",
            "WARNING:tensorflow:From /usr/local/lib/python3.6/dist-packages/keras/backend/tensorflow_backend.py:207: The name tf.global_variables is deprecated. Please use tf.compat.v1.global_variables instead.\n",
            "\n",
            "WARNING:tensorflow:From /usr/local/lib/python3.6/dist-packages/keras/backend/tensorflow_backend.py:216: The name tf.is_variable_initialized is deprecated. Please use tf.compat.v1.is_variable_initialized instead.\n",
            "\n",
            "WARNING:tensorflow:From /usr/local/lib/python3.6/dist-packages/keras/backend/tensorflow_backend.py:223: The name tf.variables_initializer is deprecated. Please use tf.compat.v1.variables_initializer instead.\n",
            "\n",
            "WARNING:tensorflow:From /usr/local/lib/python3.6/dist-packages/keras/backend/tensorflow_backend.py:2041: The name tf.nn.fused_batch_norm is deprecated. Please use tf.compat.v1.nn.fused_batch_norm instead.\n",
            "\n",
            "WARNING:tensorflow:From /usr/local/lib/python3.6/dist-packages/keras/backend/tensorflow_backend.py:148: The name tf.placeholder_with_default is deprecated. Please use tf.compat.v1.placeholder_with_default instead.\n",
            "\n",
            "WARNING:tensorflow:From /usr/local/lib/python3.6/dist-packages/keras/backend/tensorflow_backend.py:3733: calling dropout (from tensorflow.python.ops.nn_ops) with keep_prob is deprecated and will be removed in a future version.\n",
            "Instructions for updating:\n",
            "Please use `rate` instead of `keep_prob`. Rate should be set to `rate = 1 - keep_prob`.\n",
            "WARNING:tensorflow:From /usr/local/lib/python3.6/dist-packages/keras/backend/tensorflow_backend.py:4267: The name tf.nn.max_pool is deprecated. Please use tf.nn.max_pool2d instead.\n",
            "\n",
            "WARNING:tensorflow:From /usr/local/lib/python3.6/dist-packages/keras/backend/tensorflow_backend.py:4432: The name tf.random_uniform is deprecated. Please use tf.random.uniform instead.\n",
            "\n",
            "Model: \"model_1\"\n",
            "__________________________________________________________________________________________________\n",
            "Layer (type)                    Output Shape         Param #     Connected to                     \n",
            "==================================================================================================\n",
            "input_1 (InputLayer)            (None, 256, 256, 3)  0                                            \n",
            "__________________________________________________________________________________________________\n",
            "conv2d_1 (Conv2D)               (None, 256, 256, 16) 448         input_1[0][0]                    \n",
            "__________________________________________________________________________________________________\n",
            "batch_normalization_1 (BatchNor (None, 256, 256, 16) 64          conv2d_1[0][0]                   \n",
            "__________________________________________________________________________________________________\n",
            "dropout_1 (Dropout)             (None, 256, 256, 16) 0           batch_normalization_1[0][0]      \n",
            "__________________________________________________________________________________________________\n",
            "conv2d_2 (Conv2D)               (None, 256, 256, 16) 2320        dropout_1[0][0]                  \n",
            "__________________________________________________________________________________________________\n",
            "batch_normalization_2 (BatchNor (None, 256, 256, 16) 64          conv2d_2[0][0]                   \n",
            "__________________________________________________________________________________________________\n",
            "max_pooling2d_1 (MaxPooling2D)  (None, 128, 128, 16) 0           batch_normalization_2[0][0]      \n",
            "__________________________________________________________________________________________________\n",
            "conv2d_3 (Conv2D)               (None, 128, 128, 32) 4640        max_pooling2d_1[0][0]            \n",
            "__________________________________________________________________________________________________\n",
            "batch_normalization_3 (BatchNor (None, 128, 128, 32) 128         conv2d_3[0][0]                   \n",
            "__________________________________________________________________________________________________\n",
            "dropout_2 (Dropout)             (None, 128, 128, 32) 0           batch_normalization_3[0][0]      \n",
            "__________________________________________________________________________________________________\n",
            "conv2d_4 (Conv2D)               (None, 128, 128, 32) 9248        dropout_2[0][0]                  \n",
            "__________________________________________________________________________________________________\n",
            "batch_normalization_4 (BatchNor (None, 128, 128, 32) 128         conv2d_4[0][0]                   \n",
            "__________________________________________________________________________________________________\n",
            "max_pooling2d_2 (MaxPooling2D)  (None, 64, 64, 32)   0           batch_normalization_4[0][0]      \n",
            "__________________________________________________________________________________________________\n",
            "conv2d_5 (Conv2D)               (None, 64, 64, 64)   18496       max_pooling2d_2[0][0]            \n",
            "__________________________________________________________________________________________________\n",
            "batch_normalization_5 (BatchNor (None, 64, 64, 64)   256         conv2d_5[0][0]                   \n",
            "__________________________________________________________________________________________________\n",
            "dropout_3 (Dropout)             (None, 64, 64, 64)   0           batch_normalization_5[0][0]      \n",
            "__________________________________________________________________________________________________\n",
            "conv2d_6 (Conv2D)               (None, 64, 64, 64)   36928       dropout_3[0][0]                  \n",
            "__________________________________________________________________________________________________\n",
            "batch_normalization_6 (BatchNor (None, 64, 64, 64)   256         conv2d_6[0][0]                   \n",
            "__________________________________________________________________________________________________\n",
            "max_pooling2d_3 (MaxPooling2D)  (None, 32, 32, 64)   0           batch_normalization_6[0][0]      \n",
            "__________________________________________________________________________________________________\n",
            "conv2d_7 (Conv2D)               (None, 32, 32, 128)  73856       max_pooling2d_3[0][0]            \n",
            "__________________________________________________________________________________________________\n",
            "batch_normalization_7 (BatchNor (None, 32, 32, 128)  512         conv2d_7[0][0]                   \n",
            "__________________________________________________________________________________________________\n",
            "dropout_4 (Dropout)             (None, 32, 32, 128)  0           batch_normalization_7[0][0]      \n",
            "__________________________________________________________________________________________________\n",
            "conv2d_8 (Conv2D)               (None, 32, 32, 128)  147584      dropout_4[0][0]                  \n",
            "__________________________________________________________________________________________________\n",
            "batch_normalization_8 (BatchNor (None, 32, 32, 128)  512         conv2d_8[0][0]                   \n",
            "__________________________________________________________________________________________________\n",
            "max_pooling2d_4 (MaxPooling2D)  (None, 16, 16, 128)  0           batch_normalization_8[0][0]      \n",
            "__________________________________________________________________________________________________\n",
            "conv2d_9 (Conv2D)               (None, 16, 16, 256)  295168      max_pooling2d_4[0][0]            \n",
            "__________________________________________________________________________________________________\n",
            "batch_normalization_9 (BatchNor (None, 16, 16, 256)  1024        conv2d_9[0][0]                   \n",
            "__________________________________________________________________________________________________\n",
            "dropout_5 (Dropout)             (None, 16, 16, 256)  0           batch_normalization_9[0][0]      \n",
            "__________________________________________________________________________________________________\n",
            "conv2d_10 (Conv2D)              (None, 16, 16, 256)  590080      dropout_5[0][0]                  \n",
            "__________________________________________________________________________________________________\n",
            "batch_normalization_10 (BatchNo (None, 16, 16, 256)  1024        conv2d_10[0][0]                  \n",
            "__________________________________________________________________________________________________\n",
            "conv2d_transpose_1 (Conv2DTrans (None, 32, 32, 128)  131200      batch_normalization_10[0][0]     \n",
            "__________________________________________________________________________________________________\n",
            "concatenate_1 (Concatenate)     (None, 32, 32, 256)  0           conv2d_transpose_1[0][0]         \n",
            "                                                                 batch_normalization_8[0][0]      \n",
            "__________________________________________________________________________________________________\n",
            "conv2d_11 (Conv2D)              (None, 32, 32, 128)  295040      concatenate_1[0][0]              \n",
            "__________________________________________________________________________________________________\n",
            "batch_normalization_11 (BatchNo (None, 32, 32, 128)  512         conv2d_11[0][0]                  \n",
            "__________________________________________________________________________________________________\n",
            "dropout_6 (Dropout)             (None, 32, 32, 128)  0           batch_normalization_11[0][0]     \n",
            "__________________________________________________________________________________________________\n",
            "conv2d_12 (Conv2D)              (None, 32, 32, 128)  147584      dropout_6[0][0]                  \n",
            "__________________________________________________________________________________________________\n",
            "batch_normalization_12 (BatchNo (None, 32, 32, 128)  512         conv2d_12[0][0]                  \n",
            "__________________________________________________________________________________________________\n",
            "conv2d_transpose_2 (Conv2DTrans (None, 64, 64, 64)   32832       batch_normalization_12[0][0]     \n",
            "__________________________________________________________________________________________________\n",
            "concatenate_2 (Concatenate)     (None, 64, 64, 128)  0           conv2d_transpose_2[0][0]         \n",
            "                                                                 batch_normalization_6[0][0]      \n",
            "__________________________________________________________________________________________________\n",
            "conv2d_13 (Conv2D)              (None, 64, 64, 64)   73792       concatenate_2[0][0]              \n",
            "__________________________________________________________________________________________________\n",
            "batch_normalization_13 (BatchNo (None, 64, 64, 64)   256         conv2d_13[0][0]                  \n",
            "__________________________________________________________________________________________________\n",
            "dropout_7 (Dropout)             (None, 64, 64, 64)   0           batch_normalization_13[0][0]     \n",
            "__________________________________________________________________________________________________\n",
            "conv2d_14 (Conv2D)              (None, 64, 64, 64)   36928       dropout_7[0][0]                  \n",
            "__________________________________________________________________________________________________\n",
            "batch_normalization_14 (BatchNo (None, 64, 64, 64)   256         conv2d_14[0][0]                  \n",
            "__________________________________________________________________________________________________\n",
            "conv2d_transpose_3 (Conv2DTrans (None, 128, 128, 32) 8224        batch_normalization_14[0][0]     \n",
            "__________________________________________________________________________________________________\n",
            "concatenate_3 (Concatenate)     (None, 128, 128, 64) 0           conv2d_transpose_3[0][0]         \n",
            "                                                                 batch_normalization_4[0][0]      \n",
            "__________________________________________________________________________________________________\n",
            "conv2d_15 (Conv2D)              (None, 128, 128, 32) 18464       concatenate_3[0][0]              \n",
            "__________________________________________________________________________________________________\n",
            "batch_normalization_15 (BatchNo (None, 128, 128, 32) 128         conv2d_15[0][0]                  \n",
            "__________________________________________________________________________________________________\n",
            "dropout_8 (Dropout)             (None, 128, 128, 32) 0           batch_normalization_15[0][0]     \n",
            "__________________________________________________________________________________________________\n",
            "conv2d_16 (Conv2D)              (None, 128, 128, 32) 9248        dropout_8[0][0]                  \n",
            "__________________________________________________________________________________________________\n",
            "batch_normalization_16 (BatchNo (None, 128, 128, 32) 128         conv2d_16[0][0]                  \n",
            "__________________________________________________________________________________________________\n",
            "conv2d_transpose_4 (Conv2DTrans (None, 256, 256, 16) 2064        batch_normalization_16[0][0]     \n",
            "__________________________________________________________________________________________________\n",
            "concatenate_4 (Concatenate)     (None, 256, 256, 32) 0           conv2d_transpose_4[0][0]         \n",
            "                                                                 batch_normalization_2[0][0]      \n",
            "__________________________________________________________________________________________________\n",
            "conv2d_17 (Conv2D)              (None, 256, 256, 16) 4624        concatenate_4[0][0]              \n",
            "__________________________________________________________________________________________________\n",
            "batch_normalization_17 (BatchNo (None, 256, 256, 16) 64          conv2d_17[0][0]                  \n",
            "__________________________________________________________________________________________________\n",
            "dropout_9 (Dropout)             (None, 256, 256, 16) 0           batch_normalization_17[0][0]     \n",
            "__________________________________________________________________________________________________\n",
            "conv2d_18 (Conv2D)              (None, 256, 256, 16) 2320        dropout_9[0][0]                  \n",
            "__________________________________________________________________________________________________\n",
            "batch_normalization_18 (BatchNo (None, 256, 256, 16) 64          conv2d_18[0][0]                  \n",
            "__________________________________________________________________________________________________\n",
            "conv2d_19 (Conv2D)              (None, 256, 256, 1)  17          batch_normalization_18[0][0]     \n",
            "==================================================================================================\n",
            "Total params: 1,946,993\n",
            "Trainable params: 1,944,049\n",
            "Non-trainable params: 2,944\n",
            "__________________________________________________________________________________________________\n"
          ],
          "name": "stdout"
        }
      ]
    },
    {
      "cell_type": "markdown",
      "metadata": {
        "id": "INigDuT8zjRt",
        "colab_type": "text"
      },
      "source": [
        "####Hyperparameters\n"
      ]
    },
    {
      "cell_type": "code",
      "metadata": {
        "id": "MXT5cJEy_PMc",
        "colab_type": "code",
        "colab": {}
      },
      "source": [
        "LEARNING_RATE = 0.0001\n",
        "BATCH_SIZE = 64"
      ],
      "execution_count": 0,
      "outputs": []
    },
    {
      "cell_type": "markdown",
      "metadata": {
        "id": "m1bbgBHNzxPs",
        "colab_type": "text"
      },
      "source": [
        "####Path to save Model"
      ]
    },
    {
      "cell_type": "code",
      "metadata": {
        "id": "m4vsmUTqAAh_",
        "colab_type": "code",
        "colab": {}
      },
      "source": [
        "model_path = \"/content/gdrive/My Drive/ISPRS/Models/cars.h5\""
      ],
      "execution_count": 0,
      "outputs": []
    },
    {
      "cell_type": "markdown",
      "metadata": {
        "id": "_sPbOLWJzo99",
        "colab_type": "text"
      },
      "source": [
        "####Callbacks"
      ]
    },
    {
      "cell_type": "code",
      "metadata": {
        "id": "xKH7fxFPAAfW",
        "colab_type": "code",
        "outputId": "d870faca-9bce-4edd-e891-53acb900defe",
        "colab": {
          "base_uri": "https://localhost:8080/",
          "height": 69
        }
      },
      "source": [
        "from tensorboardcolab import TensorBoardColab, TensorBoardColabCallback\n",
        "tbc=TensorBoardColab()"
      ],
      "execution_count": 13,
      "outputs": [
        {
          "output_type": "stream",
          "text": [
            "Wait for 8 seconds...\n",
            "TensorBoard link:\n",
            "https://11d68fd2.ngrok.io\n"
          ],
          "name": "stdout"
        }
      ]
    },
    {
      "cell_type": "code",
      "metadata": {
        "id": "MTbz0llbAAkM",
        "colab_type": "code",
        "colab": {}
      },
      "source": [
        "from keras.callbacks import ModelCheckpoint, ReduceLROnPlateau, EarlyStopping\n",
        "from datetime import datetime\n",
        "\n",
        "checkpointer = ModelCheckpoint(model_path,\n",
        "                             monitor=\"val_loss\",\n",
        "                             mode=\"min\",\n",
        "                             save_best_only = True,\n",
        "                             verbose=1)"
      ],
      "execution_count": 0,
      "outputs": []
    },
    {
      "cell_type": "code",
      "metadata": {
        "id": "OMdYZwNvAAmA",
        "colab_type": "code",
        "colab": {}
      },
      "source": [
        "earlystopper = EarlyStopping(monitor = 'val_loss', \n",
        "                             min_delta = 0, \n",
        "                             patience = 5,\n",
        "                             mode='auto',\n",
        "                            restore_best_weights = True)"
      ],
      "execution_count": 0,
      "outputs": []
    },
    {
      "cell_type": "code",
      "metadata": {
        "id": "M4bKCiiPAVvX",
        "colab_type": "code",
        "outputId": "31b259bd-0da4-4fd8-abcb-2344fbe7eda9",
        "colab": {
          "base_uri": "https://localhost:8080/",
          "height": 72
        }
      },
      "source": [
        "lr_reducer = ReduceLROnPlateau(monitor='val_loss',\n",
        "                               factor=0.1,\n",
        "                               patience=4,\n",
        "                               verbose=1,\n",
        "                               epsilon=1e-4)"
      ],
      "execution_count": 16,
      "outputs": [
        {
          "output_type": "stream",
          "text": [
            "/usr/local/lib/python3.6/dist-packages/keras/callbacks.py:1335: UserWarning: `epsilon` argument is deprecated and will be removed, use `min_delta` instead.\n",
            "  warnings.warn('`epsilon` argument is deprecated and '\n"
          ],
          "name": "stderr"
        }
      ]
    },
    {
      "cell_type": "markdown",
      "metadata": {
        "id": "Kn9dywIv0CGD",
        "colab_type": "text"
      },
      "source": [
        "####Compile Model"
      ]
    },
    {
      "cell_type": "code",
      "metadata": {
        "id": "KrgM5RWvAVzq",
        "colab_type": "code",
        "outputId": "8f181c5b-ee07-4dca-d914-aa0d24f8c94f",
        "colab": {
          "base_uri": "https://localhost:8080/",
          "height": 72
        }
      },
      "source": [
        "opt = keras.optimizers.adam(LEARNING_RATE)\n",
        "model.compile(\n",
        "      optimizer=opt,\n",
        "      loss=soft_dice_loss,\n",
        "      metrics=[iou_coef])   "
      ],
      "execution_count": 17,
      "outputs": [
        {
          "output_type": "stream",
          "text": [
            "WARNING:tensorflow:From /usr/local/lib/python3.6/dist-packages/keras/optimizers.py:793: The name tf.train.Optimizer is deprecated. Please use tf.compat.v1.train.Optimizer instead.\n",
            "\n"
          ],
          "name": "stdout"
        }
      ]
    },
    {
      "cell_type": "code",
      "metadata": {
        "id": "iRxH6o6AAV95",
        "colab_type": "code",
        "outputId": "b6927346-ace9-4507-8c99-e6330139c68e",
        "colab": {
          "base_uri": "https://localhost:8080/",
          "height": 1000
        }
      },
      "source": [
        "history = model.fit(road,\n",
        "                    roadlabel/255,\n",
        "                    validation_split = 0.1,\n",
        "                    epochs=100,\n",
        "                    batch_size = BATCH_SIZE,\n",
        "                    callbacks = [checkpointer, earlystopper, lr_reducer, TensorBoardColabCallback(tbc)]\n",
        "                       )\n",
        "\n",
        "with open(\"/content/gdrive/My Drive/ISPRS/Models/cars_history.pickle\", 'wb') as f:\n",
        "    pickle.dump(history, f)"
      ],
      "execution_count": 18,
      "outputs": [
        {
          "output_type": "stream",
          "text": [
            "WARNING:tensorflow:From /usr/local/lib/python3.6/dist-packages/keras/backend/tensorflow_backend.py:1033: The name tf.assign_add is deprecated. Please use tf.compat.v1.assign_add instead.\n",
            "\n",
            "WARNING:tensorflow:From /usr/local/lib/python3.6/dist-packages/keras/backend/tensorflow_backend.py:1020: The name tf.assign is deprecated. Please use tf.compat.v1.assign instead.\n",
            "\n",
            "Train on 18126 samples, validate on 2014 samples\n",
            "WARNING:tensorflow:From /usr/local/lib/python3.6/dist-packages/tensorboardcolab/core.py:49: The name tf.summary.FileWriter is deprecated. Please use tf.compat.v1.summary.FileWriter instead.\n",
            "\n",
            "WARNING:tensorflow:From /usr/local/lib/python3.6/dist-packages/keras/callbacks.py:1122: The name tf.summary.merge_all is deprecated. Please use tf.compat.v1.summary.merge_all instead.\n",
            "\n",
            "Epoch 1/100\n",
            "18126/18126 [==============================] - 152s 8ms/step - loss: 0.8987 - iou_coef: 0.0459 - val_loss: 0.7611 - val_iou_coef: 0.0844\n",
            "\n",
            "Epoch 00001: val_loss improved from inf to 0.76113, saving model to /content/gdrive/My Drive/ISPRS/Models/cars.h5\n",
            "WARNING:tensorflow:From /usr/local/lib/python3.6/dist-packages/tensorboardcolab/callbacks.py:51: The name tf.Summary is deprecated. Please use tf.compat.v1.Summary instead.\n",
            "\n",
            "Epoch 2/100\n",
            "18126/18126 [==============================] - 139s 8ms/step - loss: 0.8495 - iou_coef: 0.0585 - val_loss: 0.7409 - val_iou_coef: 0.0873\n",
            "\n",
            "Epoch 00002: val_loss improved from 0.76113 to 0.74091, saving model to /content/gdrive/My Drive/ISPRS/Models/cars.h5\n",
            "Epoch 3/100\n",
            "18126/18126 [==============================] - 139s 8ms/step - loss: 0.8056 - iou_coef: 0.0686 - val_loss: 0.7137 - val_iou_coef: 0.0949\n",
            "\n",
            "Epoch 00003: val_loss improved from 0.74091 to 0.71366, saving model to /content/gdrive/My Drive/ISPRS/Models/cars.h5\n",
            "Epoch 4/100\n",
            "18126/18126 [==============================] - 139s 8ms/step - loss: 0.7479 - iou_coef: 0.0817 - val_loss: 0.7286 - val_iou_coef: 0.0908\n",
            "\n",
            "Epoch 00004: val_loss did not improve from 0.71366\n",
            "Epoch 5/100\n",
            "18126/18126 [==============================] - 139s 8ms/step - loss: 0.6689 - iou_coef: 0.0995 - val_loss: 0.7854 - val_iou_coef: 0.0794\n",
            "\n",
            "Epoch 00005: val_loss did not improve from 0.71366\n",
            "Epoch 6/100\n",
            "18126/18126 [==============================] - 139s 8ms/step - loss: 0.5650 - iou_coef: 0.1217 - val_loss: 0.6362 - val_iou_coef: 0.1171\n",
            "\n",
            "Epoch 00006: val_loss improved from 0.71366 to 0.63616, saving model to /content/gdrive/My Drive/ISPRS/Models/cars.h5\n",
            "Epoch 7/100\n",
            "18126/18126 [==============================] - 139s 8ms/step - loss: 0.4587 - iou_coef: 0.1435 - val_loss: 0.4014 - val_iou_coef: 0.1636\n",
            "\n",
            "Epoch 00007: val_loss improved from 0.63616 to 0.40140, saving model to /content/gdrive/My Drive/ISPRS/Models/cars.h5\n",
            "Epoch 8/100\n",
            "18126/18126 [==============================] - 139s 8ms/step - loss: 0.3668 - iou_coef: 0.1607 - val_loss: 0.2909 - val_iou_coef: 0.1811\n",
            "\n",
            "Epoch 00008: val_loss improved from 0.40140 to 0.29088, saving model to /content/gdrive/My Drive/ISPRS/Models/cars.h5\n",
            "Epoch 9/100\n",
            "18126/18126 [==============================] - 139s 8ms/step - loss: 0.3007 - iou_coef: 0.1730 - val_loss: 0.2978 - val_iou_coef: 0.1932\n",
            "\n",
            "Epoch 00009: val_loss did not improve from 0.29088\n",
            "Epoch 10/100\n",
            "18126/18126 [==============================] - 139s 8ms/step - loss: 0.2559 - iou_coef: 0.1812 - val_loss: 0.2811 - val_iou_coef: 0.1983\n",
            "\n",
            "Epoch 00010: val_loss improved from 0.29088 to 0.28112, saving model to /content/gdrive/My Drive/ISPRS/Models/cars.h5\n",
            "Epoch 11/100\n",
            "18126/18126 [==============================] - 138s 8ms/step - loss: 0.2257 - iou_coef: 0.1870 - val_loss: 0.2179 - val_iou_coef: 0.2040\n",
            "\n",
            "Epoch 00011: val_loss improved from 0.28112 to 0.21787, saving model to /content/gdrive/My Drive/ISPRS/Models/cars.h5\n",
            "Epoch 12/100\n",
            "18126/18126 [==============================] - 138s 8ms/step - loss: 0.2077 - iou_coef: 0.1918 - val_loss: 0.2112 - val_iou_coef: 0.2075\n",
            "\n",
            "Epoch 00012: val_loss improved from 0.21787 to 0.21115, saving model to /content/gdrive/My Drive/ISPRS/Models/cars.h5\n",
            "Epoch 13/100\n",
            "18126/18126 [==============================] - 139s 8ms/step - loss: 0.1867 - iou_coef: 0.1985 - val_loss: 0.1909 - val_iou_coef: 0.2093\n",
            "\n",
            "Epoch 00013: val_loss improved from 0.21115 to 0.19087, saving model to /content/gdrive/My Drive/ISPRS/Models/cars.h5\n",
            "Epoch 14/100\n",
            "18126/18126 [==============================] - 139s 8ms/step - loss: 0.1841 - iou_coef: 0.2011 - val_loss: 0.2033 - val_iou_coef: 0.2137\n",
            "\n",
            "Epoch 00014: val_loss did not improve from 0.19087\n",
            "Epoch 15/100\n",
            "18126/18126 [==============================] - 138s 8ms/step - loss: 0.1701 - iou_coef: 0.2066 - val_loss: 0.1784 - val_iou_coef: 0.2180\n",
            "\n",
            "Epoch 00015: val_loss improved from 0.19087 to 0.17839, saving model to /content/gdrive/My Drive/ISPRS/Models/cars.h5\n",
            "Epoch 16/100\n",
            "18126/18126 [==============================] - 139s 8ms/step - loss: 0.1667 - iou_coef: 0.2111 - val_loss: 0.1714 - val_iou_coef: 0.2303\n",
            "\n",
            "Epoch 00016: val_loss improved from 0.17839 to 0.17141, saving model to /content/gdrive/My Drive/ISPRS/Models/cars.h5\n",
            "Epoch 17/100\n",
            "18126/18126 [==============================] - 139s 8ms/step - loss: 0.1585 - iou_coef: 0.2187 - val_loss: 0.1760 - val_iou_coef: 0.2285\n",
            "\n",
            "Epoch 00017: val_loss did not improve from 0.17141\n",
            "Epoch 18/100\n",
            "18126/18126 [==============================] - 138s 8ms/step - loss: 0.1541 - iou_coef: 0.2244 - val_loss: 0.1650 - val_iou_coef: 0.2394\n",
            "\n",
            "Epoch 00018: val_loss improved from 0.17141 to 0.16496, saving model to /content/gdrive/My Drive/ISPRS/Models/cars.h5\n",
            "Epoch 19/100\n",
            "18126/18126 [==============================] - 139s 8ms/step - loss: 0.1514 - iou_coef: 0.2326 - val_loss: 0.1789 - val_iou_coef: 0.2456\n",
            "\n",
            "Epoch 00019: val_loss did not improve from 0.16496\n",
            "Epoch 20/100\n",
            "18126/18126 [==============================] - 139s 8ms/step - loss: 0.1455 - iou_coef: 0.2396 - val_loss: 0.1615 - val_iou_coef: 0.2474\n",
            "\n",
            "Epoch 00020: val_loss improved from 0.16496 to 0.16150, saving model to /content/gdrive/My Drive/ISPRS/Models/cars.h5\n",
            "Epoch 21/100\n",
            "18126/18126 [==============================] - 139s 8ms/step - loss: 0.1446 - iou_coef: 0.2497 - val_loss: 0.1676 - val_iou_coef: 0.2643\n",
            "\n",
            "Epoch 00021: val_loss did not improve from 0.16150\n",
            "Epoch 22/100\n",
            "18126/18126 [==============================] - 139s 8ms/step - loss: 0.1414 - iou_coef: 0.2584 - val_loss: 0.1600 - val_iou_coef: 0.2664\n",
            "\n",
            "Epoch 00022: val_loss improved from 0.16150 to 0.16001, saving model to /content/gdrive/My Drive/ISPRS/Models/cars.h5\n",
            "Epoch 23/100\n",
            "18126/18126 [==============================] - 139s 8ms/step - loss: 0.1401 - iou_coef: 0.2695 - val_loss: 0.1606 - val_iou_coef: 0.2756\n",
            "\n",
            "Epoch 00023: val_loss did not improve from 0.16001\n",
            "Epoch 24/100\n",
            "18126/18126 [==============================] - 139s 8ms/step - loss: 0.1372 - iou_coef: 0.2828 - val_loss: 0.1865 - val_iou_coef: 0.2877\n",
            "\n",
            "Epoch 00024: val_loss did not improve from 0.16001\n",
            "Epoch 25/100\n",
            "18126/18126 [==============================] - 139s 8ms/step - loss: 0.1368 - iou_coef: 0.2952 - val_loss: 0.1734 - val_iou_coef: 0.3030\n",
            "\n",
            "Epoch 00025: val_loss did not improve from 0.16001\n",
            "Epoch 26/100\n",
            "18126/18126 [==============================] - 139s 8ms/step - loss: 0.1310 - iou_coef: 0.3119 - val_loss: 0.1548 - val_iou_coef: 0.3191\n",
            "\n",
            "Epoch 00026: val_loss improved from 0.16001 to 0.15481, saving model to /content/gdrive/My Drive/ISPRS/Models/cars.h5\n",
            "Epoch 27/100\n",
            "18126/18126 [==============================] - 139s 8ms/step - loss: 0.1323 - iou_coef: 0.3251 - val_loss: 0.1823 - val_iou_coef: 0.3290\n",
            "\n",
            "Epoch 00027: val_loss did not improve from 0.15481\n",
            "Epoch 28/100\n",
            "18126/18126 [==============================] - 139s 8ms/step - loss: 0.1324 - iou_coef: 0.3426 - val_loss: 0.1553 - val_iou_coef: 0.3605\n",
            "\n",
            "Epoch 00028: val_loss did not improve from 0.15481\n",
            "Epoch 29/100\n",
            "18126/18126 [==============================] - 139s 8ms/step - loss: 0.1273 - iou_coef: 0.3647 - val_loss: 0.1534 - val_iou_coef: 0.3702\n",
            "\n",
            "Epoch 00029: val_loss improved from 0.15481 to 0.15344, saving model to /content/gdrive/My Drive/ISPRS/Models/cars.h5\n",
            "Epoch 30/100\n",
            "18126/18126 [==============================] - 139s 8ms/step - loss: 0.1313 - iou_coef: 0.3812 - val_loss: 0.1486 - val_iou_coef: 0.3972\n",
            "\n",
            "Epoch 00030: val_loss improved from 0.15344 to 0.14859, saving model to /content/gdrive/My Drive/ISPRS/Models/cars.h5\n",
            "Epoch 31/100\n",
            "18126/18126 [==============================] - 139s 8ms/step - loss: 0.1303 - iou_coef: 0.4049 - val_loss: 0.1700 - val_iou_coef: 0.4036\n",
            "\n",
            "Epoch 00031: val_loss did not improve from 0.14859\n",
            "Epoch 32/100\n",
            "18126/18126 [==============================] - 139s 8ms/step - loss: 0.1252 - iou_coef: 0.4279 - val_loss: 0.1665 - val_iou_coef: 0.5946\n",
            "\n",
            "Epoch 00032: val_loss did not improve from 0.14859\n",
            "Epoch 33/100\n",
            "18126/18126 [==============================] - 139s 8ms/step - loss: 0.1262 - iou_coef: 0.4471 - val_loss: 0.1441 - val_iou_coef: 0.4366\n",
            "\n",
            "Epoch 00033: val_loss improved from 0.14859 to 0.14415, saving model to /content/gdrive/My Drive/ISPRS/Models/cars.h5\n",
            "Epoch 34/100\n",
            "18126/18126 [==============================] - 138s 8ms/step - loss: 0.1227 - iou_coef: 0.4818 - val_loss: 0.1535 - val_iou_coef: 0.4765\n",
            "\n",
            "Epoch 00034: val_loss did not improve from 0.14415\n",
            "Epoch 35/100\n",
            "18126/18126 [==============================] - 138s 8ms/step - loss: 0.1220 - iou_coef: 0.5050 - val_loss: 0.1577 - val_iou_coef: 0.5231\n",
            "\n",
            "Epoch 00035: val_loss did not improve from 0.14415\n",
            "Epoch 36/100\n",
            "18126/18126 [==============================] - 138s 8ms/step - loss: 0.1189 - iou_coef: 0.5336 - val_loss: 0.1478 - val_iou_coef: 0.5232\n",
            "\n",
            "Epoch 00036: val_loss did not improve from 0.14415\n",
            "Epoch 37/100\n",
            "18126/18126 [==============================] - 138s 8ms/step - loss: 0.1196 - iou_coef: 0.5572 - val_loss: 0.1431 - val_iou_coef: 0.5789\n",
            "\n",
            "Epoch 00037: val_loss improved from 0.14415 to 0.14308, saving model to /content/gdrive/My Drive/ISPRS/Models/cars.h5\n",
            "Epoch 38/100\n",
            "18126/18126 [==============================] - 137s 8ms/step - loss: 0.1189 - iou_coef: 0.5839 - val_loss: 0.1535 - val_iou_coef: 0.5937\n",
            "\n",
            "Epoch 00038: val_loss did not improve from 0.14308\n",
            "Epoch 39/100\n",
            "18126/18126 [==============================] - 137s 8ms/step - loss: 0.1173 - iou_coef: 0.6085 - val_loss: 0.1505 - val_iou_coef: 0.6076\n",
            "\n",
            "Epoch 00039: val_loss did not improve from 0.14308\n",
            "Epoch 40/100\n",
            "18126/18126 [==============================] - 137s 8ms/step - loss: 0.1171 - iou_coef: 0.6283 - val_loss: 0.1441 - val_iou_coef: 0.6637\n",
            "\n",
            "Epoch 00040: val_loss did not improve from 0.14308\n",
            "Epoch 41/100\n",
            "18126/18126 [==============================] - 137s 8ms/step - loss: 0.1145 - iou_coef: 0.6575 - val_loss: 0.1367 - val_iou_coef: 0.6484\n",
            "\n",
            "Epoch 00041: val_loss improved from 0.14308 to 0.13673, saving model to /content/gdrive/My Drive/ISPRS/Models/cars.h5\n",
            "Epoch 42/100\n",
            "18126/18126 [==============================] - 137s 8ms/step - loss: 0.1165 - iou_coef: 0.6756 - val_loss: 0.1660 - val_iou_coef: 0.6211\n",
            "\n",
            "Epoch 00042: val_loss did not improve from 0.13673\n",
            "Epoch 43/100\n",
            "18126/18126 [==============================] - 137s 8ms/step - loss: 0.1165 - iou_coef: 0.6527 - val_loss: 0.1504 - val_iou_coef: 0.7139\n",
            "\n",
            "Epoch 00043: val_loss did not improve from 0.13673\n",
            "Epoch 44/100\n",
            "18126/18126 [==============================] - 137s 8ms/step - loss: 0.1130 - iou_coef: 0.6863 - val_loss: 0.1556 - val_iou_coef: 0.6982\n",
            "\n",
            "Epoch 00044: val_loss did not improve from 0.13673\n",
            "Epoch 45/100\n",
            "18126/18126 [==============================] - 137s 8ms/step - loss: 0.1128 - iou_coef: 0.6989 - val_loss: 0.1578 - val_iou_coef: 0.7000\n",
            "\n",
            "Epoch 00045: val_loss did not improve from 0.13673\n",
            "\n",
            "Epoch 00045: ReduceLROnPlateau reducing learning rate to 9.999999747378752e-06.\n",
            "Epoch 46/100\n",
            "18126/18126 [==============================] - 137s 8ms/step - loss: 0.1084 - iou_coef: 0.7149 - val_loss: 0.1413 - val_iou_coef: 0.7070\n",
            "\n",
            "Epoch 00046: val_loss did not improve from 0.13673\n"
          ],
          "name": "stdout"
        }
      ]
    },
    {
      "cell_type": "code",
      "metadata": {
        "id": "tgcZk2DVNOxT",
        "colab_type": "code",
        "colab": {}
      },
      "source": [
        "#import pickle\n",
        "#with open(\"History/Road_History.pickle\", 'rb') as f:\n",
        "#    history = pickle.load(f)"
      ],
      "execution_count": 0,
      "outputs": []
    },
    {
      "cell_type": "code",
      "metadata": {
        "id": "-0SYiVaDAP7W",
        "colab_type": "code",
        "outputId": "cc87d62c-ac9c-4732-b564-3f806f2636b6",
        "colab": {
          "base_uri": "https://localhost:8080/",
          "height": 573
        }
      },
      "source": [
        "import matplotlib.pyplot as plt\n",
        "\n",
        "# Plot training & validation accuracy values\n",
        "plt.plot(history.history['iou_coef'])\n",
        "plt.plot(history.history['val_iou_coef'])\n",
        "plt.title('Model accuracy')\n",
        "plt.ylabel('Accuracy')\n",
        "plt.xlabel('Epoch')\n",
        "plt.legend(['Train', 'Test'], loc='upper left')\n",
        "plt.show()\n",
        "\n",
        "# Plot training & validation loss values\n",
        "plt.plot(history.history['loss'])\n",
        "plt.plot(history.history['val_loss'])\n",
        "plt.title('Model loss')\n",
        "plt.ylabel('Loss')\n",
        "plt.xlabel('Epoch')\n",
        "plt.legend(['Train', 'Test'], loc='upper left')\n",
        "plt.show()"
      ],
      "execution_count": 19,
      "outputs": [
        {
          "output_type": "display_data",
          "data": {
            "image/png": "[encoded data removed]",
            "text/plain": [
              "<Figure size 432x288 with 1 Axes>"
            ]
          },
          "metadata": {
            "tags": []
          }
        },
        {
          "output_type": "display_data",
          "data": {
            "image/png": "[encoded data removed]",
            "text/plain": [
              "<Figure size 432x288 with 1 Axes>"
            ]
          },
          "metadata": {
            "tags": []
          }
        }
      ]
    },
    {
      "cell_type": "code",
      "metadata": {
        "colab_type": "code",
        "id": "iZrYE4QJdegL",
        "colab": {}
      },
      "source": [
        "history_tf0 = model.fit(road,\n",
        "                    roadlabel/255,\n",
        "                    validation_split = 0.1,\n",
        "                    epochs=100,\n",
        "                    batch_size = BATCH_SIZE,\n",
        "                    callbacks = [checkpointer, earlystopper, lr_reducer, TensorBoardColabCallback(tbc)]\n",
        "                       )\n",
        "\n",
        "with open(\"/content/gdrive/My Drive/ISPRS/Models/cars_history_tf0.pickle\", 'wb') as f:\n",
        "    pickle.dump(history_tf0, f)"
      ],
      "execution_count": 0,
      "outputs": []
    },
    {
      "cell_type": "code",
      "metadata": {
        "id": "oexlEuhGQHsG",
        "colab_type": "code",
        "outputId": "27e2a3d0-9138-4ab4-9eb2-193dcf7f14ff",
        "colab": {
          "base_uri": "https://localhost:8080/",
          "height": 34
        }
      },
      "source": [
        "print(history.history.keys())"
      ],
      "execution_count": 0,
      "outputs": [
        {
          "output_type": "stream",
          "text": [
            "dict_keys(['val_loss', 'val_iou_coef', 'loss', 'iou_coef', 'lr'])\n"
          ],
          "name": "stdout"
        }
      ]
    },
    {
      "cell_type": "code",
      "metadata": {
        "id": "0tdyYzg-817R",
        "colab_type": "code",
        "colab": {}
      },
      "source": [
        ""
      ],
      "execution_count": 0,
      "outputs": []
    },
    {
      "cell_type": "code",
      "metadata": {
        "id": "dy9UcNX6HqgI",
        "colab_type": "code",
        "outputId": "4170a0f9-11bf-49c2-d8c2-7c1f2aa0fa73",
        "colab": {
          "base_uri": "https://localhost:8080/",
          "height": 1000
        }
      },
      "source": [
        "road_1 = road[10000 : len(road)]\n",
        "roadlabel_1 = roadlabel[10000 : len[roadlabel]]\n",
        "\n",
        "model.load_weights(\"Models/road_weights.h5\")\n",
        "\n",
        "history_1 = model.fit(road_1,\n",
        "                    roadlabel_1/255,\n",
        "                    validation_split = 0.1,\n",
        "                    epochs=20,\n",
        "                    batch_size = 32,\n",
        "                    callbacks = [checkpointer, earlystopper, lr_reducer, TensorBoardColabCallback(tbc)]\n",
        "                       )\n",
        "#del road, roadlabel"
      ],
      "execution_count": 0,
      "outputs": [
        {
          "output_type": "stream",
          "text": [
            "Train on 4500 samples, validate on 500 samples\n",
            "Epoch 1/100\n",
            "4500/4500 [==============================] - 624s 139ms/step - loss: 0.2877 - iou_coef: 0.4938 - val_loss: 0.2783 - val_iou_coef: 0.5007\n",
            "\n",
            "Epoch 00001: val_loss improved from 0.28103 to 0.27831, saving model to Models/colab_weights.h5\n",
            "Epoch 2/100\n",
            "4500/4500 [==============================] - 626s 139ms/step - loss: 0.2855 - iou_coef: 0.5002 - val_loss: 0.2729 - val_iou_coef: 0.5108\n",
            "\n",
            "Epoch 00002: val_loss improved from 0.27831 to 0.27294, saving model to Models/colab_weights.h5\n",
            "Epoch 3/100\n",
            "4500/4500 [==============================] - 619s 138ms/step - loss: 0.2829 - iou_coef: 0.5073 - val_loss: 0.2711 - val_iou_coef: 0.5164\n",
            "\n",
            "Epoch 00003: val_loss improved from 0.27294 to 0.27112, saving model to Models/colab_weights.h5\n",
            "Epoch 4/100\n",
            "4500/4500 [==============================] - 617s 137ms/step - loss: 0.2809 - iou_coef: 0.5152 - val_loss: 0.2736 - val_iou_coef: 0.5180\n",
            "\n",
            "Epoch 00004: val_loss did not improve from 0.27112\n",
            "Epoch 5/100\n",
            "4500/4500 [==============================] - 622s 138ms/step - loss: 0.2795 - iou_coef: 0.5196 - val_loss: 0.2717 - val_iou_coef: 0.5256\n",
            "\n",
            "Epoch 00005: val_loss did not improve from 0.27112\n",
            "Epoch 6/100\n",
            "4500/4500 [==============================] - 624s 139ms/step - loss: 0.2766 - iou_coef: 0.5223 - val_loss: 0.2699 - val_iou_coef: 0.5294\n",
            "\n",
            "Epoch 00006: val_loss improved from 0.27112 to 0.26990, saving model to Models/colab_weights.h5\n",
            "Epoch 7/100\n",
            "4500/4500 [==============================] - 621s 138ms/step - loss: 0.2741 - iou_coef: 0.5316 - val_loss: 0.2689 - val_iou_coef: 0.5341\n",
            "\n",
            "Epoch 00007: val_loss improved from 0.26990 to 0.26889, saving model to Models/colab_weights.h5\n",
            "Epoch 8/100\n",
            "4500/4500 [==============================] - 622s 138ms/step - loss: 0.2728 - iou_coef: 0.5385 - val_loss: 0.2693 - val_iou_coef: 0.5356\n",
            "\n",
            "Epoch 00008: val_loss did not improve from 0.26889\n",
            "Epoch 9/100\n",
            "4500/4500 [==============================] - 622s 138ms/step - loss: 0.2728 - iou_coef: 0.5405 - val_loss: 0.2676 - val_iou_coef: 0.5420\n",
            "\n",
            "Epoch 00009: val_loss improved from 0.26889 to 0.26758, saving model to Models/colab_weights.h5\n",
            "Epoch 10/100\n",
            "4500/4500 [==============================] - 621s 138ms/step - loss: 0.2697 - iou_coef: 0.5484 - val_loss: 0.2698 - val_iou_coef: 0.5472\n",
            "\n",
            "Epoch 00010: val_loss did not improve from 0.26758\n",
            "Epoch 11/100\n",
            "4500/4500 [==============================] - 619s 137ms/step - loss: 0.2694 - iou_coef: 0.5481 - val_loss: 0.2668 - val_iou_coef: 0.5508\n",
            "\n",
            "Epoch 00011: val_loss improved from 0.26758 to 0.26679, saving model to Models/colab_weights.h5\n",
            "Epoch 12/100\n",
            "4500/4500 [==============================] - 618s 137ms/step - loss: 0.2659 - iou_coef: 0.5540 - val_loss: 0.2707 - val_iou_coef: 0.5464\n",
            "\n",
            "Epoch 00012: val_loss did not improve from 0.26679\n",
            "Epoch 13/100\n",
            "4500/4500 [==============================] - 619s 138ms/step - loss: 0.2635 - iou_coef: 0.5607 - val_loss: 0.2669 - val_iou_coef: 0.5493\n",
            "\n",
            "Epoch 00013: val_loss did not improve from 0.26679\n",
            "Epoch 14/100\n",
            "4500/4500 [==============================] - 618s 137ms/step - loss: 0.2627 - iou_coef: 0.5650 - val_loss: 0.2664 - val_iou_coef: 0.5559\n",
            "\n",
            "Epoch 00014: val_loss improved from 0.26679 to 0.26638, saving model to Models/colab_weights.h5\n",
            "Epoch 15/100\n",
            "4500/4500 [==============================] - 618s 137ms/step - loss: 0.2622 - iou_coef: 0.5633 - val_loss: 0.2666 - val_iou_coef: 0.5615\n",
            "\n",
            "Epoch 00015: val_loss did not improve from 0.26638\n",
            "Epoch 16/100\n",
            "4500/4500 [==============================] - 617s 137ms/step - loss: 0.2591 - iou_coef: 0.5711 - val_loss: 0.2698 - val_iou_coef: 0.5491\n",
            "\n",
            "Epoch 00016: val_loss did not improve from 0.26638\n",
            "Epoch 17/100\n",
            "4500/4500 [==============================] - 617s 137ms/step - loss: 0.2581 - iou_coef: 0.5736 - val_loss: 0.2672 - val_iou_coef: 0.5594\n",
            "\n",
            "Epoch 00017: val_loss did not improve from 0.26638\n",
            "Epoch 18/100\n",
            "4500/4500 [==============================] - 619s 138ms/step - loss: 0.2567 - iou_coef: 0.5743 - val_loss: 0.2668 - val_iou_coef: 0.5662\n",
            "\n",
            "Epoch 00018: val_loss did not improve from 0.26638\n",
            "\n",
            "Epoch 00018: ReduceLROnPlateau reducing learning rate to 9.999999747378752e-06.\n",
            "Epoch 19/100\n",
            "4500/4500 [==============================] - 616s 137ms/step - loss: 0.2523 - iou_coef: 0.5837 - val_loss: 0.2641 - val_iou_coef: 0.5657\n",
            "\n",
            "Epoch 00019: val_loss improved from 0.26638 to 0.26410, saving model to Models/colab_weights.h5\n",
            "Epoch 20/100\n",
            "4500/4500 [==============================] - 617s 137ms/step - loss: 0.2508 - iou_coef: 0.5863 - val_loss: 0.2646 - val_iou_coef: 0.5632\n",
            "\n",
            "Epoch 00020: val_loss did not improve from 0.26410\n",
            "Epoch 21/100\n",
            "4500/4500 [==============================] - 619s 138ms/step - loss: 0.2504 - iou_coef: 0.5854 - val_loss: 0.2641 - val_iou_coef: 0.5636\n",
            "\n",
            "Epoch 00021: val_loss did not improve from 0.26410\n",
            "Epoch 22/100\n",
            "4500/4500 [==============================] - 619s 138ms/step - loss: 0.2499 - iou_coef: 0.5853 - val_loss: 0.2641 - val_iou_coef: 0.5618\n",
            "\n",
            "Epoch 00022: val_loss improved from 0.26410 to 0.26409, saving model to Models/colab_weights.h5\n",
            "Epoch 23/100\n",
            "4500/4500 [==============================] - 621s 138ms/step - loss: 0.2502 - iou_coef: 0.5855 - val_loss: 0.2640 - val_iou_coef: 0.5626\n",
            "\n",
            "Epoch 00023: val_loss improved from 0.26409 to 0.26403, saving model to Models/colab_weights.h5\n",
            "\n",
            "Epoch 00023: ReduceLROnPlateau reducing learning rate to 9.999999747378752e-07.\n",
            "Epoch 24/100\n",
            "4500/4500 [==============================] - 620s 138ms/step - loss: 0.2492 - iou_coef: 0.5839 - val_loss: 0.2642 - val_iou_coef: 0.5623\n",
            "\n",
            "Epoch 00024: val_loss did not improve from 0.26403\n",
            "Epoch 25/100\n",
            "4500/4500 [==============================] - 621s 138ms/step - loss: 0.2491 - iou_coef: 0.5844 - val_loss: 0.2641 - val_iou_coef: 0.5626\n",
            "\n",
            "Epoch 00025: val_loss did not improve from 0.26403\n",
            "Epoch 26/100\n",
            "4500/4500 [==============================] - 621s 138ms/step - loss: 0.2497 - iou_coef: 0.5845 - val_loss: 0.2641 - val_iou_coef: 0.5628\n",
            "\n",
            "Epoch 00026: val_loss did not improve from 0.26403\n",
            "Epoch 27/100\n",
            "4500/4500 [==============================] - 618s 137ms/step - loss: 0.2496 - iou_coef: 0.5872 - val_loss: 0.2642 - val_iou_coef: 0.5631\n",
            "\n",
            "Epoch 00027: val_loss did not improve from 0.26403\n",
            "\n",
            "Epoch 00027: ReduceLROnPlateau reducing learning rate to 9.999999974752428e-08.\n",
            "Epoch 28/100\n",
            "4500/4500 [==============================] - 620s 138ms/step - loss: 0.2489 - iou_coef: 0.5872 - val_loss: 0.2642 - val_iou_coef: 0.5628\n",
            "\n",
            "Epoch 00028: val_loss did not improve from 0.26403\n"
          ],
          "name": "stdout"
        }
      ]
    },
    {
      "cell_type": "markdown",
      "metadata": {
        "id": "md8XNue0bYIn",
        "colab_type": "text"
      },
      "source": [
        "####Train Further"
      ]
    },
    {
      "cell_type": "code",
      "metadata": {
        "id": "O3xI7HFgazeo",
        "colab_type": "code",
        "outputId": "886eaa94-2902-4f11-af89-588b961b6fd0",
        "colab": {
          "base_uri": "https://localhost:8080/",
          "height": 52
        }
      },
      "source": [
        "h5f = h5py.File('flip90_clean_roadlabel.h5','r')\n",
        "roadlabel = h5f['clean_roadlabel'][:]\n",
        "h5f.close()\n",
        "\n",
        "h5f = h5py.File('flip90_clean_road.h5','r')\n",
        "road = h5f['clean_road'][:]\n",
        "h5f.close()\n",
        "\n",
        "print(roadlabel.shape)\n",
        "\n",
        "roadlabelgray = []\n",
        "\n",
        "for i in range(roadlabel.shape[0]):\n",
        "  roadlabelgray.append(cv2.cvtColor(roadlabel[i], cv2.COLOR_BGR2GRAY))\n",
        "\n",
        "roadlabelgray = np.asarray(roadlabelgray)\n",
        "#del \n",
        "\n",
        "roadlabel = np.expand_dims(roadlabelgray, -1)\n",
        "print(roadlabel.shape)"
      ],
      "execution_count": 0,
      "outputs": [
        {
          "output_type": "stream",
          "text": [
            "(22911, 256, 256, 3)\n",
            "(22911, 256, 256, 1)\n"
          ],
          "name": "stdout"
        }
      ]
    },
    {
      "cell_type": "code",
      "metadata": {
        "id": "ztdyiFsXcAwn",
        "colab_type": "code",
        "colab": {}
      },
      "source": [
        "del roadlabelgray"
      ],
      "execution_count": 0,
      "outputs": []
    },
    {
      "cell_type": "code",
      "metadata": {
        "id": "BnmD5yZ6bXS_",
        "colab_type": "code",
        "outputId": "bc02aa88-9f2f-4490-9982-75b015b34a9e",
        "colab": {
          "base_uri": "https://localhost:8080/",
          "height": 1000
        }
      },
      "source": [
        "road_0 = road[0 : 10000]\n",
        "roadlabel_0 = roadlabel[0 : 10000]\n",
        "\n",
        "model.load_weights(\"Models/road_weights.h5\")\n",
        "\n",
        "history = model.fit(road_0,\n",
        "                    roadlabel_0/255,\n",
        "                    validation_split = 0.1,\n",
        "                    epochs=20,\n",
        "                    batch_size = 32,\n",
        "                    callbacks = [checkpointer, earlystopper, lr_reducer, TensorBoardColabCallback(tbc)]\n",
        "                       )\n",
        "#del road, roadlabel"
      ],
      "execution_count": 0,
      "outputs": [
        {
          "output_type": "stream",
          "text": [
            "Train on 9000 samples, validate on 1000 samples\n",
            "Epoch 1/20\n",
            "9000/9000 [==============================] - 75s 8ms/step - loss: 0.2766 - iou_coef: 0.5835 - val_loss: 0.2677 - val_iou_coef: 0.5930\n",
            "\n",
            "Epoch 00001: val_loss improved from inf to 0.26774, saving model to Models/road_weights.h5\n",
            "Epoch 2/20\n",
            "9000/9000 [==============================] - 71s 8ms/step - loss: 0.2701 - iou_coef: 0.5929 - val_loss: 0.2634 - val_iou_coef: 0.5945\n",
            "\n",
            "Epoch 00002: val_loss improved from 0.26774 to 0.26336, saving model to Models/road_weights.h5\n",
            "Epoch 3/20\n",
            "9000/9000 [==============================] - 71s 8ms/step - loss: 0.2652 - iou_coef: 0.5959 - val_loss: 0.2605 - val_iou_coef: 0.6010\n",
            "\n",
            "Epoch 00003: val_loss improved from 0.26336 to 0.26049, saving model to Models/road_weights.h5\n",
            "Epoch 4/20\n",
            "9000/9000 [==============================] - 71s 8ms/step - loss: 0.2635 - iou_coef: 0.6001 - val_loss: 0.2587 - val_iou_coef: 0.6043\n",
            "\n",
            "Epoch 00004: val_loss improved from 0.26049 to 0.25866, saving model to Models/road_weights.h5\n",
            "Epoch 5/20\n",
            "9000/9000 [==============================] - 71s 8ms/step - loss: 0.2608 - iou_coef: 0.6021 - val_loss: 0.2613 - val_iou_coef: 0.6013\n",
            "\n",
            "Epoch 00005: val_loss did not improve from 0.25866\n",
            "Epoch 6/20\n",
            "9000/9000 [==============================] - 71s 8ms/step - loss: 0.2577 - iou_coef: 0.6064 - val_loss: 0.2593 - val_iou_coef: 0.6078\n",
            "\n",
            "Epoch 00006: val_loss did not improve from 0.25866\n",
            "Epoch 7/20\n",
            "9000/9000 [==============================] - 71s 8ms/step - loss: 0.2560 - iou_coef: 0.6106 - val_loss: 0.2582 - val_iou_coef: 0.6085\n",
            "\n",
            "Epoch 00007: val_loss improved from 0.25866 to 0.25818, saving model to Models/road_weights.h5\n",
            "Epoch 8/20\n",
            "9000/9000 [==============================] - 71s 8ms/step - loss: 0.2547 - iou_coef: 0.6093 - val_loss: 0.2570 - val_iou_coef: 0.6048\n",
            "\n",
            "Epoch 00008: val_loss improved from 0.25818 to 0.25704, saving model to Models/road_weights.h5\n",
            "Epoch 9/20\n",
            "9000/9000 [==============================] - 71s 8ms/step - loss: 0.2528 - iou_coef: 0.6113 - val_loss: 0.2573 - val_iou_coef: 0.6115\n",
            "\n",
            "Epoch 00009: val_loss did not improve from 0.25704\n",
            "Epoch 10/20\n",
            "9000/9000 [==============================] - 71s 8ms/step - loss: 0.2511 - iou_coef: 0.6152 - val_loss: 0.2540 - val_iou_coef: 0.5998\n",
            "\n",
            "Epoch 00010: val_loss improved from 0.25704 to 0.25404, saving model to Models/road_weights.h5\n",
            "Epoch 11/20\n",
            "9000/9000 [==============================] - 71s 8ms/step - loss: 0.2489 - iou_coef: 0.6147 - val_loss: 0.2536 - val_iou_coef: 0.6057\n",
            "\n",
            "Epoch 00011: val_loss improved from 0.25404 to 0.25356, saving model to Models/road_weights.h5\n",
            "Epoch 12/20\n",
            "9000/9000 [==============================] - 71s 8ms/step - loss: 0.2482 - iou_coef: 0.6186 - val_loss: 0.2562 - val_iou_coef: 0.6124\n",
            "\n",
            "Epoch 00012: val_loss did not improve from 0.25356\n",
            "Epoch 13/20\n",
            "9000/9000 [==============================] - 71s 8ms/step - loss: 0.2456 - iou_coef: 0.6218 - val_loss: 0.2555 - val_iou_coef: 0.6101\n",
            "\n",
            "Epoch 00013: val_loss did not improve from 0.25356\n",
            "Epoch 14/20\n",
            "9000/9000 [==============================] - 70s 8ms/step - loss: 0.2440 - iou_coef: 0.6238 - val_loss: 0.2571 - val_iou_coef: 0.6099\n",
            "\n",
            "Epoch 00014: val_loss did not improve from 0.25356\n",
            "Epoch 15/20\n",
            "9000/9000 [==============================] - 70s 8ms/step - loss: 0.2426 - iou_coef: 0.6243 - val_loss: 0.2522 - val_iou_coef: 0.6078\n",
            "\n",
            "Epoch 00015: val_loss improved from 0.25356 to 0.25218, saving model to Models/road_weights.h5\n",
            "Epoch 16/20\n",
            "9000/9000 [==============================] - 71s 8ms/step - loss: 0.2408 - iou_coef: 0.6254 - val_loss: 0.2542 - val_iou_coef: 0.6114\n",
            "\n",
            "Epoch 00016: val_loss did not improve from 0.25218\n",
            "Epoch 17/20\n",
            "9000/9000 [==============================] - 71s 8ms/step - loss: 0.2408 - iou_coef: 0.6270 - val_loss: 0.2539 - val_iou_coef: 0.6116\n",
            "\n",
            "Epoch 00017: val_loss did not improve from 0.25218\n",
            "Epoch 18/20\n",
            "9000/9000 [==============================] - 71s 8ms/step - loss: 0.2383 - iou_coef: 0.6277 - val_loss: 0.2532 - val_iou_coef: 0.6103\n",
            "\n",
            "Epoch 00018: val_loss did not improve from 0.25218\n",
            "Epoch 19/20\n",
            "9000/9000 [==============================] - 71s 8ms/step - loss: 0.2374 - iou_coef: 0.6321 - val_loss: 0.2521 - val_iou_coef: 0.6149\n",
            "\n",
            "Epoch 00019: val_loss improved from 0.25218 to 0.25206, saving model to Models/road_weights.h5\n",
            "Epoch 20/20\n",
            "9000/9000 [==============================] - 71s 8ms/step - loss: 0.2358 - iou_coef: 0.6330 - val_loss: 0.2532 - val_iou_coef: 0.6113\n",
            "\n",
            "Epoch 00020: val_loss did not improve from 0.25206\n"
          ],
          "name": "stdout"
        }
      ]
    },
    {
      "cell_type": "code",
      "metadata": {
        "id": "Pdw6JFevh0xQ",
        "colab_type": "code",
        "outputId": "67ffdf2d-1663-4aa4-c272-baac03485ff7",
        "colab": {
          "base_uri": "https://localhost:8080/",
          "height": 851
        }
      },
      "source": [
        "import matplotlib.pyplot as plt\n",
        "\n",
        "# Plot training & validation accuracy values\n",
        "plt.plot(history.history['iou_coef'])\n",
        "plt.plot(history.history['val_iou_coef'])\n",
        "plt.title('Model accuracy')\n",
        "plt.ylabel('Accuracy')\n",
        "plt.xlabel('Epoch')\n",
        "plt.legend(['Train', 'Test'], loc='upper left')\n",
        "plt.show()\n",
        "\n",
        "# Plot training & validation loss values\n",
        "plt.plot(history.history['loss'])\n",
        "plt.plot(history.history['val_loss'])\n",
        "plt.title('Model loss')\n",
        "plt.ylabel('Loss')\n",
        "plt.xlabel('Epoch')\n",
        "plt.legend(['Train', 'Test'], loc='upper left')\n",
        "plt.show()\n",
        "\n",
        "plt.plot(history.history['lr'])\n",
        "#plt.plot(history.history['val_loss'])\n",
        "plt.title('Learning Rate')\n",
        "plt.ylabel('LR')\n",
        "plt.xlabel('Epoch')\n",
        "#plt.legend(['Lear', 'Test'], loc='upper left')\n",
        "plt.show()\n",
        "\n",
        "\n",
        "#print(history['lr'])"
      ],
      "execution_count": 0,
      "outputs": [
        {
          "output_type": "display_data",
          "data": {
            "image/png": "[encoded data removed]",
            "text/plain": [
              "<Figure size 432x288 with 1 Axes>"
            ]
          },
          "metadata": {
            "tags": []
          }
        },
        {
          "output_type": "display_data",
          "data": {
            "image/png": "[encoded data removed]",
            "text/plain": [
              "<Figure size 432x288 with 1 Axes>"
            ]
          },
          "metadata": {
            "tags": []
          }
        },
        {
          "output_type": "display_data",
          "data": {
            "image/png": "[encoded data removed]",
            "text/plain": [
              "<Figure size 432x288 with 1 Axes>"
            ]
          },
          "metadata": {
            "tags": []
          }
        }
      ]
    },
    {
      "cell_type": "code",
      "metadata": {
        "id": "TaE0sDWtfM30",
        "colab_type": "code",
        "colab": {}
      },
      "source": [
        ""
      ],
      "execution_count": 0,
      "outputs": []
    },
    {
      "cell_type": "code",
      "metadata": {
        "id": "pD2HCojWfaSA",
        "colab_type": "code",
        "colab": {}
      },
      "source": [
        ""
      ],
      "execution_count": 0,
      "outputs": []
    }
  ]
}