{
  "nbformat": 4,
  "nbformat_minor": 0,
  "metadata": {
    "colab": {
      "name": "ISPRS CarTest.ipynb",
      "provenance": [],
      "collapsed_sections": [],
      "machine_shape": "hm",
      "include_colab_link": true
    },
    "kernelspec": {
      "name": "python3",
      "display_name": "Python 3"
    },
    "language_info": {
      "codemirror_mode": {
        "name": "ipython",
        "version": 3
      },
      "file_extension": ".py",
      "mimetype": "text/x-python",
      "name": "python",
      "nbconvert_exporter": "python",
      "pygments_lexer": "ipython3",
      "version": "3.6.9"
    }
  },
  "cells": [
    {
      "cell_type": "markdown",
      "metadata": {
        "id": "view-in-github",
        "colab_type": "text"
      },
      "source": [
        "<a href=\"https://colab.research.google.com/github/parshwa1999/Map-Segmentation/blob/master/ISPRS_CarTest.ipynb\" target=\"_parent\"><img src=\"https://colab.research.google.com/assets/colab-badge.svg\" alt=\"Open In Colab\"/></a>"
      ]
    },
    {
      "cell_type": "markdown",
      "metadata": {
        "colab_type": "text",
        "id": "V3WSjIHnbEG3"
      },
      "source": [
        "# Segmentation of Road from Satellite imagery"
      ]
    },
    {
      "cell_type": "markdown",
      "metadata": {
        "colab_type": "text",
        "id": "p1ZeiWO9bSrT"
      },
      "source": [
        "## Importing Libraries"
      ]
    },
    {
      "cell_type": "code",
      "metadata": {
        "colab_type": "code",
        "id": "vUHhxUFxxOaU",
        "colab": {}
      },
      "source": [
        "import warnings\n",
        "warnings.filterwarnings('ignore')\n",
        "\n",
        "import os\n",
        "import cv2\n",
        "#from google.colab.patches import cv2_imshow\n",
        "import numpy as np\n",
        "import tensorflow as tf\n",
        "import pandas as pd\n",
        "from keras.models import Model, load_model\n",
        "from skimage.morphology import label\n",
        "import pickle\n",
        "from keras import backend as K\n",
        "\n",
        "from matplotlib import pyplot as plt\n",
        "from tqdm import tqdm_notebook\n",
        "import random\n",
        "from skimage.io import imread, imshow, imread_collection, concatenate_images\n",
        "from matplotlib import pyplot as plt\n",
        "import h5py\n",
        "\n",
        "seed = 56"
      ],
      "execution_count": 0,
      "outputs": []
    },
    {
      "cell_type": "code",
      "metadata": {
        "id": "-_ameNbiS8Z_",
        "colab_type": "code",
        "outputId": "9e2d350c-4b2a-442d-95d4-5601bbd5d9ae",
        "colab": {
          "base_uri": "https://localhost:8080/",
          "height": 141
        }
      },
      "source": [
        "from google.colab import drive\n",
        "drive.mount('/content/gdrive/')\n",
        "base_path = \"gdrive/My\\ Drive/MapSegClean/\"\n",
        "%cd gdrive/My\\ Drive/MapSegClean/"
      ],
      "execution_count": 4,
      "outputs": [
        {
          "output_type": "stream",
          "text": [
            "Go to this URL in a browser: https://accounts.google.com/o/oauth2/auth?client_id=947318989803-6bn6qk8qdgf4n4g3pfee6491hc0brc4i.apps.googleusercontent.com&redirect_uri=urn%3aietf%3awg%3aoauth%3a2.0%3aoob&response_type=code&scope=email%20https%3a%2f%2fwww.googleapis.com%2fauth%2fdocs.test%20https%3a%2f%2fwww.googleapis.com%2fauth%2fdrive%20https%3a%2f%2fwww.googleapis.com%2fauth%2fdrive.photos.readonly%20https%3a%2f%2fwww.googleapis.com%2fauth%2fpeopleapi.readonly\n",
            "\n",
            "Enter your authorization code:\n",
            "··········\n",
            "Mounted at /content/gdrive/\n",
            "/content/gdrive/My Drive/MapSegClean\n"
          ],
          "name": "stdout"
        }
      ]
    },
    {
      "cell_type": "markdown",
      "metadata": {
        "colab_type": "text",
        "id": "aS3yy-MoxNJd"
      },
      "source": [
        "## Defining Custom Loss functions and accuracy Metric."
      ]
    },
    {
      "cell_type": "code",
      "metadata": {
        "colab_type": "code",
        "id": "OmI15mzGmD_R",
        "colab": {}
      },
      "source": [
        "#Source: https://towardsdatascience.com/metrics-to-evaluate-your-semantic-segmentation-model-6bcb99639aa2\n",
        "from keras import backend as K\n",
        "def iou_coef(y_true, y_pred, smooth=1):\n",
        "  intersection = K.sum(K.abs(y_true * y_pred), axis=[1,2,3])\n",
        "  union = K.sum(y_true,[1,2,3])+K.sum(y_pred,[1,2,3])-intersection\n",
        "  iou = K.mean((intersection + smooth) / (union + smooth), axis=0)\n",
        "  \n",
        "  return iou"
      ],
      "execution_count": 0,
      "outputs": []
    },
    {
      "cell_type": "code",
      "metadata": {
        "colab_type": "code",
        "id": "bxUwv6N4gwQ0",
        "colab": {}
      },
      "source": [
        "def dice_coef(y_true, y_pred, smooth = 1):\n",
        "    y_true_f = K.flatten(y_true)\n",
        "    y_pred_f = K.flatten(y_pred)\n",
        "    intersection = K.sum(y_true_f * y_pred_f)\n",
        "    return (2. * intersection + smooth) / (K.sum(y_true_f) + K.sum(y_pred_f) + smooth)\n",
        "\n",
        "def soft_dice_loss(y_true, y_pred):\n",
        "    return 1-dice_coef(y_true, y_pred)"
      ],
      "execution_count": 0,
      "outputs": []
    },
    {
      "cell_type": "markdown",
      "metadata": {
        "colab_type": "text",
        "id": "icu1-GbRxkor"
      },
      "source": [
        "## Defining Our Model"
      ]
    },
    {
      "cell_type": "code",
      "metadata": {
        "colab_type": "code",
        "id": "RAw-OnW57dm9",
        "colab": {}
      },
      "source": [
        "from keras.models import Model, load_model\n",
        "import tensorflow as tf\n",
        "from keras.layers import Input\n",
        "from keras.layers.core import Dropout, Lambda\n",
        "from keras.layers.convolutional import Conv2D, Conv2DTranspose\n",
        "from keras.layers.pooling import MaxPooling2D\n",
        "from keras.layers.merge import concatenate\n",
        "from keras import optimizers\n",
        "from keras.layers import BatchNormalization\n",
        "import keras"
      ],
      "execution_count": 0,
      "outputs": []
    },
    {
      "cell_type": "code",
      "metadata": {
        "colab_type": "code",
        "id": "jRN88N68SB2k",
        "outputId": "190a9d88-cf42-4339-e3ca-f90fa7183f5a",
        "colab": {
          "base_uri": "https://localhost:8080/",
          "height": 1000
        }
      },
      "source": [
        "inputs = Input((256, 256, 3))\n",
        "s = Lambda(lambda x: x / 255) (inputs)\n",
        "\n",
        "conv1 = Conv2D(16, (3, 3), activation='elu', kernel_initializer='he_normal', padding='same') (inputs)\n",
        "conv1 = BatchNormalization() (conv1)\n",
        "conv1 = Dropout(0.1) (conv1)\n",
        "conv1 = Conv2D(16, (3, 3), activation='elu', kernel_initializer='he_normal', padding='same') (conv1)\n",
        "conv1 = BatchNormalization() (conv1)\n",
        "pooling1 = MaxPooling2D((2, 2)) (conv1)\n",
        "\n",
        "conv2 = Conv2D(32, (3, 3), activation='elu', kernel_initializer='he_normal', padding='same') (pooling1)\n",
        "conv2 = BatchNormalization() (conv2)\n",
        "conv2 = Dropout(0.1) (conv2)\n",
        "conv2 = Conv2D(32, (3, 3), activation='elu', kernel_initializer='he_normal', padding='same') (conv2)\n",
        "conv2 = BatchNormalization() (conv2)\n",
        "pooling2 = MaxPooling2D((2, 2)) (conv2)\n",
        "\n",
        "conv3 = Conv2D(64, (3, 3), activation='elu', kernel_initializer='he_normal', padding='same') (pooling2)\n",
        "conv3 = BatchNormalization() (conv3)\n",
        "conv3 = Dropout(0.2) (conv3)\n",
        "conv3 = Conv2D(64, (3, 3), activation='elu', kernel_initializer='he_normal', padding='same') (conv3)\n",
        "conv3 = BatchNormalization() (conv3)\n",
        "pooling3 = MaxPooling2D((2, 2)) (conv3)\n",
        "\n",
        "conv4 = Conv2D(128, (3, 3), activation='elu', kernel_initializer='he_normal', padding='same') (pooling3)\n",
        "conv4 = BatchNormalization() (conv4)\n",
        "conv4 = Dropout(0.2) (conv4)\n",
        "conv4 = Conv2D(128, (3, 3), activation='elu', kernel_initializer='he_normal', padding='same') (conv4)\n",
        "conv4 = BatchNormalization() (conv4)\n",
        "pooling4 = MaxPooling2D(pool_size=(2, 2)) (conv4)\n",
        "\n",
        "conv5 = Conv2D(256, (3, 3), activation='elu', kernel_initializer='he_normal', padding='same') (pooling4)\n",
        "conv5 = BatchNormalization() (conv5)\n",
        "conv5 = Dropout(0.3) (conv5)\n",
        "conv5 = Conv2D(256, (3, 3), activation='elu', kernel_initializer='he_normal', padding='same') (conv5)\n",
        "conv5 = BatchNormalization() (conv5)\n",
        "\n",
        "\n",
        "upsample6 = Conv2DTranspose(128, (2, 2), strides=(2, 2), padding='same') (conv5)\n",
        "upsample6 = concatenate([upsample6, conv4])\n",
        "conv6 = Conv2D(128, (3, 3), activation='elu', kernel_initializer='he_normal', padding='same') (upsample6)\n",
        "conv6 = BatchNormalization() (conv6)\n",
        "conv6 = Dropout(0.2) (conv6)\n",
        "conv6 = Conv2D(128, (3, 3), activation='elu', kernel_initializer='he_normal', padding='same') (conv6)\n",
        "conv6 = BatchNormalization() (conv6)\n",
        "\n",
        "upsample7 = Conv2DTranspose(64, (2, 2), strides=(2, 2), padding='same') (conv6)\n",
        "upsample7 = concatenate([upsample7, conv3])\n",
        "conv7 = Conv2D(64, (3, 3), activation='elu', kernel_initializer='he_normal', padding='same') (upsample7)\n",
        "conv7 = BatchNormalization() (conv7)\n",
        "conv7 = Dropout(0.2) (conv7)\n",
        "conv7 = Conv2D(64, (3, 3), activation='elu', kernel_initializer='he_normal', padding='same') (conv7)\n",
        "conv7 = BatchNormalization() (conv7)\n",
        "\n",
        "upsample8 = Conv2DTranspose(32, (2, 2), strides=(2, 2), padding='same') (conv7)\n",
        "upsample8 = concatenate([upsample8, conv2])\n",
        "conv8 = Conv2D(32, (3, 3), activation='elu', kernel_initializer='he_normal', padding='same') (upsample8)\n",
        "conv8 = BatchNormalization() (conv8)\n",
        "conv8 = Dropout(0.1) (conv8)\n",
        "conv8 = Conv2D(32, (3, 3), activation='elu', kernel_initializer='he_normal', padding='same') (conv8)\n",
        "conv8 = BatchNormalization() (conv8)\n",
        "\n",
        "upsample9 = Conv2DTranspose(16, (2, 2), strides=(2, 2), padding='same') (conv8)\n",
        "upsample9 = concatenate([upsample9, conv1], axis=3)\n",
        "conv9 = Conv2D(16, (3, 3), activation='elu', kernel_initializer='he_normal', padding='same') (upsample9)\n",
        "conv9 = BatchNormalization() (conv9)\n",
        "conv9 = Dropout(0.1) (conv9)\n",
        "conv9 = Conv2D(16, (3, 3), activation='elu', kernel_initializer='he_normal', padding='same') (conv9)\n",
        "conv9 = BatchNormalization() (conv9)\n",
        "\n",
        "outputs = Conv2D(1, (1, 1), activation='sigmoid') (conv9)\n",
        "\n",
        "model = Model(inputs=[inputs], outputs=[outputs])\n",
        "model.summary()"
      ],
      "execution_count": 8,
      "outputs": [
        {
          "output_type": "stream",
          "text": [
            "WARNING:tensorflow:From /usr/local/lib/python3.6/dist-packages/keras/backend/tensorflow_backend.py:66: The name tf.get_default_graph is deprecated. Please use tf.compat.v1.get_default_graph instead.\n",
            "\n",
            "WARNING:tensorflow:From /usr/local/lib/python3.6/dist-packages/keras/backend/tensorflow_backend.py:541: The name tf.placeholder is deprecated. Please use tf.compat.v1.placeholder instead.\n",
            "\n",
            "WARNING:tensorflow:From /usr/local/lib/python3.6/dist-packages/keras/backend/tensorflow_backend.py:4479: The name tf.truncated_normal is deprecated. Please use tf.random.truncated_normal instead.\n",
            "\n",
            "WARNING:tensorflow:From /usr/local/lib/python3.6/dist-packages/keras/backend/tensorflow_backend.py:190: The name tf.get_default_session is deprecated. Please use tf.compat.v1.get_default_session instead.\n",
            "\n",
            "WARNING:tensorflow:From /usr/local/lib/python3.6/dist-packages/keras/backend/tensorflow_backend.py:197: The name tf.ConfigProto is deprecated. Please use tf.compat.v1.ConfigProto instead.\n",
            "\n",
            "WARNING:tensorflow:From /usr/local/lib/python3.6/dist-packages/keras/backend/tensorflow_backend.py:203: The name tf.Session is deprecated. Please use tf.compat.v1.Session instead.\n",
            "\n",
            "WARNING:tensorflow:From /usr/local/lib/python3.6/dist-packages/keras/backend/tensorflow_backend.py:207: The name tf.global_variables is deprecated. Please use tf.compat.v1.global_variables instead.\n",
            "\n",
            "WARNING:tensorflow:From /usr/local/lib/python3.6/dist-packages/keras/backend/tensorflow_backend.py:216: The name tf.is_variable_initialized is deprecated. Please use tf.compat.v1.is_variable_initialized instead.\n",
            "\n",
            "WARNING:tensorflow:From /usr/local/lib/python3.6/dist-packages/keras/backend/tensorflow_backend.py:223: The name tf.variables_initializer is deprecated. Please use tf.compat.v1.variables_initializer instead.\n",
            "\n",
            "WARNING:tensorflow:From /usr/local/lib/python3.6/dist-packages/keras/backend/tensorflow_backend.py:2041: The name tf.nn.fused_batch_norm is deprecated. Please use tf.compat.v1.nn.fused_batch_norm instead.\n",
            "\n",
            "WARNING:tensorflow:From /usr/local/lib/python3.6/dist-packages/keras/backend/tensorflow_backend.py:148: The name tf.placeholder_with_default is deprecated. Please use tf.compat.v1.placeholder_with_default instead.\n",
            "\n",
            "WARNING:tensorflow:From /usr/local/lib/python3.6/dist-packages/keras/backend/tensorflow_backend.py:3733: calling dropout (from tensorflow.python.ops.nn_ops) with keep_prob is deprecated and will be removed in a future version.\n",
            "Instructions for updating:\n",
            "Please use `rate` instead of `keep_prob`. Rate should be set to `rate = 1 - keep_prob`.\n",
            "WARNING:tensorflow:From /usr/local/lib/python3.6/dist-packages/keras/backend/tensorflow_backend.py:4267: The name tf.nn.max_pool is deprecated. Please use tf.nn.max_pool2d instead.\n",
            "\n",
            "WARNING:tensorflow:From /usr/local/lib/python3.6/dist-packages/keras/backend/tensorflow_backend.py:4432: The name tf.random_uniform is deprecated. Please use tf.random.uniform instead.\n",
            "\n",
            "Model: \"model_1\"\n",
            "__________________________________________________________________________________________________\n",
            "Layer (type)                    Output Shape         Param #     Connected to                     \n",
            "==================================================================================================\n",
            "input_1 (InputLayer)            (None, 256, 256, 3)  0                                            \n",
            "__________________________________________________________________________________________________\n",
            "conv2d_1 (Conv2D)               (None, 256, 256, 16) 448         input_1[0][0]                    \n",
            "__________________________________________________________________________________________________\n",
            "batch_normalization_1 (BatchNor (None, 256, 256, 16) 64          conv2d_1[0][0]                   \n",
            "__________________________________________________________________________________________________\n",
            "dropout_1 (Dropout)             (None, 256, 256, 16) 0           batch_normalization_1[0][0]      \n",
            "__________________________________________________________________________________________________\n",
            "conv2d_2 (Conv2D)               (None, 256, 256, 16) 2320        dropout_1[0][0]                  \n",
            "__________________________________________________________________________________________________\n",
            "batch_normalization_2 (BatchNor (None, 256, 256, 16) 64          conv2d_2[0][0]                   \n",
            "__________________________________________________________________________________________________\n",
            "max_pooling2d_1 (MaxPooling2D)  (None, 128, 128, 16) 0           batch_normalization_2[0][0]      \n",
            "__________________________________________________________________________________________________\n",
            "conv2d_3 (Conv2D)               (None, 128, 128, 32) 4640        max_pooling2d_1[0][0]            \n",
            "__________________________________________________________________________________________________\n",
            "batch_normalization_3 (BatchNor (None, 128, 128, 32) 128         conv2d_3[0][0]                   \n",
            "__________________________________________________________________________________________________\n",
            "dropout_2 (Dropout)             (None, 128, 128, 32) 0           batch_normalization_3[0][0]      \n",
            "__________________________________________________________________________________________________\n",
            "conv2d_4 (Conv2D)               (None, 128, 128, 32) 9248        dropout_2[0][0]                  \n",
            "__________________________________________________________________________________________________\n",
            "batch_normalization_4 (BatchNor (None, 128, 128, 32) 128         conv2d_4[0][0]                   \n",
            "__________________________________________________________________________________________________\n",
            "max_pooling2d_2 (MaxPooling2D)  (None, 64, 64, 32)   0           batch_normalization_4[0][0]      \n",
            "__________________________________________________________________________________________________\n",
            "conv2d_5 (Conv2D)               (None, 64, 64, 64)   18496       max_pooling2d_2[0][0]            \n",
            "__________________________________________________________________________________________________\n",
            "batch_normalization_5 (BatchNor (None, 64, 64, 64)   256         conv2d_5[0][0]                   \n",
            "__________________________________________________________________________________________________\n",
            "dropout_3 (Dropout)             (None, 64, 64, 64)   0           batch_normalization_5[0][0]      \n",
            "__________________________________________________________________________________________________\n",
            "conv2d_6 (Conv2D)               (None, 64, 64, 64)   36928       dropout_3[0][0]                  \n",
            "__________________________________________________________________________________________________\n",
            "batch_normalization_6 (BatchNor (None, 64, 64, 64)   256         conv2d_6[0][0]                   \n",
            "__________________________________________________________________________________________________\n",
            "max_pooling2d_3 (MaxPooling2D)  (None, 32, 32, 64)   0           batch_normalization_6[0][0]      \n",
            "__________________________________________________________________________________________________\n",
            "conv2d_7 (Conv2D)               (None, 32, 32, 128)  73856       max_pooling2d_3[0][0]            \n",
            "__________________________________________________________________________________________________\n",
            "batch_normalization_7 (BatchNor (None, 32, 32, 128)  512         conv2d_7[0][0]                   \n",
            "__________________________________________________________________________________________________\n",
            "dropout_4 (Dropout)             (None, 32, 32, 128)  0           batch_normalization_7[0][0]      \n",
            "__________________________________________________________________________________________________\n",
            "conv2d_8 (Conv2D)               (None, 32, 32, 128)  147584      dropout_4[0][0]                  \n",
            "__________________________________________________________________________________________________\n",
            "batch_normalization_8 (BatchNor (None, 32, 32, 128)  512         conv2d_8[0][0]                   \n",
            "__________________________________________________________________________________________________\n",
            "max_pooling2d_4 (MaxPooling2D)  (None, 16, 16, 128)  0           batch_normalization_8[0][0]      \n",
            "__________________________________________________________________________________________________\n",
            "conv2d_9 (Conv2D)               (None, 16, 16, 256)  295168      max_pooling2d_4[0][0]            \n",
            "__________________________________________________________________________________________________\n",
            "batch_normalization_9 (BatchNor (None, 16, 16, 256)  1024        conv2d_9[0][0]                   \n",
            "__________________________________________________________________________________________________\n",
            "dropout_5 (Dropout)             (None, 16, 16, 256)  0           batch_normalization_9[0][0]      \n",
            "__________________________________________________________________________________________________\n",
            "conv2d_10 (Conv2D)              (None, 16, 16, 256)  590080      dropout_5[0][0]                  \n",
            "__________________________________________________________________________________________________\n",
            "batch_normalization_10 (BatchNo (None, 16, 16, 256)  1024        conv2d_10[0][0]                  \n",
            "__________________________________________________________________________________________________\n",
            "conv2d_transpose_1 (Conv2DTrans (None, 32, 32, 128)  131200      batch_normalization_10[0][0]     \n",
            "__________________________________________________________________________________________________\n",
            "concatenate_1 (Concatenate)     (None, 32, 32, 256)  0           conv2d_transpose_1[0][0]         \n",
            "                                                                 batch_normalization_8[0][0]      \n",
            "__________________________________________________________________________________________________\n",
            "conv2d_11 (Conv2D)              (None, 32, 32, 128)  295040      concatenate_1[0][0]              \n",
            "__________________________________________________________________________________________________\n",
            "batch_normalization_11 (BatchNo (None, 32, 32, 128)  512         conv2d_11[0][0]                  \n",
            "__________________________________________________________________________________________________\n",
            "dropout_6 (Dropout)             (None, 32, 32, 128)  0           batch_normalization_11[0][0]     \n",
            "__________________________________________________________________________________________________\n",
            "conv2d_12 (Conv2D)              (None, 32, 32, 128)  147584      dropout_6[0][0]                  \n",
            "__________________________________________________________________________________________________\n",
            "batch_normalization_12 (BatchNo (None, 32, 32, 128)  512         conv2d_12[0][0]                  \n",
            "__________________________________________________________________________________________________\n",
            "conv2d_transpose_2 (Conv2DTrans (None, 64, 64, 64)   32832       batch_normalization_12[0][0]     \n",
            "__________________________________________________________________________________________________\n",
            "concatenate_2 (Concatenate)     (None, 64, 64, 128)  0           conv2d_transpose_2[0][0]         \n",
            "                                                                 batch_normalization_6[0][0]      \n",
            "__________________________________________________________________________________________________\n",
            "conv2d_13 (Conv2D)              (None, 64, 64, 64)   73792       concatenate_2[0][0]              \n",
            "__________________________________________________________________________________________________\n",
            "batch_normalization_13 (BatchNo (None, 64, 64, 64)   256         conv2d_13[0][0]                  \n",
            "__________________________________________________________________________________________________\n",
            "dropout_7 (Dropout)             (None, 64, 64, 64)   0           batch_normalization_13[0][0]     \n",
            "__________________________________________________________________________________________________\n",
            "conv2d_14 (Conv2D)              (None, 64, 64, 64)   36928       dropout_7[0][0]                  \n",
            "__________________________________________________________________________________________________\n",
            "batch_normalization_14 (BatchNo (None, 64, 64, 64)   256         conv2d_14[0][0]                  \n",
            "__________________________________________________________________________________________________\n",
            "conv2d_transpose_3 (Conv2DTrans (None, 128, 128, 32) 8224        batch_normalization_14[0][0]     \n",
            "__________________________________________________________________________________________________\n",
            "concatenate_3 (Concatenate)     (None, 128, 128, 64) 0           conv2d_transpose_3[0][0]         \n",
            "                                                                 batch_normalization_4[0][0]      \n",
            "__________________________________________________________________________________________________\n",
            "conv2d_15 (Conv2D)              (None, 128, 128, 32) 18464       concatenate_3[0][0]              \n",
            "__________________________________________________________________________________________________\n",
            "batch_normalization_15 (BatchNo (None, 128, 128, 32) 128         conv2d_15[0][0]                  \n",
            "__________________________________________________________________________________________________\n",
            "dropout_8 (Dropout)             (None, 128, 128, 32) 0           batch_normalization_15[0][0]     \n",
            "__________________________________________________________________________________________________\n",
            "conv2d_16 (Conv2D)              (None, 128, 128, 32) 9248        dropout_8[0][0]                  \n",
            "__________________________________________________________________________________________________\n",
            "batch_normalization_16 (BatchNo (None, 128, 128, 32) 128         conv2d_16[0][0]                  \n",
            "__________________________________________________________________________________________________\n",
            "conv2d_transpose_4 (Conv2DTrans (None, 256, 256, 16) 2064        batch_normalization_16[0][0]     \n",
            "__________________________________________________________________________________________________\n",
            "concatenate_4 (Concatenate)     (None, 256, 256, 32) 0           conv2d_transpose_4[0][0]         \n",
            "                                                                 batch_normalization_2[0][0]      \n",
            "__________________________________________________________________________________________________\n",
            "conv2d_17 (Conv2D)              (None, 256, 256, 16) 4624        concatenate_4[0][0]              \n",
            "__________________________________________________________________________________________________\n",
            "batch_normalization_17 (BatchNo (None, 256, 256, 16) 64          conv2d_17[0][0]                  \n",
            "__________________________________________________________________________________________________\n",
            "dropout_9 (Dropout)             (None, 256, 256, 16) 0           batch_normalization_17[0][0]     \n",
            "__________________________________________________________________________________________________\n",
            "conv2d_18 (Conv2D)              (None, 256, 256, 16) 2320        dropout_9[0][0]                  \n",
            "__________________________________________________________________________________________________\n",
            "batch_normalization_18 (BatchNo (None, 256, 256, 16) 64          conv2d_18[0][0]                  \n",
            "__________________________________________________________________________________________________\n",
            "conv2d_19 (Conv2D)              (None, 256, 256, 1)  17          batch_normalization_18[0][0]     \n",
            "==================================================================================================\n",
            "Total params: 1,946,993\n",
            "Trainable params: 1,944,049\n",
            "Non-trainable params: 2,944\n",
            "__________________________________________________________________________________________________\n"
          ],
          "name": "stdout"
        }
      ]
    },
    {
      "cell_type": "markdown",
      "metadata": {
        "colab_type": "text",
        "id": "PrmWnkYJB8uj"
      },
      "source": [
        "### HYPER_PARAMETERS"
      ]
    },
    {
      "cell_type": "code",
      "metadata": {
        "colab_type": "code",
        "id": "SbnY2mIDDVZN",
        "colab": {}
      },
      "source": [
        "LEARNING_RATE = 0.0001"
      ],
      "execution_count": 0,
      "outputs": []
    },
    {
      "cell_type": "markdown",
      "metadata": {
        "colab_type": "text",
        "id": "PvDS_wY7D9sq"
      },
      "source": [
        "### Initializing Callbacks"
      ]
    },
    {
      "cell_type": "code",
      "metadata": {
        "colab_type": "code",
        "id": "Au-ZS3kKEs5V",
        "colab": {}
      },
      "source": [
        "#from tensorboardcolab import TensorBoardColab, TensorBoardColabCallback\n",
        "from keras.callbacks import EarlyStopping, ModelCheckpoint, ReduceLROnPlateau\n",
        "from datetime import datetime"
      ],
      "execution_count": 0,
      "outputs": []
    },
    {
      "cell_type": "code",
      "metadata": {
        "colab_type": "code",
        "id": "Y3e-jHbcDTxb",
        "colab": {}
      },
      "source": [
        "model_path = \"/content/gdrive/My Drive/ISPRS/Models/cars.h5\"\n",
        "checkpointer = ModelCheckpoint(model_path,\n",
        "                             monitor=\"val_loss\",\n",
        "                             mode=\"min\",\n",
        "                             save_best_only = True,\n",
        "                             verbose=1)\n",
        "\n",
        "earlystopper = EarlyStopping(monitor = 'val_loss', \n",
        "                          min_delta = 0, \n",
        "                          patience = 5,\n",
        "                          verbose = 1,\n",
        "                          restore_best_weights = True)\n",
        "\n",
        "lr_reducer = ReduceLROnPlateau(monitor='val_loss',\n",
        "                               factor=0.1,\n",
        "                               patience=4,\n",
        "                               verbose=1,\n",
        "                               epsilon=1e-4)"
      ],
      "execution_count": 0,
      "outputs": []
    },
    {
      "cell_type": "markdown",
      "metadata": {
        "colab_type": "text",
        "id": "e6sX2f-L_UrQ"
      },
      "source": [
        "### Compiling the model"
      ]
    },
    {
      "cell_type": "code",
      "metadata": {
        "colab_type": "code",
        "id": "BSW1jCBF-_R5",
        "outputId": "8cb84eb5-0bb6-4f30-f5a5-3ea94d804713",
        "colab": {
          "base_uri": "https://localhost:8080/",
          "height": 72
        }
      },
      "source": [
        "opt = keras.optimizers.adam(LEARNING_RATE)\n",
        "model.compile(\n",
        "      optimizer=opt,\n",
        "      loss=soft_dice_loss,\n",
        "      metrics=[iou_coef])"
      ],
      "execution_count": 12,
      "outputs": [
        {
          "output_type": "stream",
          "text": [
            "WARNING:tensorflow:From /usr/local/lib/python3.6/dist-packages/keras/optimizers.py:793: The name tf.train.Optimizer is deprecated. Please use tf.compat.v1.train.Optimizer instead.\n",
            "\n"
          ],
          "name": "stdout"
        }
      ]
    },
    {
      "cell_type": "markdown",
      "metadata": {
        "colab_type": "text",
        "id": "19gHX8-TBVJp"
      },
      "source": [
        "## Testing our Model"
      ]
    },
    {
      "cell_type": "markdown",
      "metadata": {
        "colab_type": "text",
        "id": "150dL9XqskGW"
      },
      "source": [
        "### On Test Images"
      ]
    },
    {
      "cell_type": "code",
      "metadata": {
        "colab_type": "code",
        "id": "nHcafCucPwsN",
        "colab": {}
      },
      "source": [
        "model.load_weights(\"/content/gdrive/My Drive/ISPRS/Models/cars.h5\")"
      ],
      "execution_count": 0,
      "outputs": []
    },
    {
      "cell_type": "code",
      "metadata": {
        "id": "xQt63iYGS4Bk",
        "colab_type": "code",
        "outputId": "7d83c014-7fa8-42ed-8d2d-0593bf9b97b1",
        "colab": {
          "base_uri": "https://localhost:8080/",
          "height": 729
        }
      },
      "source": [
        "\"\"\"Test\"\"\"\n",
        "import cv2\n",
        "import glob\n",
        "import numpy as np\n",
        "import h5py\n",
        "\n",
        "#test_images = np.array([cv2.imread(file) for file in glob.glob(\"/home/bisag/Desktop/Road-Segmentation/I/\")])\n",
        "#test_masks = np.array([cv2.imread(file) for file in glob.glob(\"/home/bisag/Desktop/Road-Segmentation/M/\")])\n",
        "\n",
        "test_images = []\n",
        "files = glob.glob (\"/content/gdrive/My Drive/ISPRS/Test/*.png\")\n",
        "for myFile in files:\n",
        "    print(myFile)\n",
        "    image = cv2.imread (myFile)\n",
        "    test_images.append (image)\n",
        "\n",
        "\n",
        "    \n",
        "#test_images = cv2.imread(\"/home/bisag/Desktop/Road-Segmentation/I/1.png\")\n",
        "#test_masks = cv2.imread(\"/home/bisag/Desktop/Road-Segmentation/M/1.png\")\n",
        "\n",
        "test_images = np.array(test_images)\n",
        "\n",
        "print(test_images.shape)\n",
        "\n"
      ],
      "execution_count": 21,
      "outputs": [
        {
          "output_type": "stream",
          "text": [
            "/content/gdrive/My Drive/ISPRS/Test/top_potsdam_2_10_RGB_115.png\n",
            "/content/gdrive/My Drive/ISPRS/Test/top_potsdam_2_10_RGB_130.png\n",
            "/content/gdrive/My Drive/ISPRS/Test/top_potsdam_2_10_RGB_27.png\n",
            "/content/gdrive/My Drive/ISPRS/Test/top_potsdam_2_10_RGB_70.png\n",
            "/content/gdrive/My Drive/ISPRS/Test/top_potsdam_2_10_RGB_91.png\n",
            "/content/gdrive/My Drive/ISPRS/Test/top_potsdam_2_10_RGB_102.png\n",
            "/content/gdrive/My Drive/ISPRS/Test/top_potsdam_2_10_RGB_3.png\n",
            "/content/gdrive/My Drive/ISPRS/Test/top_potsdam_2_10_RGB_4.png\n",
            "/content/gdrive/My Drive/ISPRS/Test/top_potsdam_2_10_RGB_23.png\n",
            "/content/gdrive/My Drive/ISPRS/Test/top_potsdam_2_10_RGB_2.png\n",
            "/content/gdrive/My Drive/ISPRS/Test/top_potsdam_2_10_RGB_319.png\n",
            "/content/gdrive/My Drive/ISPRS/Test/top_potsdam_2_10_RGB_331.png\n",
            "/content/gdrive/My Drive/ISPRS/Test/top_potsdam_2_10_RGB_327.png\n",
            "/content/gdrive/My Drive/ISPRS/Test/top_potsdam_2_10_RGB_317.png\n",
            "/content/gdrive/My Drive/ISPRS/Test/top_potsdam_2_10_RGB_401.png\n",
            "/content/gdrive/My Drive/ISPRS/Test/top_potsdam_2_10_RGB_414.png\n",
            "/content/gdrive/My Drive/ISPRS/Test/top_potsdam_2_10_RGB_372.png\n",
            "/content/gdrive/My Drive/ISPRS/Test/top_potsdam_2_10_RGB_373.png\n",
            "/content/gdrive/My Drive/ISPRS/Test/top_potsdam_2_10_RGB_402.png\n",
            "/content/gdrive/My Drive/ISPRS/Test/top_potsdam_2_10_RGB_403.png\n",
            "/content/gdrive/My Drive/ISPRS/Test/top_potsdam_2_10_RGB_410.png\n",
            "/content/gdrive/My Drive/ISPRS/Test/top_potsdam_2_10_RGB_411.png\n",
            "/content/gdrive/My Drive/ISPRS/Test/top_potsdam_2_10_RGB_385.png\n",
            "/content/gdrive/My Drive/ISPRS/Test/top_potsdam_2_10_RGB_342.png\n",
            "/content/gdrive/My Drive/ISPRS/Test/top_potsdam_2_10_RGB_333.png\n",
            "/content/gdrive/My Drive/ISPRS/Test/top_potsdam_2_10_RGB_341.png\n",
            "/content/gdrive/My Drive/ISPRS/Test/top_potsdam_2_10_RGB_364.png\n",
            "/content/gdrive/My Drive/ISPRS/Test/top_potsdam_2_10_RGB_289.png\n",
            "/content/gdrive/My Drive/ISPRS/Test/top_potsdam_2_10_RGB_266.png\n",
            "/content/gdrive/My Drive/ISPRS/Test/top_potsdam_2_10_RGB_259.png\n",
            "/content/gdrive/My Drive/ISPRS/Test/top_potsdam_2_10_RGB_228.png\n",
            "/content/gdrive/My Drive/ISPRS/Test/top_potsdam_2_10_RGB_292.png\n",
            "/content/gdrive/My Drive/ISPRS/Test/top_potsdam_2_10_RGB_363.png\n",
            "/content/gdrive/My Drive/ISPRS/Test/top_potsdam_2_10_RGB_359.png\n",
            "/content/gdrive/My Drive/ISPRS/Test/top_potsdam_2_10_RGB_371.png\n",
            "/content/gdrive/My Drive/ISPRS/Test/top_potsdam_2_10_RGB_343.png\n",
            "/content/gdrive/My Drive/ISPRS/Test/top_potsdam_2_10_RGB_316.png\n",
            "/content/gdrive/My Drive/ISPRS/Test/top_potsdam_2_10_RGB_291.png\n",
            "/content/gdrive/My Drive/ISPRS/Test/top_potsdam_2_10_RGB_315.png\n",
            "/content/gdrive/My Drive/ISPRS/Test/top_potsdam_2_10_RGB_156.png\n",
            "(40, 256, 256, 3)\n"
          ],
          "name": "stdout"
        }
      ]
    },
    {
      "cell_type": "code",
      "metadata": {
        "id": "cHCcF4O1S4Bx",
        "colab_type": "code",
        "outputId": "18f5c690-fdef-4b24-907d-fc07366a6797",
        "colab": {
          "base_uri": "https://localhost:8080/",
          "height": 34
        }
      },
      "source": [
        "predictions = model.predict(test_images, verbose=1)"
      ],
      "execution_count": 22,
      "outputs": [
        {
          "output_type": "stream",
          "text": [
            "40/40 [==============================] - 6s 145ms/step\n"
          ],
          "name": "stdout"
        }
      ]
    },
    {
      "cell_type": "code",
      "metadata": {
        "id": "TiN70g5-S4B6",
        "colab_type": "code",
        "colab": {}
      },
      "source": [
        "thresh_val = 0.1\n",
        "predicton_threshold = (predictions > thresh_val).astype(np.uint8)"
      ],
      "execution_count": 0,
      "outputs": []
    },
    {
      "cell_type": "code",
      "metadata": {
        "id": "HReAzzxQS4CF",
        "colab_type": "code",
        "outputId": "91731195-e4e6-48f6-ad07-bdc9c4216217",
        "colab": {
          "base_uri": "https://localhost:8080/",
          "height": 314
        }
      },
      "source": [
        "import matplotlib\n",
        "\n",
        "for i in range(len(predictions)):\n",
        "    cv2.imwrite( \"/content/gdrive/My Drive/ISPRS/Results/\" + str(i) + \"Image.png\"  , np.squeeze(test_images[i][:,:,0]))\n",
        "    #cv2.imwrite( \"/home/bisag/Desktop/Road-Segmentation/Results/\" + str(i) + \"Prediction.png\"  , np.squeeze(predictions[i][:,:,0]))\n",
        "    #cv2.imwrite( \"/home/bisag/Desktop/Road-Segmentation/Results/\" + str(i) + \"Prediction_Threshold.png\"  , np.squeeze(predicton_threshold[i][:,:,0]))\n",
        "    #matplotlib.image.imsave('/home/bisag/Desktop/Road-Segmentation/Results/000.png', np.squeeze(predicton_threshold[0][:,:,0]))\n",
        "    matplotlib.image.imsave(\"/content/gdrive/My Drive/ISPRS/Results/\" + str(i) + \"Prediction.png\"  , np.squeeze(predictions[i][:,:,0]))\n",
        "    matplotlib.image.imsave( \"/content/gdrive/My Drive/ISPRS/Results/\" + str(i) + \"Prediction_Threshold.png\"  , np.squeeze(predicton_threshold[i][:,:,0]))\n",
        "\n",
        "    #imshow(np.squeeze(predictions[0][:,:,0]))\n",
        "\n",
        "imshow(np.squeeze(predictions[0][:,:,0]))\n",
        "\n",
        "#import scipy.misc\n",
        "#scipy.misc.imsave('/home/bisag/Desktop/Road-Segmentation/Results/00.png', np.squeeze(predictions[0][:,:,0]))"
      ],
      "execution_count": 26,
      "outputs": [
        {
          "output_type": "execute_result",
          "data": {
            "text/plain": [
              "<matplotlib.image.AxesImage at 0x7f6284a10ba8>"
            ]
          },
          "metadata": {
            "tags": []
          },
          "execution_count": 26
        },
        {
          "output_type": "display_data",
          "data": {
            "image/png": "[encoded data removed]",
            "text/plain": [
              "<Figure size 432x288 with 1 Axes>"
            ]
          },
          "metadata": {
            "tags": []
          }
        }
      ]
    },
    {
      "cell_type": "code",
      "metadata": {
        "id": "7ITLtsiFS4Cj",
        "colab_type": "code",
        "colab": {}
      },
      "source": [
        ""
      ],
      "execution_count": 0,
      "outputs": []
    }
  ]
}