{
  "nbformat": 4,
  "nbformat_minor": 0,
  "metadata": {
    "colab": {
      "name": "PSPNet_Efficientnetb7_RoadMapSeg.ipynb",
      "provenance": [],
      "collapsed_sections": [],
      "machine_shape": "hm"
    },
    "kernelspec": {
      "name": "python3",
      "display_name": "Python 3"
    },
    "accelerator": "GPU"
  },
  "cells": [
    {
      "cell_type": "markdown",
      "metadata": {
        "id": "EttPfqDEymfq",
        "colab_type": "text"
      },
      "source": [
        "#Semantic Segmentation of Aerial Images\n",
        "###Road Training"
      ]
    },
    {
      "cell_type": "markdown",
      "metadata": {
        "id": "yGkz_jLSz3_k",
        "colab_type": "text"
      },
      "source": [
        "####Mounting Google Drive"
      ]
    },
    {
      "cell_type": "code",
      "metadata": {
        "id": "jp1XESIw_CJP",
        "colab_type": "code",
        "outputId": "8219758c-c53e-4973-f109-20a4462f4dfa",
        "colab": {
          "base_uri": "https://localhost:8080/",
          "height": 141
        }
      },
      "source": [
        "from google.colab import drive\n",
        "drive.mount('/content/gdrive/')\n",
        "base_path = \"gdrive/My\\ Drive/MapSegClean/\"\n",
        "%cd gdrive/My\\ Drive/MapSegClean/"
      ],
      "execution_count": 0,
      "outputs": [
        {
          "output_type": "stream",
          "text": [
            "Go to this URL in a browser: https://accounts.google.com/o/oauth2/auth?client_id=947318989803-6bn6qk8qdgf4n4g3pfee6491hc0brc4i.apps.googleusercontent.com&redirect_uri=urn%3aietf%3awg%3aoauth%3a2.0%3aoob&response_type=code&scope=email%20https%3a%2f%2fwww.googleapis.com%2fauth%2fdocs.test%20https%3a%2f%2fwww.googleapis.com%2fauth%2fdrive%20https%3a%2f%2fwww.googleapis.com%2fauth%2fdrive.photos.readonly%20https%3a%2f%2fwww.googleapis.com%2fauth%2fpeopleapi.readonly\n",
            "\n",
            "Enter your authorization code:\n",
            "··········\n",
            "Mounted at /content/gdrive/\n",
            "/content/gdrive/My Drive/MapSegClean\n"
          ],
          "name": "stdout"
        }
      ]
    },
    {
      "cell_type": "markdown",
      "metadata": {
        "id": "LmuIKqGIy03M",
        "colab_type": "text"
      },
      "source": [
        "####Importing Libraries"
      ]
    },
    {
      "cell_type": "code",
      "metadata": {
        "id": "YFWF-wLcF0-S",
        "colab_type": "code",
        "outputId": "c9076ff2-92d8-4052-cacf-fd1982ac3ea5",
        "colab": {
          "base_uri": "https://localhost:8080/",
          "height": 312
        }
      },
      "source": [
        "!nvidia-smi"
      ],
      "execution_count": 0,
      "outputs": [
        {
          "output_type": "stream",
          "text": [
            "Wed Mar 11 05:36:32 2020       \n",
            "+-----------------------------------------------------------------------------+\n",
            "| NVIDIA-SMI 440.59       Driver Version: 418.67       CUDA Version: 10.1     |\n",
            "|-------------------------------+----------------------+----------------------+\n",
            "| GPU  Name        Persistence-M| Bus-Id        Disp.A | Volatile Uncorr. ECC |\n",
            "| Fan  Temp  Perf  Pwr:Usage/Cap|         Memory-Usage | GPU-Util  Compute M. |\n",
            "|===============================+======================+======================|\n",
            "|   0  Tesla K80           Off  | 00000000:00:04.0 Off |                    0 |\n",
            "| N/A   35C    P8    26W / 149W |      0MiB / 11441MiB |      0%      Default |\n",
            "+-------------------------------+----------------------+----------------------+\n",
            "                                                                               \n",
            "+-----------------------------------------------------------------------------+\n",
            "| Processes:                                                       GPU Memory |\n",
            "|  GPU       PID   Type   Process name                             Usage      |\n",
            "|=============================================================================|\n",
            "|  No running processes found                                                 |\n",
            "+-----------------------------------------------------------------------------+\n"
          ],
          "name": "stdout"
        }
      ]
    },
    {
      "cell_type": "code",
      "metadata": {
        "id": "xLs7ouvD_Ox8",
        "colab_type": "code",
        "colab": {}
      },
      "source": [
        "import cv2\n",
        "import numpy as np\n",
        "import h5py"
      ],
      "execution_count": 0,
      "outputs": []
    },
    {
      "cell_type": "code",
      "metadata": {
        "id": "Q_Wjplyd_O8g",
        "colab_type": "code",
        "outputId": "635757a6-6832-443d-fa40-7e7b0f50333e",
        "colab": {
          "base_uri": "https://localhost:8080/",
          "height": 81
        }
      },
      "source": [
        "import tensorflow as tf\n",
        "from keras import backend as K"
      ],
      "execution_count": 0,
      "outputs": [
        {
          "output_type": "display_data",
          "data": {
            "text/html": [
              "<p style=\"color: red;\">\n",
              "The default version of TensorFlow in Colab will soon switch to TensorFlow 2.x.<br>\n",
              "We recommend you <a href=\"https://www.tensorflow.org/guide/migrate\" target=\"_blank\">upgrade</a> now \n",
              "or ensure your notebook will continue to use TensorFlow 1.x via the <code>%tensorflow_version 1.x</code> magic:\n",
              "<a href=\"https://colab.research.google.com/notebooks/tensorflow_version.ipynb\" target=\"_blank\">more info</a>.</p>\n"
            ],
            "text/plain": [
              "<IPython.core.display.HTML object>"
            ]
          },
          "metadata": {
            "tags": []
          }
        },
        {
          "output_type": "stream",
          "text": [
            "Using TensorFlow backend.\n"
          ],
          "name": "stderr"
        }
      ]
    },
    {
      "cell_type": "code",
      "metadata": {
        "id": "0aFHDPl3_PAe",
        "colab_type": "code",
        "colab": {}
      },
      "source": [
        "from keras.models import Model, load_model\n",
        "import tensorflow as tf\n",
        "from keras.layers import Input\n",
        "from keras.layers.core import Dropout, Lambda\n",
        "from keras.layers.convolutional import Conv2D, Conv2DTranspose\n",
        "from keras.layers.pooling import MaxPooling2D\n",
        "from keras.layers.merge import concatenate\n",
        "from keras import optimizers\n",
        "from keras.layers import BatchNormalization\n",
        "from tensorflow.keras.metrics import MeanIoU\n",
        "import keras\n",
        "\n",
        "from skimage import color\n",
        "import pickle"
      ],
      "execution_count": 0,
      "outputs": []
    },
    {
      "cell_type": "markdown",
      "metadata": {
        "id": "YblNbuv_zCsz",
        "colab_type": "text"
      },
      "source": [
        "####Read Data From h5 files"
      ]
    },
    {
      "cell_type": "code",
      "metadata": {
        "id": "2XHC2-Eb_PDV",
        "colab_type": "code",
        "colab": {}
      },
      "source": [
        "h5f = h5py.File('Cpy_clean_roadlabel.h5','r')\n",
        "roadlabel = h5f['clean_roadlabel'][:]\n",
        "h5f.close()\n",
        "\n",
        "h5f = h5py.File('Cpy_clean_road.h5','r')\n",
        "road = h5f['clean_road'][:]\n",
        "h5f.close()"
      ],
      "execution_count": 0,
      "outputs": []
    },
    {
      "cell_type": "code",
      "metadata": {
        "colab_type": "code",
        "id": "tX5CGhQJyRMW",
        "outputId": "2f9bc121-f93e-4f4e-e6b5-24d8fd6f9ce8",
        "colab": {
          "base_uri": "https://localhost:8080/",
          "height": 471
        }
      },
      "source": [
        "#for i in range(road.shape[0]):\n",
        "#  cv2.imwrite(\"Road/\" + str(i) + \".png\", road[i])\n",
        "\n",
        "#for i in range(roadlabel.shape[0]):\n",
        "#  cv2.imwrite(\"RoadLabel/\" + str(i) + \".png\", roadlabel[i])\n",
        "pip install -U segmentation-models"
      ],
      "execution_count": 0,
      "outputs": [
        {
          "output_type": "stream",
          "text": [
            "Collecting segmentation-models\n",
            "  Downloading https://files.pythonhosted.org/packages/da/b9/4a183518c21689a56b834eaaa45cad242d9ec09a4360b5b10139f23c63f4/segmentation_models-1.0.1-py3-none-any.whl\n",
            "Collecting efficientnet==1.0.0\n",
            "  Downloading https://files.pythonhosted.org/packages/97/82/f3ae07316f0461417dc54affab6e86ab188a5a22f33176d35271628b96e0/efficientnet-1.0.0-py3-none-any.whl\n",
            "Requirement already satisfied, skipping upgrade: keras-applications<=1.0.8,>=1.0.7 in /usr/local/lib/python3.6/dist-packages (from segmentation-models) (1.0.8)\n",
            "Collecting image-classifiers==1.0.0\n",
            "  Downloading https://files.pythonhosted.org/packages/81/98/6f84720e299a4942ab80df5f76ab97b7828b24d1de5e9b2cbbe6073228b7/image_classifiers-1.0.0-py3-none-any.whl\n",
            "Requirement already satisfied, skipping upgrade: scikit-image in /usr/local/lib/python3.6/dist-packages (from efficientnet==1.0.0->segmentation-models) (0.16.2)\n",
            "Requirement already satisfied, skipping upgrade: numpy>=1.9.1 in /usr/local/lib/python3.6/dist-packages (from keras-applications<=1.0.8,>=1.0.7->segmentation-models) (1.17.5)\n",
            "Requirement already satisfied, skipping upgrade: h5py in /usr/local/lib/python3.6/dist-packages (from keras-applications<=1.0.8,>=1.0.7->segmentation-models) (2.8.0)\n",
            "Requirement already satisfied, skipping upgrade: pillow>=4.3.0 in /usr/local/lib/python3.6/dist-packages (from scikit-image->efficientnet==1.0.0->segmentation-models) (6.2.2)\n",
            "Requirement already satisfied, skipping upgrade: scipy>=0.19.0 in /usr/local/lib/python3.6/dist-packages (from scikit-image->efficientnet==1.0.0->segmentation-models) (1.4.1)\n",
            "Requirement already satisfied, skipping upgrade: matplotlib!=3.0.0,>=2.0.0 in /usr/local/lib/python3.6/dist-packages (from scikit-image->efficientnet==1.0.0->segmentation-models) (3.1.3)\n",
            "Requirement already satisfied, skipping upgrade: imageio>=2.3.0 in /usr/local/lib/python3.6/dist-packages (from scikit-image->efficientnet==1.0.0->segmentation-models) (2.4.1)\n",
            "Requirement already satisfied, skipping upgrade: PyWavelets>=0.4.0 in /usr/local/lib/python3.6/dist-packages (from scikit-image->efficientnet==1.0.0->segmentation-models) (1.1.1)\n",
            "Requirement already satisfied, skipping upgrade: networkx>=2.0 in /usr/local/lib/python3.6/dist-packages (from scikit-image->efficientnet==1.0.0->segmentation-models) (2.4)\n",
            "Requirement already satisfied, skipping upgrade: six in /usr/local/lib/python3.6/dist-packages (from h5py->keras-applications<=1.0.8,>=1.0.7->segmentation-models) (1.12.0)\n",
            "Requirement already satisfied, skipping upgrade: python-dateutil>=2.1 in /usr/local/lib/python3.6/dist-packages (from matplotlib!=3.0.0,>=2.0.0->scikit-image->efficientnet==1.0.0->segmentation-models) (2.6.1)\n",
            "Requirement already satisfied, skipping upgrade: pyparsing!=2.0.4,!=2.1.2,!=2.1.6,>=2.0.1 in /usr/local/lib/python3.6/dist-packages (from matplotlib!=3.0.0,>=2.0.0->scikit-image->efficientnet==1.0.0->segmentation-models) (2.4.6)\n",
            "Requirement already satisfied, skipping upgrade: cycler>=0.10 in /usr/local/lib/python3.6/dist-packages (from matplotlib!=3.0.0,>=2.0.0->scikit-image->efficientnet==1.0.0->segmentation-models) (0.10.0)\n",
            "Requirement already satisfied, skipping upgrade: kiwisolver>=1.0.1 in /usr/local/lib/python3.6/dist-packages (from matplotlib!=3.0.0,>=2.0.0->scikit-image->efficientnet==1.0.0->segmentation-models) (1.1.0)\n",
            "Requirement already satisfied, skipping upgrade: decorator>=4.3.0 in /usr/local/lib/python3.6/dist-packages (from networkx>=2.0->scikit-image->efficientnet==1.0.0->segmentation-models) (4.4.1)\n",
            "Requirement already satisfied, skipping upgrade: setuptools in /usr/local/lib/python3.6/dist-packages (from kiwisolver>=1.0.1->matplotlib!=3.0.0,>=2.0.0->scikit-image->efficientnet==1.0.0->segmentation-models) (45.2.0)\n",
            "Installing collected packages: efficientnet, image-classifiers, segmentation-models\n",
            "Successfully installed efficientnet-1.0.0 image-classifiers-1.0.0 segmentation-models-1.0.1\n"
          ],
          "name": "stdout"
        }
      ]
    },
    {
      "cell_type": "markdown",
      "metadata": {
        "id": "S_FvtUV8zLLO",
        "colab_type": "text"
      },
      "source": [
        "####Loss Function"
      ]
    },
    {
      "cell_type": "code",
      "metadata": {
        "id": "UCQmMVMM_PIG",
        "colab_type": "code",
        "colab": {}
      },
      "source": [
        "def iou_coef(y_true, y_pred, smooth=1):\n",
        "  intersection = K.sum(K.abs(y_true * y_pred), axis=[1,2,3])\n",
        "  union = K.sum(y_true,[1,2,3])+K.sum(y_pred,[1,2,3])-intersection\n",
        "  iou = K.mean((intersection + smooth) / (union + smooth), axis=0)\n",
        "  return iou\n",
        "\n",
        "def dice_coef(y_true, y_pred, smooth = 1):\n",
        "    y_true_f = K.flatten(y_true)\n",
        "    y_pred_f = K.flatten(y_pred)\n",
        "    intersection = K.sum(y_true_f * y_pred_f)\n",
        "    return (2. * intersection + smooth) / (K.sum(y_true_f) + K.sum(y_pred_f) + smooth)\n",
        "\n",
        "def soft_dice_loss(y_true, y_pred):\n",
        "    return 1-dice_coef(y_true, y_pred)\n"
      ],
      "execution_count": 0,
      "outputs": []
    },
    {
      "cell_type": "markdown",
      "metadata": {
        "id": "h60tIIAZzUFk",
        "colab_type": "text"
      },
      "source": [
        "####Preprocecssing Data"
      ]
    },
    {
      "cell_type": "code",
      "metadata": {
        "id": "Rz9UxbKN_PKT",
        "colab_type": "code",
        "outputId": "122e2ebe-b275-4b0a-8abd-004657b0f411",
        "colab": {
          "base_uri": "https://localhost:8080/",
          "height": 52
        }
      },
      "source": [
        "print(roadlabel.shape)\n",
        "\n",
        "roadlabelgray = []\n",
        "\n",
        "for i in range(roadlabel.shape[0]):\n",
        "  roadlabelgray.append(cv2.cvtColor(roadlabel[i], cv2.COLOR_BGR2GRAY))\n",
        "\n",
        "roadlabelgray = np.asarray(roadlabelgray)\n",
        "\n",
        "roadlabel = np.expand_dims(roadlabelgray, -1)\n",
        "\n",
        "del roadlabelgray\n",
        "\n",
        "print(roadlabel.shape)"
      ],
      "execution_count": 0,
      "outputs": [
        {
          "output_type": "stream",
          "text": [
            "(22911, 256, 256, 3)\n",
            "(22911, 256, 256, 1)\n"
          ],
          "name": "stdout"
        }
      ]
    },
    {
      "cell_type": "code",
      "metadata": {
        "id": "wyK64qk8_3xS",
        "colab_type": "code",
        "colab": {}
      },
      "source": [
        "seed = 56\n",
        "IMAGE_HEIGHT = IMAGE_WIDTH = 256\n",
        "NUM_CHANNELS = 3"
      ],
      "execution_count": 0,
      "outputs": []
    },
    {
      "cell_type": "markdown",
      "metadata": {
        "id": "ifTwsREszadP",
        "colab_type": "text"
      },
      "source": [
        "####Model"
      ]
    },
    {
      "cell_type": "code",
      "metadata": {
        "id": "ezvkK5_K06kv",
        "colab_type": "code",
        "outputId": "fb13d10a-7bb2-4a0e-c6cc-57f856d4c114",
        "colab": {
          "base_uri": "https://localhost:8080/",
          "height": 34
        }
      },
      "source": [
        "from segmentation_models import PSPNet\n",
        "from segmentation_models import get_preprocessing\n",
        "from segmentation_models.losses import bce_jaccard_loss\n",
        "from segmentation_models.metrics import iou_score"
      ],
      "execution_count": 0,
      "outputs": [
        {
          "output_type": "stream",
          "text": [
            "Segmentation Models: using `keras` framework.\n"
          ],
          "name": "stdout"
        }
      ]
    },
    {
      "cell_type": "code",
      "metadata": {
        "id": "LvDhuoGCyLfa",
        "colab_type": "code",
        "outputId": "f1f70783-9838-4266-e433-2f04bb0f86ac",
        "colab": {
          "base_uri": "https://localhost:8080/",
          "height": 1000
        }
      },
      "source": [
        "model = PSPNet('efficientnetb7',input_shape=(240, 240, 3), encoder_weights=None, classes=1, psp_use_batchnorm=True, psp_pooling_type='max', activation='sigmoid')\n",
        "\n",
        "#model = FPN(input_shape=(256, 256, 3), classes = 1, pyramid_use_batchnorm=True, activation='softmax', encoder_weights=None)\n",
        "#model = Unet(input_shape=(256, 256, 3), weights=None, activation='elu')\n",
        "model.summary()"
      ],
      "execution_count": 0,
      "outputs": [
        {
          "output_type": "stream",
          "text": [
            "WARNING:tensorflow:From /usr/local/lib/python3.6/dist-packages/keras/backend/tensorflow_backend.py:66: The name tf.get_default_graph is deprecated. Please use tf.compat.v1.get_default_graph instead.\n",
            "\n",
            "WARNING:tensorflow:From /usr/local/lib/python3.6/dist-packages/keras/backend/tensorflow_backend.py:541: The name tf.placeholder is deprecated. Please use tf.compat.v1.placeholder instead.\n",
            "\n",
            "WARNING:tensorflow:From /usr/local/lib/python3.6/dist-packages/keras/backend/tensorflow_backend.py:4479: The name tf.truncated_normal is deprecated. Please use tf.random.truncated_normal instead.\n",
            "\n",
            "WARNING:tensorflow:From /usr/local/lib/python3.6/dist-packages/keras/backend/tensorflow_backend.py:190: The name tf.get_default_session is deprecated. Please use tf.compat.v1.get_default_session instead.\n",
            "\n",
            "WARNING:tensorflow:From /usr/local/lib/python3.6/dist-packages/keras/backend/tensorflow_backend.py:197: The name tf.ConfigProto is deprecated. Please use tf.compat.v1.ConfigProto instead.\n",
            "\n",
            "WARNING:tensorflow:From /usr/local/lib/python3.6/dist-packages/keras/backend/tensorflow_backend.py:203: The name tf.Session is deprecated. Please use tf.compat.v1.Session instead.\n",
            "\n",
            "WARNING:tensorflow:From /usr/local/lib/python3.6/dist-packages/keras/backend/tensorflow_backend.py:207: The name tf.global_variables is deprecated. Please use tf.compat.v1.global_variables instead.\n",
            "\n",
            "WARNING:tensorflow:From /usr/local/lib/python3.6/dist-packages/keras/backend/tensorflow_backend.py:216: The name tf.is_variable_initialized is deprecated. Please use tf.compat.v1.is_variable_initialized instead.\n",
            "\n",
            "WARNING:tensorflow:From /usr/local/lib/python3.6/dist-packages/keras/backend/tensorflow_backend.py:223: The name tf.variables_initializer is deprecated. Please use tf.compat.v1.variables_initializer instead.\n",
            "\n",
            "WARNING:tensorflow:From /usr/local/lib/python3.6/dist-packages/keras/backend/tensorflow_backend.py:2041: The name tf.nn.fused_batch_norm is deprecated. Please use tf.compat.v1.nn.fused_batch_norm instead.\n",
            "\n",
            "WARNING:tensorflow:From /usr/local/lib/python3.6/dist-packages/keras/backend/tensorflow_backend.py:148: The name tf.placeholder_with_default is deprecated. Please use tf.compat.v1.placeholder_with_default instead.\n",
            "\n",
            "WARNING:tensorflow:From /usr/local/lib/python3.6/dist-packages/keras/backend/tensorflow_backend.py:3733: calling dropout (from tensorflow.python.ops.nn_ops) with keep_prob is deprecated and will be removed in a future version.\n",
            "Instructions for updating:\n",
            "Please use `rate` instead of `keep_prob`. Rate should be set to `rate = 1 - keep_prob`.\n",
            "WARNING:tensorflow:Large dropout rate: 0.5125 (>0.5). In TensorFlow 2.x, dropout() uses dropout rate instead of keep_prob. Please ensure that this is intended.\n",
            "WARNING:tensorflow:Large dropout rate: 0.525 (>0.5). In TensorFlow 2.x, dropout() uses dropout rate instead of keep_prob. Please ensure that this is intended.\n",
            "WARNING:tensorflow:Large dropout rate: 0.5375 (>0.5). In TensorFlow 2.x, dropout() uses dropout rate instead of keep_prob. Please ensure that this is intended.\n",
            "WARNING:tensorflow:Large dropout rate: 0.55 (>0.5). In TensorFlow 2.x, dropout() uses dropout rate instead of keep_prob. Please ensure that this is intended.\n",
            "WARNING:tensorflow:Large dropout rate: 0.5625 (>0.5). In TensorFlow 2.x, dropout() uses dropout rate instead of keep_prob. Please ensure that this is intended.\n",
            "WARNING:tensorflow:From /usr/local/lib/python3.6/dist-packages/keras/backend/tensorflow_backend.py:4267: The name tf.nn.max_pool is deprecated. Please use tf.nn.max_pool2d instead.\n",
            "\n",
            "WARNING:tensorflow:From /usr/local/lib/python3.6/dist-packages/keras/backend/tensorflow_backend.py:4432: The name tf.random_uniform is deprecated. Please use tf.random.uniform instead.\n",
            "\n",
            "WARNING:tensorflow:From /usr/local/lib/python3.6/dist-packages/keras/backend/tensorflow_backend.py:2241: The name tf.image.resize_bilinear is deprecated. Please use tf.compat.v1.image.resize_bilinear instead.\n",
            "\n",
            "Model: \"model_1\"\n",
            "__________________________________________________________________________________________________\n",
            "Layer (type)                    Output Shape         Param #     Connected to                     \n",
            "==================================================================================================\n",
            "input_1 (InputLayer)            (None, 240, 240, 3)  0                                            \n",
            "__________________________________________________________________________________________________\n",
            "stem_conv (Conv2D)              (None, 120, 120, 64) 1728        input_1[0][0]                    \n",
            "__________________________________________________________________________________________________\n",
            "stem_bn (BatchNormalization)    (None, 120, 120, 64) 256         stem_conv[0][0]                  \n",
            "__________________________________________________________________________________________________\n",
            "stem_activation (Activation)    (None, 120, 120, 64) 0           stem_bn[0][0]                    \n",
            "__________________________________________________________________________________________________\n",
            "block1a_dwconv (DepthwiseConv2D (None, 120, 120, 64) 576         stem_activation[0][0]            \n",
            "__________________________________________________________________________________________________\n",
            "block1a_bn (BatchNormalization) (None, 120, 120, 64) 256         block1a_dwconv[0][0]             \n",
            "__________________________________________________________________________________________________\n",
            "block1a_activation (Activation) (None, 120, 120, 64) 0           block1a_bn[0][0]                 \n",
            "__________________________________________________________________________________________________\n",
            "block1a_se_squeeze (GlobalAvera (None, 64)           0           block1a_activation[0][0]         \n",
            "__________________________________________________________________________________________________\n",
            "block1a_se_reshape (Reshape)    (None, 1, 1, 64)     0           block1a_se_squeeze[0][0]         \n",
            "__________________________________________________________________________________________________\n",
            "block1a_se_reduce (Conv2D)      (None, 1, 1, 16)     1040        block1a_se_reshape[0][0]         \n",
            "__________________________________________________________________________________________________\n",
            "block1a_se_expand (Conv2D)      (None, 1, 1, 64)     1088        block1a_se_reduce[0][0]          \n",
            "__________________________________________________________________________________________________\n",
            "block1a_se_excite (Multiply)    (None, 120, 120, 64) 0           block1a_activation[0][0]         \n",
            "                                                                 block1a_se_expand[0][0]          \n",
            "__________________________________________________________________________________________________\n",
            "block1a_project_conv (Conv2D)   (None, 120, 120, 32) 2048        block1a_se_excite[0][0]          \n",
            "__________________________________________________________________________________________________\n",
            "block1a_project_bn (BatchNormal (None, 120, 120, 32) 128         block1a_project_conv[0][0]       \n",
            "__________________________________________________________________________________________________\n",
            "block1b_dwconv (DepthwiseConv2D (None, 120, 120, 32) 288         block1a_project_bn[0][0]         \n",
            "__________________________________________________________________________________________________\n",
            "block1b_bn (BatchNormalization) (None, 120, 120, 32) 128         block1b_dwconv[0][0]             \n",
            "__________________________________________________________________________________________________\n",
            "block1b_activation (Activation) (None, 120, 120, 32) 0           block1b_bn[0][0]                 \n",
            "__________________________________________________________________________________________________\n",
            "block1b_se_squeeze (GlobalAvera (None, 32)           0           block1b_activation[0][0]         \n",
            "__________________________________________________________________________________________________\n",
            "block1b_se_reshape (Reshape)    (None, 1, 1, 32)     0           block1b_se_squeeze[0][0]         \n",
            "__________________________________________________________________________________________________\n",
            "block1b_se_reduce (Conv2D)      (None, 1, 1, 8)      264         block1b_se_reshape[0][0]         \n",
            "__________________________________________________________________________________________________\n",
            "block1b_se_expand (Conv2D)      (None, 1, 1, 32)     288         block1b_se_reduce[0][0]          \n",
            "__________________________________________________________________________________________________\n",
            "block1b_se_excite (Multiply)    (None, 120, 120, 32) 0           block1b_activation[0][0]         \n",
            "                                                                 block1b_se_expand[0][0]          \n",
            "__________________________________________________________________________________________________\n",
            "block1b_project_conv (Conv2D)   (None, 120, 120, 32) 1024        block1b_se_excite[0][0]          \n",
            "__________________________________________________________________________________________________\n",
            "block1b_project_bn (BatchNormal (None, 120, 120, 32) 128         block1b_project_conv[0][0]       \n",
            "__________________________________________________________________________________________________\n",
            "block1b_drop (FixedDropout)     (None, 120, 120, 32) 0           block1b_project_bn[0][0]         \n",
            "__________________________________________________________________________________________________\n",
            "block1b_add (Add)               (None, 120, 120, 32) 0           block1b_drop[0][0]               \n",
            "                                                                 block1a_project_bn[0][0]         \n",
            "__________________________________________________________________________________________________\n",
            "block1c_dwconv (DepthwiseConv2D (None, 120, 120, 32) 288         block1b_add[0][0]                \n",
            "__________________________________________________________________________________________________\n",
            "block1c_bn (BatchNormalization) (None, 120, 120, 32) 128         block1c_dwconv[0][0]             \n",
            "__________________________________________________________________________________________________\n",
            "block1c_activation (Activation) (None, 120, 120, 32) 0           block1c_bn[0][0]                 \n",
            "__________________________________________________________________________________________________\n",
            "block1c_se_squeeze (GlobalAvera (None, 32)           0           block1c_activation[0][0]         \n",
            "__________________________________________________________________________________________________\n",
            "block1c_se_reshape (Reshape)    (None, 1, 1, 32)     0           block1c_se_squeeze[0][0]         \n",
            "__________________________________________________________________________________________________\n",
            "block1c_se_reduce (Conv2D)      (None, 1, 1, 8)      264         block1c_se_reshape[0][0]         \n",
            "__________________________________________________________________________________________________\n",
            "block1c_se_expand (Conv2D)      (None, 1, 1, 32)     288         block1c_se_reduce[0][0]          \n",
            "__________________________________________________________________________________________________\n",
            "block1c_se_excite (Multiply)    (None, 120, 120, 32) 0           block1c_activation[0][0]         \n",
            "                                                                 block1c_se_expand[0][0]          \n",
            "__________________________________________________________________________________________________\n",
            "block1c_project_conv (Conv2D)   (None, 120, 120, 32) 1024        block1c_se_excite[0][0]          \n",
            "__________________________________________________________________________________________________\n",
            "block1c_project_bn (BatchNormal (None, 120, 120, 32) 128         block1c_project_conv[0][0]       \n",
            "__________________________________________________________________________________________________\n",
            "block1c_drop (FixedDropout)     (None, 120, 120, 32) 0           block1c_project_bn[0][0]         \n",
            "__________________________________________________________________________________________________\n",
            "block1c_add (Add)               (None, 120, 120, 32) 0           block1c_drop[0][0]               \n",
            "                                                                 block1b_add[0][0]                \n",
            "__________________________________________________________________________________________________\n",
            "block1d_dwconv (DepthwiseConv2D (None, 120, 120, 32) 288         block1c_add[0][0]                \n",
            "__________________________________________________________________________________________________\n",
            "block1d_bn (BatchNormalization) (None, 120, 120, 32) 128         block1d_dwconv[0][0]             \n",
            "__________________________________________________________________________________________________\n",
            "block1d_activation (Activation) (None, 120, 120, 32) 0           block1d_bn[0][0]                 \n",
            "__________________________________________________________________________________________________\n",
            "block1d_se_squeeze (GlobalAvera (None, 32)           0           block1d_activation[0][0]         \n",
            "__________________________________________________________________________________________________\n",
            "block1d_se_reshape (Reshape)    (None, 1, 1, 32)     0           block1d_se_squeeze[0][0]         \n",
            "__________________________________________________________________________________________________\n",
            "block1d_se_reduce (Conv2D)      (None, 1, 1, 8)      264         block1d_se_reshape[0][0]         \n",
            "__________________________________________________________________________________________________\n",
            "block1d_se_expand (Conv2D)      (None, 1, 1, 32)     288         block1d_se_reduce[0][0]          \n",
            "__________________________________________________________________________________________________\n",
            "block1d_se_excite (Multiply)    (None, 120, 120, 32) 0           block1d_activation[0][0]         \n",
            "                                                                 block1d_se_expand[0][0]          \n",
            "__________________________________________________________________________________________________\n",
            "block1d_project_conv (Conv2D)   (None, 120, 120, 32) 1024        block1d_se_excite[0][0]          \n",
            "__________________________________________________________________________________________________\n",
            "block1d_project_bn (BatchNormal (None, 120, 120, 32) 128         block1d_project_conv[0][0]       \n",
            "__________________________________________________________________________________________________\n",
            "block1d_drop (FixedDropout)     (None, 120, 120, 32) 0           block1d_project_bn[0][0]         \n",
            "__________________________________________________________________________________________________\n",
            "block1d_add (Add)               (None, 120, 120, 32) 0           block1d_drop[0][0]               \n",
            "                                                                 block1c_add[0][0]                \n",
            "__________________________________________________________________________________________________\n",
            "block2a_expand_conv (Conv2D)    (None, 120, 120, 192 6144        block1d_add[0][0]                \n",
            "__________________________________________________________________________________________________\n",
            "block2a_expand_bn (BatchNormali (None, 120, 120, 192 768         block2a_expand_conv[0][0]        \n",
            "__________________________________________________________________________________________________\n",
            "block2a_expand_activation (Acti (None, 120, 120, 192 0           block2a_expand_bn[0][0]          \n",
            "__________________________________________________________________________________________________\n",
            "block2a_dwconv (DepthwiseConv2D (None, 60, 60, 192)  1728        block2a_expand_activation[0][0]  \n",
            "__________________________________________________________________________________________________\n",
            "block2a_bn (BatchNormalization) (None, 60, 60, 192)  768         block2a_dwconv[0][0]             \n",
            "__________________________________________________________________________________________________\n",
            "block2a_activation (Activation) (None, 60, 60, 192)  0           block2a_bn[0][0]                 \n",
            "__________________________________________________________________________________________________\n",
            "block2a_se_squeeze (GlobalAvera (None, 192)          0           block2a_activation[0][0]         \n",
            "__________________________________________________________________________________________________\n",
            "block2a_se_reshape (Reshape)    (None, 1, 1, 192)    0           block2a_se_squeeze[0][0]         \n",
            "__________________________________________________________________________________________________\n",
            "block2a_se_reduce (Conv2D)      (None, 1, 1, 8)      1544        block2a_se_reshape[0][0]         \n",
            "__________________________________________________________________________________________________\n",
            "block2a_se_expand (Conv2D)      (None, 1, 1, 192)    1728        block2a_se_reduce[0][0]          \n",
            "__________________________________________________________________________________________________\n",
            "block2a_se_excite (Multiply)    (None, 60, 60, 192)  0           block2a_activation[0][0]         \n",
            "                                                                 block2a_se_expand[0][0]          \n",
            "__________________________________________________________________________________________________\n",
            "block2a_project_conv (Conv2D)   (None, 60, 60, 48)   9216        block2a_se_excite[0][0]          \n",
            "__________________________________________________________________________________________________\n",
            "block2a_project_bn (BatchNormal (None, 60, 60, 48)   192         block2a_project_conv[0][0]       \n",
            "__________________________________________________________________________________________________\n",
            "block2b_expand_conv (Conv2D)    (None, 60, 60, 288)  13824       block2a_project_bn[0][0]         \n",
            "__________________________________________________________________________________________________\n",
            "block2b_expand_bn (BatchNormali (None, 60, 60, 288)  1152        block2b_expand_conv[0][0]        \n",
            "__________________________________________________________________________________________________\n",
            "block2b_expand_activation (Acti (None, 60, 60, 288)  0           block2b_expand_bn[0][0]          \n",
            "__________________________________________________________________________________________________\n",
            "block2b_dwconv (DepthwiseConv2D (None, 60, 60, 288)  2592        block2b_expand_activation[0][0]  \n",
            "__________________________________________________________________________________________________\n",
            "block2b_bn (BatchNormalization) (None, 60, 60, 288)  1152        block2b_dwconv[0][0]             \n",
            "__________________________________________________________________________________________________\n",
            "block2b_activation (Activation) (None, 60, 60, 288)  0           block2b_bn[0][0]                 \n",
            "__________________________________________________________________________________________________\n",
            "block2b_se_squeeze (GlobalAvera (None, 288)          0           block2b_activation[0][0]         \n",
            "__________________________________________________________________________________________________\n",
            "block2b_se_reshape (Reshape)    (None, 1, 1, 288)    0           block2b_se_squeeze[0][0]         \n",
            "__________________________________________________________________________________________________\n",
            "block2b_se_reduce (Conv2D)      (None, 1, 1, 12)     3468        block2b_se_reshape[0][0]         \n",
            "__________________________________________________________________________________________________\n",
            "block2b_se_expand (Conv2D)      (None, 1, 1, 288)    3744        block2b_se_reduce[0][0]          \n",
            "__________________________________________________________________________________________________\n",
            "block2b_se_excite (Multiply)    (None, 60, 60, 288)  0           block2b_activation[0][0]         \n",
            "                                                                 block2b_se_expand[0][0]          \n",
            "__________________________________________________________________________________________________\n",
            "block2b_project_conv (Conv2D)   (None, 60, 60, 48)   13824       block2b_se_excite[0][0]          \n",
            "__________________________________________________________________________________________________\n",
            "block2b_project_bn (BatchNormal (None, 60, 60, 48)   192         block2b_project_conv[0][0]       \n",
            "__________________________________________________________________________________________________\n",
            "block2b_drop (FixedDropout)     (None, 60, 60, 48)   0           block2b_project_bn[0][0]         \n",
            "__________________________________________________________________________________________________\n",
            "block2b_add (Add)               (None, 60, 60, 48)   0           block2b_drop[0][0]               \n",
            "                                                                 block2a_project_bn[0][0]         \n",
            "__________________________________________________________________________________________________\n",
            "block2c_expand_conv (Conv2D)    (None, 60, 60, 288)  13824       block2b_add[0][0]                \n",
            "__________________________________________________________________________________________________\n",
            "block2c_expand_bn (BatchNormali (None, 60, 60, 288)  1152        block2c_expand_conv[0][0]        \n",
            "__________________________________________________________________________________________________\n",
            "block2c_expand_activation (Acti (None, 60, 60, 288)  0           block2c_expand_bn[0][0]          \n",
            "__________________________________________________________________________________________________\n",
            "block2c_dwconv (DepthwiseConv2D (None, 60, 60, 288)  2592        block2c_expand_activation[0][0]  \n",
            "__________________________________________________________________________________________________\n",
            "block2c_bn (BatchNormalization) (None, 60, 60, 288)  1152        block2c_dwconv[0][0]             \n",
            "__________________________________________________________________________________________________\n",
            "block2c_activation (Activation) (None, 60, 60, 288)  0           block2c_bn[0][0]                 \n",
            "__________________________________________________________________________________________________\n",
            "block2c_se_squeeze (GlobalAvera (None, 288)          0           block2c_activation[0][0]         \n",
            "__________________________________________________________________________________________________\n",
            "block2c_se_reshape (Reshape)    (None, 1, 1, 288)    0           block2c_se_squeeze[0][0]         \n",
            "__________________________________________________________________________________________________\n",
            "block2c_se_reduce (Conv2D)      (None, 1, 1, 12)     3468        block2c_se_reshape[0][0]         \n",
            "__________________________________________________________________________________________________\n",
            "block2c_se_expand (Conv2D)      (None, 1, 1, 288)    3744        block2c_se_reduce[0][0]          \n",
            "__________________________________________________________________________________________________\n",
            "block2c_se_excite (Multiply)    (None, 60, 60, 288)  0           block2c_activation[0][0]         \n",
            "                                                                 block2c_se_expand[0][0]          \n",
            "__________________________________________________________________________________________________\n",
            "block2c_project_conv (Conv2D)   (None, 60, 60, 48)   13824       block2c_se_excite[0][0]          \n",
            "__________________________________________________________________________________________________\n",
            "block2c_project_bn (BatchNormal (None, 60, 60, 48)   192         block2c_project_conv[0][0]       \n",
            "__________________________________________________________________________________________________\n",
            "block2c_drop (FixedDropout)     (None, 60, 60, 48)   0           block2c_project_bn[0][0]         \n",
            "__________________________________________________________________________________________________\n",
            "block2c_add (Add)               (None, 60, 60, 48)   0           block2c_drop[0][0]               \n",
            "                                                                 block2b_add[0][0]                \n",
            "__________________________________________________________________________________________________\n",
            "block2d_expand_conv (Conv2D)    (None, 60, 60, 288)  13824       block2c_add[0][0]                \n",
            "__________________________________________________________________________________________________\n",
            "block2d_expand_bn (BatchNormali (None, 60, 60, 288)  1152        block2d_expand_conv[0][0]        \n",
            "__________________________________________________________________________________________________\n",
            "block2d_expand_activation (Acti (None, 60, 60, 288)  0           block2d_expand_bn[0][0]          \n",
            "__________________________________________________________________________________________________\n",
            "block2d_dwconv (DepthwiseConv2D (None, 60, 60, 288)  2592        block2d_expand_activation[0][0]  \n",
            "__________________________________________________________________________________________________\n",
            "block2d_bn (BatchNormalization) (None, 60, 60, 288)  1152        block2d_dwconv[0][0]             \n",
            "__________________________________________________________________________________________________\n",
            "block2d_activation (Activation) (None, 60, 60, 288)  0           block2d_bn[0][0]                 \n",
            "__________________________________________________________________________________________________\n",
            "block2d_se_squeeze (GlobalAvera (None, 288)          0           block2d_activation[0][0]         \n",
            "__________________________________________________________________________________________________\n",
            "block2d_se_reshape (Reshape)    (None, 1, 1, 288)    0           block2d_se_squeeze[0][0]         \n",
            "__________________________________________________________________________________________________\n",
            "block2d_se_reduce (Conv2D)      (None, 1, 1, 12)     3468        block2d_se_reshape[0][0]         \n",
            "__________________________________________________________________________________________________\n",
            "block2d_se_expand (Conv2D)      (None, 1, 1, 288)    3744        block2d_se_reduce[0][0]          \n",
            "__________________________________________________________________________________________________\n",
            "block2d_se_excite (Multiply)    (None, 60, 60, 288)  0           block2d_activation[0][0]         \n",
            "                                                                 block2d_se_expand[0][0]          \n",
            "__________________________________________________________________________________________________\n",
            "block2d_project_conv (Conv2D)   (None, 60, 60, 48)   13824       block2d_se_excite[0][0]          \n",
            "__________________________________________________________________________________________________\n",
            "block2d_project_bn (BatchNormal (None, 60, 60, 48)   192         block2d_project_conv[0][0]       \n",
            "__________________________________________________________________________________________________\n",
            "block2d_drop (FixedDropout)     (None, 60, 60, 48)   0           block2d_project_bn[0][0]         \n",
            "__________________________________________________________________________________________________\n",
            "block2d_add (Add)               (None, 60, 60, 48)   0           block2d_drop[0][0]               \n",
            "                                                                 block2c_add[0][0]                \n",
            "__________________________________________________________________________________________________\n",
            "block2e_expand_conv (Conv2D)    (None, 60, 60, 288)  13824       block2d_add[0][0]                \n",
            "__________________________________________________________________________________________________\n",
            "block2e_expand_bn (BatchNormali (None, 60, 60, 288)  1152        block2e_expand_conv[0][0]        \n",
            "__________________________________________________________________________________________________\n",
            "block2e_expand_activation (Acti (None, 60, 60, 288)  0           block2e_expand_bn[0][0]          \n",
            "__________________________________________________________________________________________________\n",
            "block2e_dwconv (DepthwiseConv2D (None, 60, 60, 288)  2592        block2e_expand_activation[0][0]  \n",
            "__________________________________________________________________________________________________\n",
            "block2e_bn (BatchNormalization) (None, 60, 60, 288)  1152        block2e_dwconv[0][0]             \n",
            "__________________________________________________________________________________________________\n",
            "block2e_activation (Activation) (None, 60, 60, 288)  0           block2e_bn[0][0]                 \n",
            "__________________________________________________________________________________________________\n",
            "block2e_se_squeeze (GlobalAvera (None, 288)          0           block2e_activation[0][0]         \n",
            "__________________________________________________________________________________________________\n",
            "block2e_se_reshape (Reshape)    (None, 1, 1, 288)    0           block2e_se_squeeze[0][0]         \n",
            "__________________________________________________________________________________________________\n",
            "block2e_se_reduce (Conv2D)      (None, 1, 1, 12)     3468        block2e_se_reshape[0][0]         \n",
            "__________________________________________________________________________________________________\n",
            "block2e_se_expand (Conv2D)      (None, 1, 1, 288)    3744        block2e_se_reduce[0][0]          \n",
            "__________________________________________________________________________________________________\n",
            "block2e_se_excite (Multiply)    (None, 60, 60, 288)  0           block2e_activation[0][0]         \n",
            "                                                                 block2e_se_expand[0][0]          \n",
            "__________________________________________________________________________________________________\n",
            "block2e_project_conv (Conv2D)   (None, 60, 60, 48)   13824       block2e_se_excite[0][0]          \n",
            "__________________________________________________________________________________________________\n",
            "block2e_project_bn (BatchNormal (None, 60, 60, 48)   192         block2e_project_conv[0][0]       \n",
            "__________________________________________________________________________________________________\n",
            "block2e_drop (FixedDropout)     (None, 60, 60, 48)   0           block2e_project_bn[0][0]         \n",
            "__________________________________________________________________________________________________\n",
            "block2e_add (Add)               (None, 60, 60, 48)   0           block2e_drop[0][0]               \n",
            "                                                                 block2d_add[0][0]                \n",
            "__________________________________________________________________________________________________\n",
            "block2f_expand_conv (Conv2D)    (None, 60, 60, 288)  13824       block2e_add[0][0]                \n",
            "__________________________________________________________________________________________________\n",
            "block2f_expand_bn (BatchNormali (None, 60, 60, 288)  1152        block2f_expand_conv[0][0]        \n",
            "__________________________________________________________________________________________________\n",
            "block2f_expand_activation (Acti (None, 60, 60, 288)  0           block2f_expand_bn[0][0]          \n",
            "__________________________________________________________________________________________________\n",
            "block2f_dwconv (DepthwiseConv2D (None, 60, 60, 288)  2592        block2f_expand_activation[0][0]  \n",
            "__________________________________________________________________________________________________\n",
            "block2f_bn (BatchNormalization) (None, 60, 60, 288)  1152        block2f_dwconv[0][0]             \n",
            "__________________________________________________________________________________________________\n",
            "block2f_activation (Activation) (None, 60, 60, 288)  0           block2f_bn[0][0]                 \n",
            "__________________________________________________________________________________________________\n",
            "block2f_se_squeeze (GlobalAvera (None, 288)          0           block2f_activation[0][0]         \n",
            "__________________________________________________________________________________________________\n",
            "block2f_se_reshape (Reshape)    (None, 1, 1, 288)    0           block2f_se_squeeze[0][0]         \n",
            "__________________________________________________________________________________________________\n",
            "block2f_se_reduce (Conv2D)      (None, 1, 1, 12)     3468        block2f_se_reshape[0][0]         \n",
            "__________________________________________________________________________________________________\n",
            "block2f_se_expand (Conv2D)      (None, 1, 1, 288)    3744        block2f_se_reduce[0][0]          \n",
            "__________________________________________________________________________________________________\n",
            "block2f_se_excite (Multiply)    (None, 60, 60, 288)  0           block2f_activation[0][0]         \n",
            "                                                                 block2f_se_expand[0][0]          \n",
            "__________________________________________________________________________________________________\n",
            "block2f_project_conv (Conv2D)   (None, 60, 60, 48)   13824       block2f_se_excite[0][0]          \n",
            "__________________________________________________________________________________________________\n",
            "block2f_project_bn (BatchNormal (None, 60, 60, 48)   192         block2f_project_conv[0][0]       \n",
            "__________________________________________________________________________________________________\n",
            "block2f_drop (FixedDropout)     (None, 60, 60, 48)   0           block2f_project_bn[0][0]         \n",
            "__________________________________________________________________________________________________\n",
            "block2f_add (Add)               (None, 60, 60, 48)   0           block2f_drop[0][0]               \n",
            "                                                                 block2e_add[0][0]                \n",
            "__________________________________________________________________________________________________\n",
            "block2g_expand_conv (Conv2D)    (None, 60, 60, 288)  13824       block2f_add[0][0]                \n",
            "__________________________________________________________________________________________________\n",
            "block2g_expand_bn (BatchNormali (None, 60, 60, 288)  1152        block2g_expand_conv[0][0]        \n",
            "__________________________________________________________________________________________________\n",
            "block2g_expand_activation (Acti (None, 60, 60, 288)  0           block2g_expand_bn[0][0]          \n",
            "__________________________________________________________________________________________________\n",
            "block2g_dwconv (DepthwiseConv2D (None, 60, 60, 288)  2592        block2g_expand_activation[0][0]  \n",
            "__________________________________________________________________________________________________\n",
            "block2g_bn (BatchNormalization) (None, 60, 60, 288)  1152        block2g_dwconv[0][0]             \n",
            "__________________________________________________________________________________________________\n",
            "block2g_activation (Activation) (None, 60, 60, 288)  0           block2g_bn[0][0]                 \n",
            "__________________________________________________________________________________________________\n",
            "block2g_se_squeeze (GlobalAvera (None, 288)          0           block2g_activation[0][0]         \n",
            "__________________________________________________________________________________________________\n",
            "block2g_se_reshape (Reshape)    (None, 1, 1, 288)    0           block2g_se_squeeze[0][0]         \n",
            "__________________________________________________________________________________________________\n",
            "block2g_se_reduce (Conv2D)      (None, 1, 1, 12)     3468        block2g_se_reshape[0][0]         \n",
            "__________________________________________________________________________________________________\n",
            "block2g_se_expand (Conv2D)      (None, 1, 1, 288)    3744        block2g_se_reduce[0][0]          \n",
            "__________________________________________________________________________________________________\n",
            "block2g_se_excite (Multiply)    (None, 60, 60, 288)  0           block2g_activation[0][0]         \n",
            "                                                                 block2g_se_expand[0][0]          \n",
            "__________________________________________________________________________________________________\n",
            "block2g_project_conv (Conv2D)   (None, 60, 60, 48)   13824       block2g_se_excite[0][0]          \n",
            "__________________________________________________________________________________________________\n",
            "block2g_project_bn (BatchNormal (None, 60, 60, 48)   192         block2g_project_conv[0][0]       \n",
            "__________________________________________________________________________________________________\n",
            "block2g_drop (FixedDropout)     (None, 60, 60, 48)   0           block2g_project_bn[0][0]         \n",
            "__________________________________________________________________________________________________\n",
            "block2g_add (Add)               (None, 60, 60, 48)   0           block2g_drop[0][0]               \n",
            "                                                                 block2f_add[0][0]                \n",
            "__________________________________________________________________________________________________\n",
            "block3a_expand_conv (Conv2D)    (None, 60, 60, 288)  13824       block2g_add[0][0]                \n",
            "__________________________________________________________________________________________________\n",
            "block3a_expand_bn (BatchNormali (None, 60, 60, 288)  1152        block3a_expand_conv[0][0]        \n",
            "__________________________________________________________________________________________________\n",
            "block3a_expand_activation (Acti (None, 60, 60, 288)  0           block3a_expand_bn[0][0]          \n",
            "__________________________________________________________________________________________________\n",
            "block3a_dwconv (DepthwiseConv2D (None, 30, 30, 288)  7200        block3a_expand_activation[0][0]  \n",
            "__________________________________________________________________________________________________\n",
            "block3a_bn (BatchNormalization) (None, 30, 30, 288)  1152        block3a_dwconv[0][0]             \n",
            "__________________________________________________________________________________________________\n",
            "block3a_activation (Activation) (None, 30, 30, 288)  0           block3a_bn[0][0]                 \n",
            "__________________________________________________________________________________________________\n",
            "block3a_se_squeeze (GlobalAvera (None, 288)          0           block3a_activation[0][0]         \n",
            "__________________________________________________________________________________________________\n",
            "block3a_se_reshape (Reshape)    (None, 1, 1, 288)    0           block3a_se_squeeze[0][0]         \n",
            "__________________________________________________________________________________________________\n",
            "block3a_se_reduce (Conv2D)      (None, 1, 1, 12)     3468        block3a_se_reshape[0][0]         \n",
            "__________________________________________________________________________________________________\n",
            "block3a_se_expand (Conv2D)      (None, 1, 1, 288)    3744        block3a_se_reduce[0][0]          \n",
            "__________________________________________________________________________________________________\n",
            "block3a_se_excite (Multiply)    (None, 30, 30, 288)  0           block3a_activation[0][0]         \n",
            "                                                                 block3a_se_expand[0][0]          \n",
            "__________________________________________________________________________________________________\n",
            "block3a_project_conv (Conv2D)   (None, 30, 30, 80)   23040       block3a_se_excite[0][0]          \n",
            "__________________________________________________________________________________________________\n",
            "block3a_project_bn (BatchNormal (None, 30, 30, 80)   320         block3a_project_conv[0][0]       \n",
            "__________________________________________________________________________________________________\n",
            "block3b_expand_conv (Conv2D)    (None, 30, 30, 480)  38400       block3a_project_bn[0][0]         \n",
            "__________________________________________________________________________________________________\n",
            "block3b_expand_bn (BatchNormali (None, 30, 30, 480)  1920        block3b_expand_conv[0][0]        \n",
            "__________________________________________________________________________________________________\n",
            "block3b_expand_activation (Acti (None, 30, 30, 480)  0           block3b_expand_bn[0][0]          \n",
            "__________________________________________________________________________________________________\n",
            "block3b_dwconv (DepthwiseConv2D (None, 30, 30, 480)  12000       block3b_expand_activation[0][0]  \n",
            "__________________________________________________________________________________________________\n",
            "block3b_bn (BatchNormalization) (None, 30, 30, 480)  1920        block3b_dwconv[0][0]             \n",
            "__________________________________________________________________________________________________\n",
            "block3b_activation (Activation) (None, 30, 30, 480)  0           block3b_bn[0][0]                 \n",
            "__________________________________________________________________________________________________\n",
            "block3b_se_squeeze (GlobalAvera (None, 480)          0           block3b_activation[0][0]         \n",
            "__________________________________________________________________________________________________\n",
            "block3b_se_reshape (Reshape)    (None, 1, 1, 480)    0           block3b_se_squeeze[0][0]         \n",
            "__________________________________________________________________________________________________\n",
            "block3b_se_reduce (Conv2D)      (None, 1, 1, 20)     9620        block3b_se_reshape[0][0]         \n",
            "__________________________________________________________________________________________________\n",
            "block3b_se_expand (Conv2D)      (None, 1, 1, 480)    10080       block3b_se_reduce[0][0]          \n",
            "__________________________________________________________________________________________________\n",
            "block3b_se_excite (Multiply)    (None, 30, 30, 480)  0           block3b_activation[0][0]         \n",
            "                                                                 block3b_se_expand[0][0]          \n",
            "__________________________________________________________________________________________________\n",
            "block3b_project_conv (Conv2D)   (None, 30, 30, 80)   38400       block3b_se_excite[0][0]          \n",
            "__________________________________________________________________________________________________\n",
            "block3b_project_bn (BatchNormal (None, 30, 30, 80)   320         block3b_project_conv[0][0]       \n",
            "__________________________________________________________________________________________________\n",
            "block3b_drop (FixedDropout)     (None, 30, 30, 80)   0           block3b_project_bn[0][0]         \n",
            "__________________________________________________________________________________________________\n",
            "block3b_add (Add)               (None, 30, 30, 80)   0           block3b_drop[0][0]               \n",
            "                                                                 block3a_project_bn[0][0]         \n",
            "__________________________________________________________________________________________________\n",
            "block3c_expand_conv (Conv2D)    (None, 30, 30, 480)  38400       block3b_add[0][0]                \n",
            "__________________________________________________________________________________________________\n",
            "block3c_expand_bn (BatchNormali (None, 30, 30, 480)  1920        block3c_expand_conv[0][0]        \n",
            "__________________________________________________________________________________________________\n",
            "block3c_expand_activation (Acti (None, 30, 30, 480)  0           block3c_expand_bn[0][0]          \n",
            "__________________________________________________________________________________________________\n",
            "block3c_dwconv (DepthwiseConv2D (None, 30, 30, 480)  12000       block3c_expand_activation[0][0]  \n",
            "__________________________________________________________________________________________________\n",
            "block3c_bn (BatchNormalization) (None, 30, 30, 480)  1920        block3c_dwconv[0][0]             \n",
            "__________________________________________________________________________________________________\n",
            "block3c_activation (Activation) (None, 30, 30, 480)  0           block3c_bn[0][0]                 \n",
            "__________________________________________________________________________________________________\n",
            "block3c_se_squeeze (GlobalAvera (None, 480)          0           block3c_activation[0][0]         \n",
            "__________________________________________________________________________________________________\n",
            "block3c_se_reshape (Reshape)    (None, 1, 1, 480)    0           block3c_se_squeeze[0][0]         \n",
            "__________________________________________________________________________________________________\n",
            "block3c_se_reduce (Conv2D)      (None, 1, 1, 20)     9620        block3c_se_reshape[0][0]         \n",
            "__________________________________________________________________________________________________\n",
            "block3c_se_expand (Conv2D)      (None, 1, 1, 480)    10080       block3c_se_reduce[0][0]          \n",
            "__________________________________________________________________________________________________\n",
            "block3c_se_excite (Multiply)    (None, 30, 30, 480)  0           block3c_activation[0][0]         \n",
            "                                                                 block3c_se_expand[0][0]          \n",
            "__________________________________________________________________________________________________\n",
            "block3c_project_conv (Conv2D)   (None, 30, 30, 80)   38400       block3c_se_excite[0][0]          \n",
            "__________________________________________________________________________________________________\n",
            "block3c_project_bn (BatchNormal (None, 30, 30, 80)   320         block3c_project_conv[0][0]       \n",
            "__________________________________________________________________________________________________\n",
            "block3c_drop (FixedDropout)     (None, 30, 30, 80)   0           block3c_project_bn[0][0]         \n",
            "__________________________________________________________________________________________________\n",
            "block3c_add (Add)               (None, 30, 30, 80)   0           block3c_drop[0][0]               \n",
            "                                                                 block3b_add[0][0]                \n",
            "__________________________________________________________________________________________________\n",
            "block3d_expand_conv (Conv2D)    (None, 30, 30, 480)  38400       block3c_add[0][0]                \n",
            "__________________________________________________________________________________________________\n",
            "block3d_expand_bn (BatchNormali (None, 30, 30, 480)  1920        block3d_expand_conv[0][0]        \n",
            "__________________________________________________________________________________________________\n",
            "block3d_expand_activation (Acti (None, 30, 30, 480)  0           block3d_expand_bn[0][0]          \n",
            "__________________________________________________________________________________________________\n",
            "block3d_dwconv (DepthwiseConv2D (None, 30, 30, 480)  12000       block3d_expand_activation[0][0]  \n",
            "__________________________________________________________________________________________________\n",
            "block3d_bn (BatchNormalization) (None, 30, 30, 480)  1920        block3d_dwconv[0][0]             \n",
            "__________________________________________________________________________________________________\n",
            "block3d_activation (Activation) (None, 30, 30, 480)  0           block3d_bn[0][0]                 \n",
            "__________________________________________________________________________________________________\n",
            "block3d_se_squeeze (GlobalAvera (None, 480)          0           block3d_activation[0][0]         \n",
            "__________________________________________________________________________________________________\n",
            "block3d_se_reshape (Reshape)    (None, 1, 1, 480)    0           block3d_se_squeeze[0][0]         \n",
            "__________________________________________________________________________________________________\n",
            "block3d_se_reduce (Conv2D)      (None, 1, 1, 20)     9620        block3d_se_reshape[0][0]         \n",
            "__________________________________________________________________________________________________\n",
            "block3d_se_expand (Conv2D)      (None, 1, 1, 480)    10080       block3d_se_reduce[0][0]          \n",
            "__________________________________________________________________________________________________\n",
            "block3d_se_excite (Multiply)    (None, 30, 30, 480)  0           block3d_activation[0][0]         \n",
            "                                                                 block3d_se_expand[0][0]          \n",
            "__________________________________________________________________________________________________\n",
            "block3d_project_conv (Conv2D)   (None, 30, 30, 80)   38400       block3d_se_excite[0][0]          \n",
            "__________________________________________________________________________________________________\n",
            "block3d_project_bn (BatchNormal (None, 30, 30, 80)   320         block3d_project_conv[0][0]       \n",
            "__________________________________________________________________________________________________\n",
            "block3d_drop (FixedDropout)     (None, 30, 30, 80)   0           block3d_project_bn[0][0]         \n",
            "__________________________________________________________________________________________________\n",
            "block3d_add (Add)               (None, 30, 30, 80)   0           block3d_drop[0][0]               \n",
            "                                                                 block3c_add[0][0]                \n",
            "__________________________________________________________________________________________________\n",
            "block3e_expand_conv (Conv2D)    (None, 30, 30, 480)  38400       block3d_add[0][0]                \n",
            "__________________________________________________________________________________________________\n",
            "block3e_expand_bn (BatchNormali (None, 30, 30, 480)  1920        block3e_expand_conv[0][0]        \n",
            "__________________________________________________________________________________________________\n",
            "block3e_expand_activation (Acti (None, 30, 30, 480)  0           block3e_expand_bn[0][0]          \n",
            "__________________________________________________________________________________________________\n",
            "block3e_dwconv (DepthwiseConv2D (None, 30, 30, 480)  12000       block3e_expand_activation[0][0]  \n",
            "__________________________________________________________________________________________________\n",
            "block3e_bn (BatchNormalization) (None, 30, 30, 480)  1920        block3e_dwconv[0][0]             \n",
            "__________________________________________________________________________________________________\n",
            "block3e_activation (Activation) (None, 30, 30, 480)  0           block3e_bn[0][0]                 \n",
            "__________________________________________________________________________________________________\n",
            "block3e_se_squeeze (GlobalAvera (None, 480)          0           block3e_activation[0][0]         \n",
            "__________________________________________________________________________________________________\n",
            "block3e_se_reshape (Reshape)    (None, 1, 1, 480)    0           block3e_se_squeeze[0][0]         \n",
            "__________________________________________________________________________________________________\n",
            "block3e_se_reduce (Conv2D)      (None, 1, 1, 20)     9620        block3e_se_reshape[0][0]         \n",
            "__________________________________________________________________________________________________\n",
            "block3e_se_expand (Conv2D)      (None, 1, 1, 480)    10080       block3e_se_reduce[0][0]          \n",
            "__________________________________________________________________________________________________\n",
            "block3e_se_excite (Multiply)    (None, 30, 30, 480)  0           block3e_activation[0][0]         \n",
            "                                                                 block3e_se_expand[0][0]          \n",
            "__________________________________________________________________________________________________\n",
            "block3e_project_conv (Conv2D)   (None, 30, 30, 80)   38400       block3e_se_excite[0][0]          \n",
            "__________________________________________________________________________________________________\n",
            "block3e_project_bn (BatchNormal (None, 30, 30, 80)   320         block3e_project_conv[0][0]       \n",
            "__________________________________________________________________________________________________\n",
            "block3e_drop (FixedDropout)     (None, 30, 30, 80)   0           block3e_project_bn[0][0]         \n",
            "__________________________________________________________________________________________________\n",
            "block3e_add (Add)               (None, 30, 30, 80)   0           block3e_drop[0][0]               \n",
            "                                                                 block3d_add[0][0]                \n",
            "__________________________________________________________________________________________________\n",
            "block3f_expand_conv (Conv2D)    (None, 30, 30, 480)  38400       block3e_add[0][0]                \n",
            "__________________________________________________________________________________________________\n",
            "block3f_expand_bn (BatchNormali (None, 30, 30, 480)  1920        block3f_expand_conv[0][0]        \n",
            "__________________________________________________________________________________________________\n",
            "block3f_expand_activation (Acti (None, 30, 30, 480)  0           block3f_expand_bn[0][0]          \n",
            "__________________________________________________________________________________________________\n",
            "block3f_dwconv (DepthwiseConv2D (None, 30, 30, 480)  12000       block3f_expand_activation[0][0]  \n",
            "__________________________________________________________________________________________________\n",
            "block3f_bn (BatchNormalization) (None, 30, 30, 480)  1920        block3f_dwconv[0][0]             \n",
            "__________________________________________________________________________________________________\n",
            "block3f_activation (Activation) (None, 30, 30, 480)  0           block3f_bn[0][0]                 \n",
            "__________________________________________________________________________________________________\n",
            "block3f_se_squeeze (GlobalAvera (None, 480)          0           block3f_activation[0][0]         \n",
            "__________________________________________________________________________________________________\n",
            "block3f_se_reshape (Reshape)    (None, 1, 1, 480)    0           block3f_se_squeeze[0][0]         \n",
            "__________________________________________________________________________________________________\n",
            "block3f_se_reduce (Conv2D)      (None, 1, 1, 20)     9620        block3f_se_reshape[0][0]         \n",
            "__________________________________________________________________________________________________\n",
            "block3f_se_expand (Conv2D)      (None, 1, 1, 480)    10080       block3f_se_reduce[0][0]          \n",
            "__________________________________________________________________________________________________\n",
            "block3f_se_excite (Multiply)    (None, 30, 30, 480)  0           block3f_activation[0][0]         \n",
            "                                                                 block3f_se_expand[0][0]          \n",
            "__________________________________________________________________________________________________\n",
            "block3f_project_conv (Conv2D)   (None, 30, 30, 80)   38400       block3f_se_excite[0][0]          \n",
            "__________________________________________________________________________________________________\n",
            "block3f_project_bn (BatchNormal (None, 30, 30, 80)   320         block3f_project_conv[0][0]       \n",
            "__________________________________________________________________________________________________\n",
            "block3f_drop (FixedDropout)     (None, 30, 30, 80)   0           block3f_project_bn[0][0]         \n",
            "__________________________________________________________________________________________________\n",
            "block3f_add (Add)               (None, 30, 30, 80)   0           block3f_drop[0][0]               \n",
            "                                                                 block3e_add[0][0]                \n",
            "__________________________________________________________________________________________________\n",
            "block3g_expand_conv (Conv2D)    (None, 30, 30, 480)  38400       block3f_add[0][0]                \n",
            "__________________________________________________________________________________________________\n",
            "block3g_expand_bn (BatchNormali (None, 30, 30, 480)  1920        block3g_expand_conv[0][0]        \n",
            "__________________________________________________________________________________________________\n",
            "block3g_expand_activation (Acti (None, 30, 30, 480)  0           block3g_expand_bn[0][0]          \n",
            "__________________________________________________________________________________________________\n",
            "block3g_dwconv (DepthwiseConv2D (None, 30, 30, 480)  12000       block3g_expand_activation[0][0]  \n",
            "__________________________________________________________________________________________________\n",
            "block3g_bn (BatchNormalization) (None, 30, 30, 480)  1920        block3g_dwconv[0][0]             \n",
            "__________________________________________________________________________________________________\n",
            "block3g_activation (Activation) (None, 30, 30, 480)  0           block3g_bn[0][0]                 \n",
            "__________________________________________________________________________________________________\n",
            "block3g_se_squeeze (GlobalAvera (None, 480)          0           block3g_activation[0][0]         \n",
            "__________________________________________________________________________________________________\n",
            "block3g_se_reshape (Reshape)    (None, 1, 1, 480)    0           block3g_se_squeeze[0][0]         \n",
            "__________________________________________________________________________________________________\n",
            "block3g_se_reduce (Conv2D)      (None, 1, 1, 20)     9620        block3g_se_reshape[0][0]         \n",
            "__________________________________________________________________________________________________\n",
            "block3g_se_expand (Conv2D)      (None, 1, 1, 480)    10080       block3g_se_reduce[0][0]          \n",
            "__________________________________________________________________________________________________\n",
            "block3g_se_excite (Multiply)    (None, 30, 30, 480)  0           block3g_activation[0][0]         \n",
            "                                                                 block3g_se_expand[0][0]          \n",
            "__________________________________________________________________________________________________\n",
            "block3g_project_conv (Conv2D)   (None, 30, 30, 80)   38400       block3g_se_excite[0][0]          \n",
            "__________________________________________________________________________________________________\n",
            "block3g_project_bn (BatchNormal (None, 30, 30, 80)   320         block3g_project_conv[0][0]       \n",
            "__________________________________________________________________________________________________\n",
            "block3g_drop (FixedDropout)     (None, 30, 30, 80)   0           block3g_project_bn[0][0]         \n",
            "__________________________________________________________________________________________________\n",
            "block3g_add (Add)               (None, 30, 30, 80)   0           block3g_drop[0][0]               \n",
            "                                                                 block3f_add[0][0]                \n",
            "__________________________________________________________________________________________________\n",
            "block4a_expand_conv (Conv2D)    (None, 30, 30, 480)  38400       block3g_add[0][0]                \n",
            "__________________________________________________________________________________________________\n",
            "block4a_expand_bn (BatchNormali (None, 30, 30, 480)  1920        block4a_expand_conv[0][0]        \n",
            "__________________________________________________________________________________________________\n",
            "block4a_expand_activation (Acti (None, 30, 30, 480)  0           block4a_expand_bn[0][0]          \n",
            "__________________________________________________________________________________________________\n",
            "psp_level1_pooling (MaxPooling2 (None, 1, 1, 480)    0           block4a_expand_activation[0][0]  \n",
            "__________________________________________________________________________________________________\n",
            "psp_level2_pooling (MaxPooling2 (None, 2, 2, 480)    0           block4a_expand_activation[0][0]  \n",
            "__________________________________________________________________________________________________\n",
            "psp_level3_pooling (MaxPooling2 (None, 3, 3, 480)    0           block4a_expand_activation[0][0]  \n",
            "__________________________________________________________________________________________________\n",
            "psp_level6_pooling (MaxPooling2 (None, 6, 6, 480)    0           block4a_expand_activation[0][0]  \n",
            "__________________________________________________________________________________________________\n",
            "psp_level1_conv (Conv2D)        (None, 1, 1, 512)    245760      psp_level1_pooling[0][0]         \n",
            "__________________________________________________________________________________________________\n",
            "psp_level2_conv (Conv2D)        (None, 2, 2, 512)    245760      psp_level2_pooling[0][0]         \n",
            "__________________________________________________________________________________________________\n",
            "psp_level3_conv (Conv2D)        (None, 3, 3, 512)    245760      psp_level3_pooling[0][0]         \n",
            "__________________________________________________________________________________________________\n",
            "psp_level6_conv (Conv2D)        (None, 6, 6, 512)    245760      psp_level6_pooling[0][0]         \n",
            "__________________________________________________________________________________________________\n",
            "psp_level1_bn (BatchNormalizati (None, 1, 1, 512)    2048        psp_level1_conv[0][0]            \n",
            "__________________________________________________________________________________________________\n",
            "psp_level2_bn (BatchNormalizati (None, 2, 2, 512)    2048        psp_level2_conv[0][0]            \n",
            "__________________________________________________________________________________________________\n",
            "psp_level3_bn (BatchNormalizati (None, 3, 3, 512)    2048        psp_level3_conv[0][0]            \n",
            "__________________________________________________________________________________________________\n",
            "psp_level6_bn (BatchNormalizati (None, 6, 6, 512)    2048        psp_level6_conv[0][0]            \n",
            "__________________________________________________________________________________________________\n",
            "psp_level1_relu (Activation)    (None, 1, 1, 512)    0           psp_level1_bn[0][0]              \n",
            "__________________________________________________________________________________________________\n",
            "psp_level2_relu (Activation)    (None, 2, 2, 512)    0           psp_level2_bn[0][0]              \n",
            "__________________________________________________________________________________________________\n",
            "psp_level3_relu (Activation)    (None, 3, 3, 512)    0           psp_level3_bn[0][0]              \n",
            "__________________________________________________________________________________________________\n",
            "psp_level6_relu (Activation)    (None, 6, 6, 512)    0           psp_level6_bn[0][0]              \n",
            "__________________________________________________________________________________________________\n",
            "psp_level1_upsampling (UpSampli (None, 30, 30, 512)  0           psp_level1_relu[0][0]            \n",
            "__________________________________________________________________________________________________\n",
            "psp_level2_upsampling (UpSampli (None, 30, 30, 512)  0           psp_level2_relu[0][0]            \n",
            "__________________________________________________________________________________________________\n",
            "psp_level3_upsampling (UpSampli (None, 30, 30, 512)  0           psp_level3_relu[0][0]            \n",
            "__________________________________________________________________________________________________\n",
            "psp_level6_upsampling (UpSampli (None, 30, 30, 512)  0           psp_level6_relu[0][0]            \n",
            "__________________________________________________________________________________________________\n",
            "psp_concat (Concatenate)        (None, 30, 30, 2528) 0           block4a_expand_activation[0][0]  \n",
            "                                                                 psp_level1_upsampling[0][0]      \n",
            "                                                                 psp_level2_upsampling[0][0]      \n",
            "                                                                 psp_level3_upsampling[0][0]      \n",
            "                                                                 psp_level6_upsampling[0][0]      \n",
            "__________________________________________________________________________________________________\n",
            "aggregation_conv (Conv2D)       (None, 30, 30, 512)  1294336     psp_concat[0][0]                 \n",
            "__________________________________________________________________________________________________\n",
            "aggregation_bn (BatchNormalizat (None, 30, 30, 512)  2048        aggregation_conv[0][0]           \n",
            "__________________________________________________________________________________________________\n",
            "aggregation_relu (Activation)   (None, 30, 30, 512)  0           aggregation_bn[0][0]             \n",
            "__________________________________________________________________________________________________\n",
            "final_conv (Conv2D)             (None, 30, 30, 1)    4609        aggregation_relu[0][0]           \n",
            "__________________________________________________________________________________________________\n",
            "final_upsampling (UpSampling2D) (None, 240, 240, 1)  0           final_conv[0][0]                 \n",
            "__________________________________________________________________________________________________\n",
            "sigmoid (Activation)            (None, 240, 240, 1)  0           final_upsampling[0][0]           \n",
            "==================================================================================================\n",
            "Total params: 3,337,661\n",
            "Trainable params: 3,308,733\n",
            "Non-trainable params: 28,928\n",
            "__________________________________________________________________________________________________\n"
          ],
          "name": "stdout"
        }
      ]
    },
    {
      "cell_type": "markdown",
      "metadata": {
        "id": "INigDuT8zjRt",
        "colab_type": "text"
      },
      "source": [
        "####Hyperparameters\n"
      ]
    },
    {
      "cell_type": "code",
      "metadata": {
        "id": "MXT5cJEy_PMc",
        "colab_type": "code",
        "colab": {}
      },
      "source": [
        "LEARNING_RATE = 0.0001\n",
        "BATCH_SIZE = 32"
      ],
      "execution_count": 0,
      "outputs": []
    },
    {
      "cell_type": "markdown",
      "metadata": {
        "id": "m1bbgBHNzxPs",
        "colab_type": "text"
      },
      "source": [
        "####Path to save Model"
      ]
    },
    {
      "cell_type": "code",
      "metadata": {
        "id": "m4vsmUTqAAh_",
        "colab_type": "code",
        "colab": {}
      },
      "source": [
        "model_path = \"Models/Final_PSPNet_efficientnetb7_road_weights.h5\""
      ],
      "execution_count": 0,
      "outputs": []
    },
    {
      "cell_type": "code",
      "metadata": {
        "id": "yO9Sz4uMs_k2",
        "colab_type": "code",
        "outputId": "b3778818-0d57-4012-c284-816c1d3eb04a",
        "colab": {
          "base_uri": "https://localhost:8080/",
          "height": 191
        }
      },
      "source": [
        "import sys\n",
        "def sizeof_fmt(num, suffix='B'):\n",
        "    ''' by Fred Cirera,  https://stackoverflow.com/a/1094933/1870254, modified'''\n",
        "    for unit in ['','Ki','Mi','Gi','Ti','Pi','Ei','Zi']:\n",
        "        if abs(num) < 1024.0:\n",
        "            return \"%3.1f %s%s\" % (num, unit, suffix)\n",
        "        num /= 1024.0\n",
        "    return \"%.1f %s%s\" % (num, 'Yi', suffix)\n",
        "\n",
        "for name, size in sorted(((name, sys.getsizeof(value)) for name, value in locals().items()),\n",
        "                         key= lambda x: -x[1])[:10]:\n",
        "    print(\"{:>30}: {:>8}\".format(name, sizeof_fmt(size)))"
      ],
      "execution_count": 0,
      "outputs": [
        {
          "output_type": "stream",
          "text": [
            "                          road:  4.2 GiB\n",
            "                         Model:  2.0 KiB\n",
            "                        Conv2D:  2.0 KiB\n",
            "            BatchNormalization:  2.0 KiB\n",
            "                  MaxPooling2D:  1.4 KiB\n",
            "                       Dropout:  1.0 KiB\n",
            "                        Lambda:  1.0 KiB\n",
            "               Conv2DTranspose:  1.0 KiB\n",
            "                       MeanIoU:  1.0 KiB\n",
            "                           _i8:  615.0 B\n"
          ],
          "name": "stdout"
        }
      ]
    },
    {
      "cell_type": "code",
      "metadata": {
        "id": "2AfXWpvIy1wD",
        "colab_type": "code",
        "colab": {}
      },
      "source": [
        ""
      ],
      "execution_count": 0,
      "outputs": []
    },
    {
      "cell_type": "markdown",
      "metadata": {
        "id": "_sPbOLWJzo99",
        "colab_type": "text"
      },
      "source": [
        "####Callbacks"
      ]
    },
    {
      "cell_type": "code",
      "metadata": {
        "id": "xKH7fxFPAAfW",
        "colab_type": "code",
        "outputId": "2072b164-2c5c-4e45-b729-206b1d41ca37",
        "colab": {
          "base_uri": "https://localhost:8080/",
          "height": 69
        }
      },
      "source": [
        "from tensorboardcolab import TensorBoardColab, TensorBoardColabCallback\n",
        "tbc=TensorBoardColab()"
      ],
      "execution_count": 0,
      "outputs": [
        {
          "output_type": "stream",
          "text": [
            "Wait for 8 seconds...\n",
            "TensorBoard link:\n",
            "https://c6abf5e1.ngrok.io\n"
          ],
          "name": "stdout"
        }
      ]
    },
    {
      "cell_type": "code",
      "metadata": {
        "id": "MTbz0llbAAkM",
        "colab_type": "code",
        "colab": {}
      },
      "source": [
        "from keras.callbacks import ModelCheckpoint, ReduceLROnPlateau, EarlyStopping\n",
        "from datetime import datetime\n",
        "\n",
        "checkpointer = ModelCheckpoint(model_path,\n",
        "                             monitor=\"val_loss\",\n",
        "                             mode=\"min\",\n",
        "                             save_best_only = True,\n",
        "                             verbose=1)"
      ],
      "execution_count": 0,
      "outputs": []
    },
    {
      "cell_type": "code",
      "metadata": {
        "id": "OMdYZwNvAAmA",
        "colab_type": "code",
        "colab": {}
      },
      "source": [
        "earlystopper = EarlyStopping(monitor = 'val_loss', \n",
        "                             min_delta = 0, \n",
        "                             patience = 7,\n",
        "                             mode='auto',\n",
        "                            restore_best_weights = True)"
      ],
      "execution_count": 0,
      "outputs": []
    },
    {
      "cell_type": "code",
      "metadata": {
        "id": "M4bKCiiPAVvX",
        "colab_type": "code",
        "outputId": "87ffe148-d93f-43b6-88bf-02af010119f1",
        "colab": {
          "base_uri": "https://localhost:8080/",
          "height": 72
        }
      },
      "source": [
        "lr_reducer = ReduceLROnPlateau(monitor='val_loss',\n",
        "                               factor=0.1,\n",
        "                               patience=4,\n",
        "                               verbose=1,\n",
        "                               epsilon=1e-4)"
      ],
      "execution_count": 0,
      "outputs": [
        {
          "output_type": "stream",
          "text": [
            "/usr/local/lib/python3.6/dist-packages/keras/callbacks.py:1335: UserWarning: `epsilon` argument is deprecated and will be removed, use `min_delta` instead.\n",
            "  warnings.warn('`epsilon` argument is deprecated and '\n"
          ],
          "name": "stderr"
        }
      ]
    },
    {
      "cell_type": "markdown",
      "metadata": {
        "id": "Kn9dywIv0CGD",
        "colab_type": "text"
      },
      "source": [
        "####Compile Model"
      ]
    },
    {
      "cell_type": "code",
      "metadata": {
        "id": "KrgM5RWvAVzq",
        "colab_type": "code",
        "outputId": "82a5421e-cf7b-4b01-9ee4-a89aba024621",
        "colab": {
          "base_uri": "https://localhost:8080/",
          "height": 72
        }
      },
      "source": [
        "opt = keras.optimizers.adam(LEARNING_RATE)\n",
        "model.compile(\n",
        "      optimizer=opt,\n",
        "      loss=soft_dice_loss,\n",
        "      metrics=[iou_coef])   "
      ],
      "execution_count": 0,
      "outputs": [
        {
          "output_type": "stream",
          "text": [
            "WARNING:tensorflow:From /usr/local/lib/python3.6/dist-packages/keras/optimizers.py:793: The name tf.train.Optimizer is deprecated. Please use tf.compat.v1.train.Optimizer instead.\n",
            "\n"
          ],
          "name": "stdout"
        }
      ]
    },
    {
      "cell_type": "code",
      "metadata": {
        "id": "iRxH6o6AAV95",
        "colab_type": "code",
        "outputId": "30c8bd06-aaeb-4114-b04f-f36eacfc1e85",
        "colab": {
          "base_uri": "https://localhost:8080/",
          "height": 957
        }
      },
      "source": [
        "history = model.fit(road[:, 8:256-8, 8:256-8],\n",
        "                    (roadlabel[:, 8:256-8, 8:256-8].astype(np.uint8)/255).astype(np.uint8),\n",
        "                    validation_split = 0.1,\n",
        "                    epochs=100,\n",
        "                    batch_size = 16,\n",
        "                    callbacks = [checkpointer, earlystopper, lr_reducer, TensorBoardColabCallback(tbc)]\n",
        "                       )\n",
        "\n",
        "with open(\"History/PSPNet_efficientnetb7_Road_History.pickle\", 'wb') as f:\n",
        "    pickle.dump(history, f)"
      ],
      "execution_count": 0,
      "outputs": [
        {
          "output_type": "stream",
          "text": [
            "WARNING:tensorflow:From /usr/local/lib/python3.6/dist-packages/keras/backend/tensorflow_backend.py:1033: The name tf.assign_add is deprecated. Please use tf.compat.v1.assign_add instead.\n",
            "\n",
            "WARNING:tensorflow:From /usr/local/lib/python3.6/dist-packages/keras/backend/tensorflow_backend.py:1020: The name tf.assign is deprecated. Please use tf.compat.v1.assign instead.\n",
            "\n",
            "Train on 20619 samples, validate on 2292 samples\n",
            "WARNING:tensorflow:From /usr/local/lib/python3.6/dist-packages/tensorboardcolab/core.py:49: The name tf.summary.FileWriter is deprecated. Please use tf.compat.v1.summary.FileWriter instead.\n",
            "\n",
            "WARNING:tensorflow:From /usr/local/lib/python3.6/dist-packages/keras/callbacks.py:1122: The name tf.summary.merge_all is deprecated. Please use tf.compat.v1.summary.merge_all instead.\n",
            "\n",
            "Epoch 1/100\n",
            "20619/20619 [==============================] - 689s 33ms/step - loss: 0.6211 - iou_coef: 0.2067 - val_loss: 0.4414 - val_iou_coef: 0.3319\n",
            "\n",
            "Epoch 00001: val_loss improved from inf to 0.44144, saving model to Models/Final_PSPNet_efficientnetb7_road_weights.h5\n",
            "WARNING:tensorflow:From /usr/local/lib/python3.6/dist-packages/tensorboardcolab/callbacks.py:51: The name tf.Summary is deprecated. Please use tf.compat.v1.Summary instead.\n",
            "\n",
            "Epoch 2/100\n",
            "20619/20619 [==============================] - 670s 32ms/step - loss: 0.4130 - iou_coef: 0.4105 - val_loss: 0.3747 - val_iou_coef: 0.4723\n",
            "\n",
            "Epoch 00002: val_loss improved from 0.44144 to 0.37473, saving model to Models/Final_PSPNet_efficientnetb7_road_weights.h5\n",
            "Epoch 3/100\n",
            "20619/20619 [==============================] - 671s 33ms/step - loss: 0.3652 - iou_coef: 0.4729 - val_loss: 0.3431 - val_iou_coef: 0.5086\n",
            "\n",
            "Epoch 00003: val_loss improved from 0.37473 to 0.34314, saving model to Models/Final_PSPNet_efficientnetb7_road_weights.h5\n",
            "Epoch 4/100\n",
            "20619/20619 [==============================] - 671s 33ms/step - loss: 0.3439 - iou_coef: 0.5080 - val_loss: 0.3272 - val_iou_coef: 0.5468\n",
            "\n",
            "Epoch 00004: val_loss improved from 0.34314 to 0.32717, saving model to Models/Final_PSPNet_efficientnetb7_road_weights.h5\n",
            "Epoch 5/100\n",
            "20619/20619 [==============================] - 670s 32ms/step - loss: 0.3286 - iou_coef: 0.5288 - val_loss: 0.3184 - val_iou_coef: 0.5570\n",
            "\n",
            "Epoch 00005: val_loss improved from 0.32717 to 0.31843, saving model to Models/Final_PSPNet_efficientnetb7_road_weights.h5\n",
            "Epoch 6/100\n",
            "20619/20619 [==============================] - 670s 33ms/step - loss: 0.3197 - iou_coef: 0.5435 - val_loss: 0.3080 - val_iou_coef: 0.5659\n",
            "\n",
            "Epoch 00006: val_loss improved from 0.31843 to 0.30796, saving model to Models/Final_PSPNet_efficientnetb7_road_weights.h5\n",
            "Epoch 7/100\n",
            "20619/20619 [==============================] - 669s 32ms/step - loss: 0.3113 - iou_coef: 0.5530 - val_loss: 0.3015 - val_iou_coef: 0.5765\n",
            "\n",
            "Epoch 00007: val_loss improved from 0.30796 to 0.30155, saving model to Models/Final_PSPNet_efficientnetb7_road_weights.h5\n",
            "Epoch 8/100\n",
            "20619/20619 [==============================] - 669s 32ms/step - loss: 0.3056 - iou_coef: 0.5624 - val_loss: 0.2990 - val_iou_coef: 0.5834\n",
            "\n",
            "Epoch 00008: val_loss improved from 0.30155 to 0.29901, saving model to Models/Final_PSPNet_efficientnetb7_road_weights.h5\n",
            "Epoch 9/100\n",
            "20619/20619 [==============================] - 670s 33ms/step - loss: 0.2991 - iou_coef: 0.5695 - val_loss: 0.2949 - val_iou_coef: 0.5802\n",
            "\n",
            "Epoch 00009: val_loss improved from 0.29901 to 0.29494, saving model to Models/Final_PSPNet_efficientnetb7_road_weights.h5\n",
            "Epoch 10/100\n",
            "20619/20619 [==============================] - 670s 33ms/step - loss: 0.2955 - iou_coef: 0.5746 - val_loss: 0.2985 - val_iou_coef: 0.5688\n",
            "\n",
            "Epoch 00010: val_loss did not improve from 0.29494\n",
            "Epoch 11/100\n",
            " 1808/20619 [=>............................] - ETA: 9:59 - loss: 0.2941 - iou_coef: 0.5734 "
          ],
          "name": "stdout"
        }
      ]
    },
    {
      "cell_type": "code",
      "metadata": {
        "id": "PwDbNoXzadA4",
        "colab_type": "code",
        "outputId": "caaacb5e-4d8b-4cba-ac64-3888c77bbf61",
        "colab": {
          "base_uri": "https://localhost:8080/",
          "height": 1000
        }
      },
      "source": [
        "model.load_weights(model_path)\n",
        "\n",
        "history = model.fit(road[:, 8:256-8, 8:256-8],\n",
        "                    (roadlabel[:, 8:256-8, 8:256-8].astype(np.uint8)/255).astype(np.uint8),\n",
        "                    validation_split = 0.1,\n",
        "                    epochs=40,\n",
        "                    batch_size = 16,\n",
        "                    callbacks = [checkpointer, earlystopper, lr_reducer, TensorBoardColabCallback(tbc)]\n",
        "                       )\n",
        "\n",
        "with open(\"History/PSPNet_efficientnetb7_Road_History_1.pickle\", 'wb') as f:\n",
        "    pickle.dump(history, f"
      ],
      "execution_count": 0,
      "outputs": [
        {
          "output_type": "stream",
          "text": [
            "WARNING:tensorflow:From /usr/local/lib/python3.6/dist-packages/keras/backend/tensorflow_backend.py:1033: The name tf.assign_add is deprecated. Please use tf.compat.v1.assign_add instead.\n",
            "\n",
            "WARNING:tensorflow:From /usr/local/lib/python3.6/dist-packages/keras/backend/tensorflow_backend.py:1020: The name tf.assign is deprecated. Please use tf.compat.v1.assign instead.\n",
            "\n",
            "Train on 20619 samples, validate on 2292 samples\n",
            "WARNING:tensorflow:From /usr/local/lib/python3.6/dist-packages/tensorboardcolab/core.py:49: The name tf.summary.FileWriter is deprecated. Please use tf.compat.v1.summary.FileWriter instead.\n",
            "\n",
            "WARNING:tensorflow:From /usr/local/lib/python3.6/dist-packages/keras/callbacks.py:1122: The name tf.summary.merge_all is deprecated. Please use tf.compat.v1.summary.merge_all instead.\n",
            "\n",
            "Epoch 1/40\n",
            "20619/20619 [==============================] - 683s 33ms/step - loss: 0.2873 - iou_coef: 0.5854 - val_loss: 0.2859 - val_iou_coef: 0.5952\n",
            "\n",
            "Epoch 00001: val_loss improved from inf to 0.28591, saving model to Models/Final_PSPNet_efficientnetb7_road_weights.h5\n",
            "WARNING:tensorflow:From /usr/local/lib/python3.6/dist-packages/tensorboardcolab/callbacks.py:51: The name tf.Summary is deprecated. Please use tf.compat.v1.Summary instead.\n",
            "\n",
            "Epoch 2/40\n",
            "20619/20619 [==============================] - 661s 32ms/step - loss: 0.2836 - iou_coef: 0.5890 - val_loss: 0.2877 - val_iou_coef: 0.5924\n",
            "\n",
            "Epoch 00002: val_loss did not improve from 0.28591\n",
            "Epoch 3/40\n",
            "20619/20619 [==============================] - 661s 32ms/step - loss: 0.2802 - iou_coef: 0.5926 - val_loss: 0.2860 - val_iou_coef: 0.5971\n",
            "\n",
            "Epoch 00003: val_loss did not improve from 0.28591\n",
            "Epoch 4/40\n",
            "20619/20619 [==============================] - 661s 32ms/step - loss: 0.2784 - iou_coef: 0.5972 - val_loss: 0.2839 - val_iou_coef: 0.5921\n",
            "\n",
            "Epoch 00004: val_loss improved from 0.28591 to 0.28394, saving model to Models/Final_PSPNet_efficientnetb7_road_weights.h5\n",
            "Epoch 5/40\n",
            "20619/20619 [==============================] - 661s 32ms/step - loss: 0.2755 - iou_coef: 0.5992 - val_loss: 0.2793 - val_iou_coef: 0.6028\n",
            "\n",
            "Epoch 00005: val_loss improved from 0.28394 to 0.27928, saving model to Models/Final_PSPNet_efficientnetb7_road_weights.h5\n",
            "Epoch 6/40\n",
            "20619/20619 [==============================] - 661s 32ms/step - loss: 0.2735 - iou_coef: 0.6054 - val_loss: 0.2777 - val_iou_coef: 0.6020\n",
            "\n",
            "Epoch 00006: val_loss improved from 0.27928 to 0.27771, saving model to Models/Final_PSPNet_efficientnetb7_road_weights.h5\n",
            "Epoch 7/40\n",
            "20619/20619 [==============================] - 660s 32ms/step - loss: 0.2710 - iou_coef: 0.6059 - val_loss: 0.2793 - val_iou_coef: 0.6040\n",
            "\n",
            "Epoch 00007: val_loss did not improve from 0.27771\n",
            "Epoch 8/40\n",
            "20619/20619 [==============================] - 661s 32ms/step - loss: 0.2690 - iou_coef: 0.6079 - val_loss: 0.2830 - val_iou_coef: 0.6034\n",
            "\n",
            "Epoch 00008: val_loss did not improve from 0.27771\n",
            "Epoch 9/40\n",
            "20619/20619 [==============================] - 660s 32ms/step - loss: 0.2660 - iou_coef: 0.6124 - val_loss: 0.2769 - val_iou_coef: 0.5994\n",
            "\n",
            "Epoch 00009: val_loss improved from 0.27771 to 0.27687, saving model to Models/Final_PSPNet_efficientnetb7_road_weights.h5\n",
            "Epoch 10/40\n",
            "20619/20619 [==============================] - 661s 32ms/step - loss: 0.2650 - iou_coef: 0.6148 - val_loss: 0.2776 - val_iou_coef: 0.6064\n",
            "\n",
            "Epoch 00010: val_loss did not improve from 0.27687\n",
            "Epoch 11/40\n",
            "20619/20619 [==============================] - 661s 32ms/step - loss: 0.2627 - iou_coef: 0.6183 - val_loss: 0.2773 - val_iou_coef: 0.6024\n",
            "\n",
            "Epoch 00011: val_loss did not improve from 0.27687\n",
            "Epoch 12/40\n",
            "20619/20619 [==============================] - 660s 32ms/step - loss: 0.2612 - iou_coef: 0.6193 - val_loss: 0.2754 - val_iou_coef: 0.6064\n",
            "\n",
            "Epoch 00012: val_loss improved from 0.27687 to 0.27542, saving model to Models/Final_PSPNet_efficientnetb7_road_weights.h5\n",
            "Epoch 13/40\n",
            "20619/20619 [==============================] - 661s 32ms/step - loss: 0.2594 - iou_coef: 0.6226 - val_loss: 0.2755 - val_iou_coef: 0.6070\n",
            "\n",
            "Epoch 00013: val_loss did not improve from 0.27542\n",
            "Epoch 14/40\n",
            "20619/20619 [==============================] - 660s 32ms/step - loss: 0.2581 - iou_coef: 0.6235 - val_loss: 0.2894 - val_iou_coef: 0.5935\n",
            "\n",
            "Epoch 00014: val_loss did not improve from 0.27542\n",
            "Epoch 15/40\n",
            "20619/20619 [==============================] - 659s 32ms/step - loss: 0.2571 - iou_coef: 0.6258 - val_loss: 0.2721 - val_iou_coef: 0.6049\n",
            "\n",
            "Epoch 00015: val_loss improved from 0.27542 to 0.27214, saving model to Models/Final_PSPNet_efficientnetb7_road_weights.h5\n",
            "Epoch 16/40\n",
            "20619/20619 [==============================] - 660s 32ms/step - loss: 0.2549 - iou_coef: 0.6265 - val_loss: 0.2716 - val_iou_coef: 0.6072\n",
            "\n",
            "Epoch 00016: val_loss improved from 0.27214 to 0.27163, saving model to Models/Final_PSPNet_efficientnetb7_road_weights.h5\n",
            "Epoch 17/40\n",
            "20619/20619 [==============================] - 660s 32ms/step - loss: 0.2540 - iou_coef: 0.6281 - val_loss: 0.2703 - val_iou_coef: 0.6103\n",
            "\n",
            "Epoch 00017: val_loss improved from 0.27163 to 0.27026, saving model to Models/Final_PSPNet_efficientnetb7_road_weights.h5\n",
            "Epoch 18/40\n",
            "20619/20619 [==============================] - 660s 32ms/step - loss: 0.2532 - iou_coef: 0.6298 - val_loss: 0.2707 - val_iou_coef: 0.6089\n",
            "\n",
            "Epoch 00018: val_loss did not improve from 0.27026\n",
            "Epoch 19/40\n",
            "20619/20619 [==============================] - 661s 32ms/step - loss: 0.2519 - iou_coef: 0.6305 - val_loss: 0.2731 - val_iou_coef: 0.6097\n",
            "\n",
            "Epoch 00019: val_loss did not improve from 0.27026\n",
            "Epoch 20/40\n",
            "20619/20619 [==============================] - 660s 32ms/step - loss: 0.2502 - iou_coef: 0.6336 - val_loss: 0.2722 - val_iou_coef: 0.6089\n",
            "\n",
            "Epoch 00020: val_loss did not improve from 0.27026\n",
            "Epoch 21/40\n",
            "20619/20619 [==============================] - 660s 32ms/step - loss: 0.2485 - iou_coef: 0.6374 - val_loss: 0.2686 - val_iou_coef: 0.6149\n",
            "\n",
            "Epoch 00021: val_loss improved from 0.27026 to 0.26855, saving model to Models/Final_PSPNet_efficientnetb7_road_weights.h5\n",
            "Epoch 22/40\n",
            "20619/20619 [==============================] - 660s 32ms/step - loss: 0.2483 - iou_coef: 0.6374 - val_loss: 0.2714 - val_iou_coef: 0.6124\n",
            "\n",
            "Epoch 00022: val_loss did not improve from 0.26855\n",
            "Epoch 23/40\n",
            "20619/20619 [==============================] - 659s 32ms/step - loss: 0.2463 - iou_coef: 0.6389 - val_loss: 0.2826 - val_iou_coef: 0.6028\n",
            "\n",
            "Epoch 00023: val_loss did not improve from 0.26855\n",
            "Epoch 24/40\n",
            "20619/20619 [==============================] - 660s 32ms/step - loss: 0.2450 - iou_coef: 0.6390 - val_loss: 0.2723 - val_iou_coef: 0.6123\n",
            "\n",
            "Epoch 00024: val_loss did not improve from 0.26855\n",
            "Epoch 25/40\n",
            "20619/20619 [==============================] - 660s 32ms/step - loss: 0.2446 - iou_coef: 0.6417 - val_loss: 0.2694 - val_iou_coef: 0.6111\n",
            "\n",
            "Epoch 00025: val_loss did not improve from 0.26855\n",
            "\n",
            "Epoch 00025: ReduceLROnPlateau reducing learning rate to 9.999999747378752e-06.\n",
            "Epoch 26/40\n",
            "  944/20619 [>.............................] - ETA: 10:17 - loss: 0.2485 - iou_coef: 0.6506"
          ],
          "name": "stdout"
        }
      ]
    },
    {
      "cell_type": "code",
      "metadata": {
        "id": "7QcEYMFXXZwr",
        "colab_type": "code",
        "outputId": "45ef906d-c897-484c-c6b2-f07296040346",
        "colab": {
          "base_uri": "https://localhost:8080/",
          "height": 72
        }
      },
      "source": [
        "opt = keras.optimizers.adam(10e-6)\n",
        "model.compile(\n",
        "      optimizer=opt,\n",
        "      loss=soft_dice_loss,\n",
        "      metrics=[iou_coef])   "
      ],
      "execution_count": 0,
      "outputs": [
        {
          "output_type": "stream",
          "text": [
            "WARNING:tensorflow:From /usr/local/lib/python3.6/dist-packages/keras/optimizers.py:793: The name tf.train.Optimizer is deprecated. Please use tf.compat.v1.train.Optimizer instead.\n",
            "\n"
          ],
          "name": "stdout"
        }
      ]
    },
    {
      "cell_type": "code",
      "metadata": {
        "id": "7HcBx6jLXaW6",
        "colab_type": "code",
        "outputId": "5303326e-f4a0-45de-a47b-4c89332bdfb6",
        "colab": {
          "base_uri": "https://localhost:8080/",
          "height": 714
        }
      },
      "source": [
        "model.load_weights(model_path)\n",
        "\n",
        "history = model.fit(road[:, 8:256-8, 8:256-8],\n",
        "                    (roadlabel[:, 8:256-8, 8:256-8].astype(np.uint8)/255).astype(np.uint8),\n",
        "                    validation_split = 0.1,\n",
        "                    epochs=40,\n",
        "                    batch_size = 16,\n",
        "                    callbacks = [checkpointer, earlystopper, lr_reducer, TensorBoardColabCallback(tbc)]\n",
        "                       )\n",
        "\n",
        "with open(\"History/PSPNet_efficientnetb7_Road_History_2.pickle\", 'wb') as f:\n",
        "    pickle.dump(history, f)"
      ],
      "execution_count": 0,
      "outputs": [
        {
          "output_type": "stream",
          "text": [
            "Train on 20619 samples, validate on 2292 samples\n",
            "Epoch 1/40\n",
            "20619/20619 [==============================] - 1842s 89ms/step - loss: 0.2376 - iou_coef: 0.6507 - val_loss: 0.2646 - val_iou_coef: 0.6179\n",
            "\n",
            "Epoch 00001: val_loss improved from inf to 0.26459, saving model to Models/Final_PSPNet_efficientnetb7_road_weights.h5\n",
            "WARNING:tensorflow:From /usr/local/lib/python3.6/dist-packages/tensorboardcolab/callbacks.py:51: The name tf.Summary is deprecated. Please use tf.compat.v1.Summary instead.\n",
            "\n",
            "Epoch 2/40\n",
            "20619/20619 [==============================] - 1852s 90ms/step - loss: 0.2372 - iou_coef: 0.6526 - val_loss: 0.2644 - val_iou_coef: 0.6190\n",
            "\n",
            "Epoch 00002: val_loss improved from 0.26459 to 0.26443, saving model to Models/Final_PSPNet_efficientnetb7_road_weights.h5\n",
            "Epoch 3/40\n",
            "20619/20619 [==============================] - 1850s 90ms/step - loss: 0.2368 - iou_coef: 0.6521 - val_loss: 0.2643 - val_iou_coef: 0.6193\n",
            "\n",
            "Epoch 00003: val_loss improved from 0.26443 to 0.26426, saving model to Models/Final_PSPNet_efficientnetb7_road_weights.h5\n",
            "Epoch 4/40\n",
            "20619/20619 [==============================] - 1852s 90ms/step - loss: 0.2363 - iou_coef: 0.6539 - val_loss: 0.2639 - val_iou_coef: 0.6197\n",
            "\n",
            "Epoch 00004: val_loss improved from 0.26426 to 0.26391, saving model to Models/Final_PSPNet_efficientnetb7_road_weights.h5\n",
            "Epoch 5/40\n",
            "20619/20619 [==============================] - 1851s 90ms/step - loss: 0.2361 - iou_coef: 0.6541 - val_loss: 0.2645 - val_iou_coef: 0.6193\n",
            "\n",
            "Epoch 00005: val_loss did not improve from 0.26391\n",
            "Epoch 6/40\n",
            "20619/20619 [==============================] - 1853s 90ms/step - loss: 0.2356 - iou_coef: 0.6528 - val_loss: 0.2641 - val_iou_coef: 0.6181\n",
            "\n",
            "Epoch 00006: val_loss did not improve from 0.26391\n",
            "Epoch 7/40\n",
            "20619/20619 [==============================] - 1854s 90ms/step - loss: 0.2353 - iou_coef: 0.6541 - val_loss: 0.2638 - val_iou_coef: 0.6203\n",
            "\n",
            "Epoch 00007: val_loss improved from 0.26391 to 0.26381, saving model to Models/Final_PSPNet_efficientnetb7_road_weights.h5\n",
            "Epoch 8/40\n",
            "20619/20619 [==============================] - 1852s 90ms/step - loss: 0.2353 - iou_coef: 0.6561 - val_loss: 0.2645 - val_iou_coef: 0.6183\n",
            "\n",
            "Epoch 00008: val_loss did not improve from 0.26381\n",
            "\n",
            "Epoch 00008: ReduceLROnPlateau reducing learning rate to 9.999999747378752e-07.\n",
            "Epoch 9/40\n",
            "10512/20619 [==============>...............] - ETA: 14:48 - loss: 0.2352 - iou_coef: 0.6540"
          ],
          "name": "stdout"
        }
      ]
    },
    {
      "cell_type": "code",
      "metadata": {
        "id": "-Sem4bazGH3U",
        "colab_type": "code",
        "colab": {}
      },
      "source": [
        "opt = keras.optimizers.adam(10e-7)\n",
        "model.compile(\n",
        "      optimizer=opt,\n",
        "      loss=soft_dice_loss,\n",
        "      metrics=[iou_coef])   "
      ],
      "execution_count": 0,
      "outputs": []
    },
    {
      "cell_type": "code",
      "metadata": {
        "id": "nzI9QoCBGKyn",
        "colab_type": "code",
        "outputId": "7ef4e33e-a5a4-42ce-fba7-f91badbddbc9",
        "colab": {
          "base_uri": "https://localhost:8080/",
          "height": 957
        }
      },
      "source": [
        "model.load_weights(model_path)\n",
        "\n",
        "history = model.fit(road[:, 8:256-8, 8:256-8],\n",
        "                    (roadlabel[:, 8:256-8, 8:256-8].astype(np.uint8)/255).astype(np.uint8),\n",
        "                    validation_split = 0.1,\n",
        "                    epochs=40,\n",
        "                    batch_size = 16,\n",
        "                    callbacks = [checkpointer, earlystopper, lr_reducer, TensorBoardColabCallback(tbc)]\n",
        "                       )\n",
        "\n",
        "with open(\"History/PSPNet_efficientnetb7_Road_History_2.pickle\", 'wb') as f:\n",
        "    pickle.dump(history, f)"
      ],
      "execution_count": 0,
      "outputs": [
        {
          "output_type": "stream",
          "text": [
            "WARNING:tensorflow:From /usr/local/lib/python3.6/dist-packages/keras/backend/tensorflow_backend.py:1033: The name tf.assign_add is deprecated. Please use tf.compat.v1.assign_add instead.\n",
            "\n",
            "WARNING:tensorflow:From /usr/local/lib/python3.6/dist-packages/keras/backend/tensorflow_backend.py:1020: The name tf.assign is deprecated. Please use tf.compat.v1.assign instead.\n",
            "\n",
            "Train on 20619 samples, validate on 2292 samples\n",
            "WARNING:tensorflow:From /usr/local/lib/python3.6/dist-packages/tensorboardcolab/core.py:49: The name tf.summary.FileWriter is deprecated. Please use tf.compat.v1.summary.FileWriter instead.\n",
            "\n",
            "WARNING:tensorflow:From /usr/local/lib/python3.6/dist-packages/keras/callbacks.py:1122: The name tf.summary.merge_all is deprecated. Please use tf.compat.v1.summary.merge_all instead.\n",
            "\n",
            "Epoch 1/40\n",
            "20619/20619 [==============================] - 1803s 87ms/step - loss: 0.2350 - iou_coef: 0.6548 - val_loss: 0.2638 - val_iou_coef: 0.6193\n",
            "\n",
            "Epoch 00001: val_loss improved from inf to 0.26382, saving model to Models/Final_PSPNet_efficientnetb7_road_weights.h5\n",
            "WARNING:tensorflow:From /usr/local/lib/python3.6/dist-packages/tensorboardcolab/callbacks.py:51: The name tf.Summary is deprecated. Please use tf.compat.v1.Summary instead.\n",
            "\n",
            "Epoch 2/40\n",
            "20619/20619 [==============================] - 1779s 86ms/step - loss: 0.2344 - iou_coef: 0.6563 - val_loss: 0.2638 - val_iou_coef: 0.6197\n",
            "\n",
            "Epoch 00002: val_loss did not improve from 0.26382\n",
            "Epoch 3/40\n",
            "20619/20619 [==============================] - 1773s 86ms/step - loss: 0.2349 - iou_coef: 0.6544 - val_loss: 0.2639 - val_iou_coef: 0.6193\n",
            "\n",
            "Epoch 00003: val_loss did not improve from 0.26382\n",
            "Epoch 4/40\n",
            "20619/20619 [==============================] - 1773s 86ms/step - loss: 0.2343 - iou_coef: 0.6559 - val_loss: 0.2640 - val_iou_coef: 0.6191\n",
            "\n",
            "Epoch 00004: val_loss did not improve from 0.26382\n",
            "Epoch 5/40\n",
            "20619/20619 [==============================] - 1778s 86ms/step - loss: 0.2343 - iou_coef: 0.6562 - val_loss: 0.2638 - val_iou_coef: 0.6198\n",
            "\n",
            "Epoch 00005: val_loss improved from 0.26382 to 0.26381, saving model to Models/Final_PSPNet_efficientnetb7_road_weights.h5\n",
            "\n",
            "Epoch 00005: ReduceLROnPlateau reducing learning rate to 9.999999974752428e-08.\n",
            "Epoch 6/40\n",
            "20619/20619 [==============================] - 1778s 86ms/step - loss: 0.2343 - iou_coef: 0.6547 - val_loss: 0.2639 - val_iou_coef: 0.6189\n",
            "\n",
            "Epoch 00006: val_loss did not improve from 0.26381\n",
            "Epoch 7/40\n",
            "20619/20619 [==============================] - 1779s 86ms/step - loss: 0.2346 - iou_coef: 0.6554 - val_loss: 0.2639 - val_iou_coef: 0.6194\n",
            "\n",
            "Epoch 00007: val_loss did not improve from 0.26381\n",
            "Epoch 8/40\n",
            "20619/20619 [==============================] - 1779s 86ms/step - loss: 0.2344 - iou_coef: 0.6551 - val_loss: 0.2640 - val_iou_coef: 0.6186\n",
            "\n",
            "Epoch 00008: val_loss did not improve from 0.26381\n",
            "Epoch 9/40\n",
            "20619/20619 [==============================] - 1778s 86ms/step - loss: 0.2342 - iou_coef: 0.6559 - val_loss: 0.2639 - val_iou_coef: 0.6193\n",
            "\n",
            "Epoch 00009: val_loss did not improve from 0.26381\n",
            "\n",
            "Epoch 00009: ReduceLROnPlateau reducing learning rate to 1.0000000116860975e-08.\n",
            "Epoch 10/40\n",
            "14304/20619 [===================>..........] - ETA: 8:52 - loss: 0.2338 - iou_coef: 0.6555"
          ],
          "name": "stdout"
        }
      ]
    },
    {
      "cell_type": "code",
      "metadata": {
        "id": "tgcZk2DVNOxT",
        "colab_type": "code",
        "colab": {}
      },
      "source": [
        "#import pickle\n",
        "#with open(\"History/Road_History.pickle\", 'rb') as f:\n",
        "#    history = pickle.load(f)"
      ],
      "execution_count": 0,
      "outputs": []
    },
    {
      "cell_type": "code",
      "metadata": {
        "id": "-0SYiVaDAP7W",
        "colab_type": "code",
        "colab": {}
      },
      "source": [
        "import matplotlib.pyplot as plt\n",
        "\n",
        "# Plot training & validation accuracy values\n",
        "plt.plot(history.history['iou_coef'])\n",
        "plt.plot(history.history['val_iou_coef'])\n",
        "plt.title('Model accuracy')\n",
        "plt.ylabel('Accuracy')\n",
        "plt.xlabel('Epoch')\n",
        "plt.legend(['Train', 'Test'], loc='upper left')\n",
        "plt.show()\n",
        "\n",
        "# Plot training & validation loss values\n",
        "plt.plot(history.history['loss'])\n",
        "plt.plot(history.history['val_loss'])\n",
        "plt.title('Model loss')\n",
        "plt.ylabel('Loss')\n",
        "plt.xlabel('Epoch')\n",
        "plt.legend(['Train', 'Test'], loc='upper left')\n",
        "plt.show()"
      ],
      "execution_count": 0,
      "outputs": []
    }
  ]
}