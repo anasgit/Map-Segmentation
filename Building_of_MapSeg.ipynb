{
  "nbformat": 4,
  "nbformat_minor": 0,
  "metadata": {
    "colab": {
      "name": "Building of MapSeg.ipynb",
      "provenance": [],
      "collapsed_sections": [],
      "machine_shape": "hm",
      "authorship_tag": "ABX9TyPhEEFFY6KzYLOfw1I6FSWl",
      "include_colab_link": true
    },
    "kernelspec": {
      "name": "python3",
      "display_name": "Python 3"
    },
    "accelerator": "GPU"
  },
  "cells": [
    {
      "cell_type": "markdown",
      "metadata": {
        "id": "view-in-github",
        "colab_type": "text"
      },
      "source": [
        "<a href=\"https://colab.research.google.com/github/parshwa1999/Map-Segmentation/blob/master/Building_of_MapSeg.ipynb\" target=\"_parent\"><img src=\"https://colab.research.google.com/assets/colab-badge.svg\" alt=\"Open In Colab\"/></a>"
      ]
    },
    {
      "cell_type": "code",
      "metadata": {
        "id": "jp1XESIw_CJP",
        "colab_type": "code",
        "outputId": "cbc8a006-f3b5-407e-c2bf-025c21013307",
        "colab": {
          "base_uri": "https://localhost:8080/",
          "height": 141
        }
      },
      "source": [
        "from google.colab import drive\n",
        "drive.mount('/content/gdrive/')\n",
        "base_path = \"gdrive/My\\ Drive/MapSegClean/\"\n",
        "%cd gdrive/My\\ Drive/MapSegClean/\n"
      ],
      "execution_count": 1,
      "outputs": [
        {
          "output_type": "stream",
          "text": [
            "Go to this URL in a browser: https://accounts.google.com/o/oauth2/auth?client_id=947318989803-6bn6qk8qdgf4n4g3pfee6491hc0brc4i.apps.googleusercontent.com&redirect_uri=urn%3aietf%3awg%3aoauth%3a2.0%3aoob&response_type=code&scope=email%20https%3a%2f%2fwww.googleapis.com%2fauth%2fdocs.test%20https%3a%2f%2fwww.googleapis.com%2fauth%2fdrive%20https%3a%2f%2fwww.googleapis.com%2fauth%2fdrive.photos.readonly%20https%3a%2f%2fwww.googleapis.com%2fauth%2fpeopleapi.readonly\n",
            "\n",
            "Enter your authorization code:\n",
            "··········\n",
            "Mounted at /content/gdrive/\n",
            "/content/gdrive/My Drive/MapSegClean\n"
          ],
          "name": "stdout"
        }
      ]
    },
    {
      "cell_type": "code",
      "metadata": {
        "id": "xLs7ouvD_Ox8",
        "colab_type": "code",
        "colab": {}
      },
      "source": [
        "import cv2\n",
        "import numpy as np\n",
        "import h5py\n",
        "#import matplotlib.pyplot as plt"
      ],
      "execution_count": 0,
      "outputs": []
    },
    {
      "cell_type": "code",
      "metadata": {
        "id": "Q_Wjplyd_O8g",
        "colab_type": "code",
        "outputId": "47dc8c58-d592-496d-8607-cb053c83f02c",
        "colab": {
          "base_uri": "https://localhost:8080/",
          "height": 81
        }
      },
      "source": [
        "import tensorflow as tf\n",
        "from keras import backend as K"
      ],
      "execution_count": 3,
      "outputs": [
        {
          "output_type": "display_data",
          "data": {
            "text/html": [
              "<p style=\"color: red;\">\n",
              "The default version of TensorFlow in Colab will soon switch to TensorFlow 2.x.<br>\n",
              "We recommend you <a href=\"https://www.tensorflow.org/guide/migrate\" target=\"_blank\">upgrade</a> now \n",
              "or ensure your notebook will continue to use TensorFlow 1.x via the <code>%tensorflow_version 1.x</code> magic:\n",
              "<a href=\"https://colab.research.google.com/notebooks/tensorflow_version.ipynb\" target=\"_blank\">more info</a>.</p>\n"
            ],
            "text/plain": [
              "<IPython.core.display.HTML object>"
            ]
          },
          "metadata": {
            "tags": []
          }
        },
        {
          "output_type": "stream",
          "text": [
            "Using TensorFlow backend.\n"
          ],
          "name": "stderr"
        }
      ]
    },
    {
      "cell_type": "code",
      "metadata": {
        "id": "0aFHDPl3_PAe",
        "colab_type": "code",
        "colab": {}
      },
      "source": [
        "from keras.models import Model, load_model\n",
        "import tensorflow as tf\n",
        "from keras.layers import Input\n",
        "from keras.layers.core import Dropout, Lambda\n",
        "from keras.layers.convolutional import Conv2D, Conv2DTranspose\n",
        "from keras.layers.pooling import MaxPooling2D\n",
        "from keras.layers.merge import concatenate\n",
        "from keras import optimizers\n",
        "from keras.layers import BatchNormalization\n",
        "from tensorflow.keras.metrics import MeanIoU\n",
        "import keras\n",
        "\n",
        "from skimage import color"
      ],
      "execution_count": 0,
      "outputs": []
    },
    {
      "cell_type": "code",
      "metadata": {
        "id": "2XHC2-Eb_PDV",
        "colab_type": "code",
        "colab": {}
      },
      "source": [
        "h5f = h5py.File('BuildingLabels.h5','r')\n",
        "roadlabel = h5f['BuildingLabels'][:]\n",
        "h5f.close()\n",
        "\n",
        "h5f = h5py.File('BuildingImages.h5','r')\n",
        "road = h5f['BuildingImages'][:]\n",
        "h5f.close()"
      ],
      "execution_count": 0,
      "outputs": []
    },
    {
      "cell_type": "code",
      "metadata": {
        "id": "hTBdXGpS2ICe",
        "colab_type": "code",
        "colab": {}
      },
      "source": [
        "#for i in range(road.shape[0]):\n",
        "#  cv2.imwrite(\"Road/\" + str(i) + \".png\", road[i])\n",
        "\n",
        "#for i in range(roadlabel.shape[0]):\n",
        "#  cv2.imwrite(\"RoadLabel/\" + str(i) + \".png\", roadlabel[i])\n"
      ],
      "execution_count": 0,
      "outputs": []
    },
    {
      "cell_type": "code",
      "metadata": {
        "id": "UCQmMVMM_PIG",
        "colab_type": "code",
        "colab": {}
      },
      "source": [
        "\"\"\"Loss Fuction\"\"\"\n",
        "def iou_coef(y_true, y_pred, smooth=1):\n",
        "  intersection = K.sum(K.abs(y_true * y_pred), axis=[1,2,3])\n",
        "  union = K.sum(y_true,[1,2,3])+K.sum(y_pred,[1,2,3])-intersection\n",
        "  iou = K.mean((intersection + smooth) / (union + smooth), axis=0)\n",
        "  return iou\n",
        "\n",
        "def dice_coef(y_true, y_pred, smooth = 1):\n",
        "    y_true_f = K.flatten(y_true)\n",
        "    y_pred_f = K.flatten(y_pred)\n",
        "    intersection = K.sum(y_true_f * y_pred_f)\n",
        "    return (2. * intersection + smooth) / (K.sum(y_true_f) + K.sum(y_pred_f) + smooth)\n",
        "\n",
        "def soft_dice_loss(y_true, y_pred):\n",
        "    return 1-dice_coef(y_true, y_pred)\n"
      ],
      "execution_count": 0,
      "outputs": []
    },
    {
      "cell_type": "code",
      "metadata": {
        "id": "Rz9UxbKN_PKT",
        "colab_type": "code",
        "outputId": "3e175cd7-b444-407e-8148-3a4e1c1e186f",
        "colab": {
          "base_uri": "https://localhost:8080/",
          "height": 52
        }
      },
      "source": [
        "print(roadlabel.shape)\n",
        "\n",
        "roadlabelgray = []\n",
        "\n",
        "for i in range(roadlabel.shape[0]):\n",
        "  roadlabelgray.append(cv2.cvtColor(roadlabel[i], cv2.COLOR_BGR2GRAY))\n",
        "\n",
        "roadlabelgray = np.asarray(roadlabelgray)\n",
        "#del \n",
        "\n",
        "roadlabel = np.expand_dims(roadlabelgray, -1)\n",
        "print(roadlabel.shape)"
      ],
      "execution_count": 7,
      "outputs": [
        {
          "output_type": "stream",
          "text": [
            "(24520, 256, 256, 3)\n",
            "(24520, 256, 256, 1)\n"
          ],
          "name": "stdout"
        }
      ]
    },
    {
      "cell_type": "code",
      "metadata": {
        "id": "wyK64qk8_3xS",
        "colab_type": "code",
        "colab": {}
      },
      "source": [
        "seed = 56\n",
        "IMAGE_HEIGHT = IMAGE_WIDTH = 256\n",
        "NUM_CHANNELS = 3\n",
        "#del train_images, train_masks\n",
        "#del test_images, test_masks"
      ],
      "execution_count": 0,
      "outputs": []
    },
    {
      "cell_type": "code",
      "metadata": {
        "id": "XpyukCaS_3_t",
        "colab_type": "code",
        "outputId": "ee79c244-8755-426c-a59f-3bfc3dd04aa5",
        "colab": {
          "base_uri": "https://localhost:8080/",
          "height": 1000
        }
      },
      "source": [
        "\"\"\"\n",
        "Model\n",
        "\"\"\"\n",
        "\n",
        "inputs = Input((IMAGE_HEIGHT, IMAGE_WIDTH, 3))\n",
        "s = Lambda(lambda x: x / 255) (inputs)\n",
        "\n",
        "conv1 = Conv2D(16, (3, 3), activation='elu', kernel_initializer='he_normal', padding='same') (inputs)\n",
        "conv1 = BatchNormalization() (conv1)\n",
        "conv1 = Dropout(0.1) (conv1)\n",
        "conv1 = Conv2D(16, (3, 3), activation='elu', kernel_initializer='he_normal', padding='same') (conv1)\n",
        "conv1 = BatchNormalization() (conv1)\n",
        "pooling1 = MaxPooling2D((2, 2)) (conv1)\n",
        "\n",
        "conv2 = Conv2D(32, (3, 3), activation='elu', kernel_initializer='he_normal', padding='same') (pooling1)\n",
        "conv2 = BatchNormalization() (conv2)\n",
        "conv2 = Dropout(0.1) (conv2)\n",
        "conv2 = Conv2D(32, (3, 3), activation='elu', kernel_initializer='he_normal', padding='same') (conv2)\n",
        "conv2 = BatchNormalization() (conv2)\n",
        "pooling2 = MaxPooling2D((2, 2)) (conv2)\n",
        "\n",
        "conv3 = Conv2D(64, (3, 3), activation='elu', kernel_initializer='he_normal', padding='same') (pooling2)\n",
        "conv3 = BatchNormalization() (conv3)\n",
        "conv3 = Dropout(0.2) (conv3)\n",
        "conv3 = Conv2D(64, (3, 3), activation='elu', kernel_initializer='he_normal', padding='same') (conv3)\n",
        "conv3 = BatchNormalization() (conv3)\n",
        "pooling3 = MaxPooling2D((2, 2)) (conv3)\n",
        "\n",
        "conv4 = Conv2D(128, (3, 3), activation='elu', kernel_initializer='he_normal', padding='same') (pooling3)\n",
        "conv4 = BatchNormalization() (conv4)\n",
        "conv4 = Dropout(0.2) (conv4)\n",
        "conv4 = Conv2D(128, (3, 3), activation='elu', kernel_initializer='he_normal', padding='same') (conv4)\n",
        "conv4 = BatchNormalization() (conv4)\n",
        "pooling4 = MaxPooling2D(pool_size=(2, 2)) (conv4)\n",
        "\n",
        "conv5 = Conv2D(256, (3, 3), activation='elu', kernel_initializer='he_normal', padding='same') (pooling4)\n",
        "conv5 = BatchNormalization() (conv5)\n",
        "conv5 = Dropout(0.3) (conv5)\n",
        "conv5 = Conv2D(256, (3, 3), activation='elu', kernel_initializer='he_normal', padding='same') (conv5)\n",
        "conv5 = BatchNormalization() (conv5)\n",
        "\n",
        "\n",
        "upsample6 = Conv2DTranspose(128, (2, 2), strides=(2, 2), padding='same') (conv5)\n",
        "upsample6 = concatenate([upsample6, conv4])\n",
        "conv6 = Conv2D(128, (3, 3), activation='elu', kernel_initializer='he_normal', padding='same') (upsample6)\n",
        "conv6 = BatchNormalization() (conv6)\n",
        "conv6 = Dropout(0.2) (conv6)\n",
        "conv6 = Conv2D(128, (3, 3), activation='elu', kernel_initializer='he_normal', padding='same') (conv6)\n",
        "conv6 = BatchNormalization() (conv6)\n",
        "\n",
        "upsample7 = Conv2DTranspose(64, (2, 2), strides=(2, 2), padding='same') (conv6)\n",
        "upsample7 = concatenate([upsample7, conv3])\n",
        "conv7 = Conv2D(64, (3, 3), activation='elu', kernel_initializer='he_normal', padding='same') (upsample7)\n",
        "conv7 = BatchNormalization() (conv7)\n",
        "conv7 = Dropout(0.2) (conv7)\n",
        "conv7 = Conv2D(64, (3, 3), activation='elu', kernel_initializer='he_normal', padding='same') (conv7)\n",
        "conv7 = BatchNormalization() (conv7)\n",
        "\n",
        "upsample8 = Conv2DTranspose(32, (2, 2), strides=(2, 2), padding='same') (conv7)\n",
        "upsample8 = concatenate([upsample8, conv2])\n",
        "conv8 = Conv2D(32, (3, 3), activation='elu', kernel_initializer='he_normal', padding='same') (upsample8)\n",
        "conv8 = BatchNormalization() (conv8)\n",
        "conv8 = Dropout(0.1) (conv8)\n",
        "conv8 = Conv2D(32, (3, 3), activation='elu', kernel_initializer='he_normal', padding='same') (conv8)\n",
        "conv8 = BatchNormalization() (conv8)\n",
        "\n",
        "upsample9 = Conv2DTranspose(16, (2, 2), strides=(2, 2), padding='same') (conv8)\n",
        "upsample9 = concatenate([upsample9, conv1], axis=3)\n",
        "conv9 = Conv2D(16, (3, 3), activation='elu', kernel_initializer='he_normal', padding='same') (upsample9)\n",
        "conv9 = BatchNormalization() (conv9)\n",
        "conv9 = Dropout(0.1) (conv9)\n",
        "conv9 = Conv2D(16, (3, 3), activation='elu', kernel_initializer='he_normal', padding='same') (conv9)\n",
        "conv9 = BatchNormalization() (conv9)\n",
        "\n",
        "outputs = Conv2D(1, (1, 1), activation='sigmoid') (conv9)\n",
        "\n",
        "model = Model(inputs=[inputs], outputs=[outputs])\n",
        "model.summary()\n"
      ],
      "execution_count": 9,
      "outputs": [
        {
          "output_type": "stream",
          "text": [
            "WARNING:tensorflow:From /usr/local/lib/python3.6/dist-packages/keras/backend/tensorflow_backend.py:66: The name tf.get_default_graph is deprecated. Please use tf.compat.v1.get_default_graph instead.\n",
            "\n",
            "WARNING:tensorflow:From /usr/local/lib/python3.6/dist-packages/keras/backend/tensorflow_backend.py:541: The name tf.placeholder is deprecated. Please use tf.compat.v1.placeholder instead.\n",
            "\n",
            "WARNING:tensorflow:From /usr/local/lib/python3.6/dist-packages/keras/backend/tensorflow_backend.py:4479: The name tf.truncated_normal is deprecated. Please use tf.random.truncated_normal instead.\n",
            "\n",
            "WARNING:tensorflow:From /usr/local/lib/python3.6/dist-packages/keras/backend/tensorflow_backend.py:190: The name tf.get_default_session is deprecated. Please use tf.compat.v1.get_default_session instead.\n",
            "\n",
            "WARNING:tensorflow:From /usr/local/lib/python3.6/dist-packages/keras/backend/tensorflow_backend.py:197: The name tf.ConfigProto is deprecated. Please use tf.compat.v1.ConfigProto instead.\n",
            "\n",
            "WARNING:tensorflow:From /usr/local/lib/python3.6/dist-packages/keras/backend/tensorflow_backend.py:203: The name tf.Session is deprecated. Please use tf.compat.v1.Session instead.\n",
            "\n",
            "WARNING:tensorflow:From /usr/local/lib/python3.6/dist-packages/keras/backend/tensorflow_backend.py:207: The name tf.global_variables is deprecated. Please use tf.compat.v1.global_variables instead.\n",
            "\n",
            "WARNING:tensorflow:From /usr/local/lib/python3.6/dist-packages/keras/backend/tensorflow_backend.py:216: The name tf.is_variable_initialized is deprecated. Please use tf.compat.v1.is_variable_initialized instead.\n",
            "\n",
            "WARNING:tensorflow:From /usr/local/lib/python3.6/dist-packages/keras/backend/tensorflow_backend.py:223: The name tf.variables_initializer is deprecated. Please use tf.compat.v1.variables_initializer instead.\n",
            "\n",
            "WARNING:tensorflow:From /usr/local/lib/python3.6/dist-packages/keras/backend/tensorflow_backend.py:2041: The name tf.nn.fused_batch_norm is deprecated. Please use tf.compat.v1.nn.fused_batch_norm instead.\n",
            "\n",
            "WARNING:tensorflow:From /usr/local/lib/python3.6/dist-packages/keras/backend/tensorflow_backend.py:148: The name tf.placeholder_with_default is deprecated. Please use tf.compat.v1.placeholder_with_default instead.\n",
            "\n",
            "WARNING:tensorflow:From /usr/local/lib/python3.6/dist-packages/keras/backend/tensorflow_backend.py:3733: calling dropout (from tensorflow.python.ops.nn_ops) with keep_prob is deprecated and will be removed in a future version.\n",
            "Instructions for updating:\n",
            "Please use `rate` instead of `keep_prob`. Rate should be set to `rate = 1 - keep_prob`.\n",
            "WARNING:tensorflow:From /usr/local/lib/python3.6/dist-packages/keras/backend/tensorflow_backend.py:4267: The name tf.nn.max_pool is deprecated. Please use tf.nn.max_pool2d instead.\n",
            "\n",
            "WARNING:tensorflow:From /usr/local/lib/python3.6/dist-packages/keras/backend/tensorflow_backend.py:4432: The name tf.random_uniform is deprecated. Please use tf.random.uniform instead.\n",
            "\n",
            "Model: \"model_1\"\n",
            "__________________________________________________________________________________________________\n",
            "Layer (type)                    Output Shape         Param #     Connected to                     \n",
            "==================================================================================================\n",
            "input_1 (InputLayer)            (None, 256, 256, 3)  0                                            \n",
            "__________________________________________________________________________________________________\n",
            "conv2d_1 (Conv2D)               (None, 256, 256, 16) 448         input_1[0][0]                    \n",
            "__________________________________________________________________________________________________\n",
            "batch_normalization_1 (BatchNor (None, 256, 256, 16) 64          conv2d_1[0][0]                   \n",
            "__________________________________________________________________________________________________\n",
            "dropout_1 (Dropout)             (None, 256, 256, 16) 0           batch_normalization_1[0][0]      \n",
            "__________________________________________________________________________________________________\n",
            "conv2d_2 (Conv2D)               (None, 256, 256, 16) 2320        dropout_1[0][0]                  \n",
            "__________________________________________________________________________________________________\n",
            "batch_normalization_2 (BatchNor (None, 256, 256, 16) 64          conv2d_2[0][0]                   \n",
            "__________________________________________________________________________________________________\n",
            "max_pooling2d_1 (MaxPooling2D)  (None, 128, 128, 16) 0           batch_normalization_2[0][0]      \n",
            "__________________________________________________________________________________________________\n",
            "conv2d_3 (Conv2D)               (None, 128, 128, 32) 4640        max_pooling2d_1[0][0]            \n",
            "__________________________________________________________________________________________________\n",
            "batch_normalization_3 (BatchNor (None, 128, 128, 32) 128         conv2d_3[0][0]                   \n",
            "__________________________________________________________________________________________________\n",
            "dropout_2 (Dropout)             (None, 128, 128, 32) 0           batch_normalization_3[0][0]      \n",
            "__________________________________________________________________________________________________\n",
            "conv2d_4 (Conv2D)               (None, 128, 128, 32) 9248        dropout_2[0][0]                  \n",
            "__________________________________________________________________________________________________\n",
            "batch_normalization_4 (BatchNor (None, 128, 128, 32) 128         conv2d_4[0][0]                   \n",
            "__________________________________________________________________________________________________\n",
            "max_pooling2d_2 (MaxPooling2D)  (None, 64, 64, 32)   0           batch_normalization_4[0][0]      \n",
            "__________________________________________________________________________________________________\n",
            "conv2d_5 (Conv2D)               (None, 64, 64, 64)   18496       max_pooling2d_2[0][0]            \n",
            "__________________________________________________________________________________________________\n",
            "batch_normalization_5 (BatchNor (None, 64, 64, 64)   256         conv2d_5[0][0]                   \n",
            "__________________________________________________________________________________________________\n",
            "dropout_3 (Dropout)             (None, 64, 64, 64)   0           batch_normalization_5[0][0]      \n",
            "__________________________________________________________________________________________________\n",
            "conv2d_6 (Conv2D)               (None, 64, 64, 64)   36928       dropout_3[0][0]                  \n",
            "__________________________________________________________________________________________________\n",
            "batch_normalization_6 (BatchNor (None, 64, 64, 64)   256         conv2d_6[0][0]                   \n",
            "__________________________________________________________________________________________________\n",
            "max_pooling2d_3 (MaxPooling2D)  (None, 32, 32, 64)   0           batch_normalization_6[0][0]      \n",
            "__________________________________________________________________________________________________\n",
            "conv2d_7 (Conv2D)               (None, 32, 32, 128)  73856       max_pooling2d_3[0][0]            \n",
            "__________________________________________________________________________________________________\n",
            "batch_normalization_7 (BatchNor (None, 32, 32, 128)  512         conv2d_7[0][0]                   \n",
            "__________________________________________________________________________________________________\n",
            "dropout_4 (Dropout)             (None, 32, 32, 128)  0           batch_normalization_7[0][0]      \n",
            "__________________________________________________________________________________________________\n",
            "conv2d_8 (Conv2D)               (None, 32, 32, 128)  147584      dropout_4[0][0]                  \n",
            "__________________________________________________________________________________________________\n",
            "batch_normalization_8 (BatchNor (None, 32, 32, 128)  512         conv2d_8[0][0]                   \n",
            "__________________________________________________________________________________________________\n",
            "max_pooling2d_4 (MaxPooling2D)  (None, 16, 16, 128)  0           batch_normalization_8[0][0]      \n",
            "__________________________________________________________________________________________________\n",
            "conv2d_9 (Conv2D)               (None, 16, 16, 256)  295168      max_pooling2d_4[0][0]            \n",
            "__________________________________________________________________________________________________\n",
            "batch_normalization_9 (BatchNor (None, 16, 16, 256)  1024        conv2d_9[0][0]                   \n",
            "__________________________________________________________________________________________________\n",
            "dropout_5 (Dropout)             (None, 16, 16, 256)  0           batch_normalization_9[0][0]      \n",
            "__________________________________________________________________________________________________\n",
            "conv2d_10 (Conv2D)              (None, 16, 16, 256)  590080      dropout_5[0][0]                  \n",
            "__________________________________________________________________________________________________\n",
            "batch_normalization_10 (BatchNo (None, 16, 16, 256)  1024        conv2d_10[0][0]                  \n",
            "__________________________________________________________________________________________________\n",
            "conv2d_transpose_1 (Conv2DTrans (None, 32, 32, 128)  131200      batch_normalization_10[0][0]     \n",
            "__________________________________________________________________________________________________\n",
            "concatenate_1 (Concatenate)     (None, 32, 32, 256)  0           conv2d_transpose_1[0][0]         \n",
            "                                                                 batch_normalization_8[0][0]      \n",
            "__________________________________________________________________________________________________\n",
            "conv2d_11 (Conv2D)              (None, 32, 32, 128)  295040      concatenate_1[0][0]              \n",
            "__________________________________________________________________________________________________\n",
            "batch_normalization_11 (BatchNo (None, 32, 32, 128)  512         conv2d_11[0][0]                  \n",
            "__________________________________________________________________________________________________\n",
            "dropout_6 (Dropout)             (None, 32, 32, 128)  0           batch_normalization_11[0][0]     \n",
            "__________________________________________________________________________________________________\n",
            "conv2d_12 (Conv2D)              (None, 32, 32, 128)  147584      dropout_6[0][0]                  \n",
            "__________________________________________________________________________________________________\n",
            "batch_normalization_12 (BatchNo (None, 32, 32, 128)  512         conv2d_12[0][0]                  \n",
            "__________________________________________________________________________________________________\n",
            "conv2d_transpose_2 (Conv2DTrans (None, 64, 64, 64)   32832       batch_normalization_12[0][0]     \n",
            "__________________________________________________________________________________________________\n",
            "concatenate_2 (Concatenate)     (None, 64, 64, 128)  0           conv2d_transpose_2[0][0]         \n",
            "                                                                 batch_normalization_6[0][0]      \n",
            "__________________________________________________________________________________________________\n",
            "conv2d_13 (Conv2D)              (None, 64, 64, 64)   73792       concatenate_2[0][0]              \n",
            "__________________________________________________________________________________________________\n",
            "batch_normalization_13 (BatchNo (None, 64, 64, 64)   256         conv2d_13[0][0]                  \n",
            "__________________________________________________________________________________________________\n",
            "dropout_7 (Dropout)             (None, 64, 64, 64)   0           batch_normalization_13[0][0]     \n",
            "__________________________________________________________________________________________________\n",
            "conv2d_14 (Conv2D)              (None, 64, 64, 64)   36928       dropout_7[0][0]                  \n",
            "__________________________________________________________________________________________________\n",
            "batch_normalization_14 (BatchNo (None, 64, 64, 64)   256         conv2d_14[0][0]                  \n",
            "__________________________________________________________________________________________________\n",
            "conv2d_transpose_3 (Conv2DTrans (None, 128, 128, 32) 8224        batch_normalization_14[0][0]     \n",
            "__________________________________________________________________________________________________\n",
            "concatenate_3 (Concatenate)     (None, 128, 128, 64) 0           conv2d_transpose_3[0][0]         \n",
            "                                                                 batch_normalization_4[0][0]      \n",
            "__________________________________________________________________________________________________\n",
            "conv2d_15 (Conv2D)              (None, 128, 128, 32) 18464       concatenate_3[0][0]              \n",
            "__________________________________________________________________________________________________\n",
            "batch_normalization_15 (BatchNo (None, 128, 128, 32) 128         conv2d_15[0][0]                  \n",
            "__________________________________________________________________________________________________\n",
            "dropout_8 (Dropout)             (None, 128, 128, 32) 0           batch_normalization_15[0][0]     \n",
            "__________________________________________________________________________________________________\n",
            "conv2d_16 (Conv2D)              (None, 128, 128, 32) 9248        dropout_8[0][0]                  \n",
            "__________________________________________________________________________________________________\n",
            "batch_normalization_16 (BatchNo (None, 128, 128, 32) 128         conv2d_16[0][0]                  \n",
            "__________________________________________________________________________________________________\n",
            "conv2d_transpose_4 (Conv2DTrans (None, 256, 256, 16) 2064        batch_normalization_16[0][0]     \n",
            "__________________________________________________________________________________________________\n",
            "concatenate_4 (Concatenate)     (None, 256, 256, 32) 0           conv2d_transpose_4[0][0]         \n",
            "                                                                 batch_normalization_2[0][0]      \n",
            "__________________________________________________________________________________________________\n",
            "conv2d_17 (Conv2D)              (None, 256, 256, 16) 4624        concatenate_4[0][0]              \n",
            "__________________________________________________________________________________________________\n",
            "batch_normalization_17 (BatchNo (None, 256, 256, 16) 64          conv2d_17[0][0]                  \n",
            "__________________________________________________________________________________________________\n",
            "dropout_9 (Dropout)             (None, 256, 256, 16) 0           batch_normalization_17[0][0]     \n",
            "__________________________________________________________________________________________________\n",
            "conv2d_18 (Conv2D)              (None, 256, 256, 16) 2320        dropout_9[0][0]                  \n",
            "__________________________________________________________________________________________________\n",
            "batch_normalization_18 (BatchNo (None, 256, 256, 16) 64          conv2d_18[0][0]                  \n",
            "__________________________________________________________________________________________________\n",
            "conv2d_19 (Conv2D)              (None, 256, 256, 1)  17          batch_normalization_18[0][0]     \n",
            "==================================================================================================\n",
            "Total params: 1,946,993\n",
            "Trainable params: 1,944,049\n",
            "Non-trainable params: 2,944\n",
            "__________________________________________________________________________________________________\n"
          ],
          "name": "stdout"
        }
      ]
    },
    {
      "cell_type": "code",
      "metadata": {
        "id": "MXT5cJEy_PMc",
        "colab_type": "code",
        "colab": {}
      },
      "source": [
        "\"\"\"\n",
        "Hyperparameters\n",
        "\"\"\"\n",
        "#print(roadlabel.shape)\n",
        "EPOCHS = 100\n",
        "LEARNING_RATE = 0.0001\n",
        "BATCH_SIZE = 32\n"
      ],
      "execution_count": 0,
      "outputs": []
    },
    {
      "cell_type": "code",
      "metadata": {
        "id": "xKH7fxFPAAfW",
        "colab_type": "code",
        "outputId": "3987ff77-fd3c-431d-9bb4-04453caae4ee",
        "colab": {
          "base_uri": "https://localhost:8080/",
          "height": 69
        }
      },
      "source": [
        "from tensorboardcolab import TensorBoardColab, TensorBoardColabCallback\n",
        "tbc=TensorBoardColab()"
      ],
      "execution_count": 11,
      "outputs": [
        {
          "output_type": "stream",
          "text": [
            "Wait for 8 seconds...\n",
            "TensorBoard link:\n",
            "https://fb062fa8.ngrok.io\n"
          ],
          "name": "stdout"
        }
      ]
    },
    {
      "cell_type": "code",
      "metadata": {
        "id": "m4vsmUTqAAh_",
        "colab_type": "code",
        "colab": {}
      },
      "source": [
        "model_path = \"Models/Final_unet_building_weights.h5\""
      ],
      "execution_count": 0,
      "outputs": []
    },
    {
      "cell_type": "code",
      "metadata": {
        "id": "MTbz0llbAAkM",
        "colab_type": "code",
        "colab": {}
      },
      "source": [
        "from keras.callbacks import ModelCheckpoint, ReduceLROnPlateau, EarlyStopping\n",
        "from datetime import datetime\n",
        "\n",
        "checkpointer = ModelCheckpoint(model_path,\n",
        "                             monitor=\"val_loss\",\n",
        "                             mode=\"min\",\n",
        "                             save_best_only = True,\n",
        "                             verbose=1)"
      ],
      "execution_count": 0,
      "outputs": []
    },
    {
      "cell_type": "code",
      "metadata": {
        "id": "OMdYZwNvAAmA",
        "colab_type": "code",
        "colab": {}
      },
      "source": [
        "earlystopper = EarlyStopping(monitor = 'val_loss', \n",
        "                             min_delta = 0, \n",
        "                             patience = 7,\n",
        "                             mode='auto',\n",
        "                            restore_best_weights = True)"
      ],
      "execution_count": 0,
      "outputs": []
    },
    {
      "cell_type": "code",
      "metadata": {
        "id": "M4bKCiiPAVvX",
        "colab_type": "code",
        "outputId": "ddc66297-d259-4af5-c884-7c5d790fde1c",
        "colab": {
          "base_uri": "https://localhost:8080/",
          "height": 72
        }
      },
      "source": [
        "lr_reducer = ReduceLROnPlateau(monitor='val_loss',\n",
        "                               factor=0.1,\n",
        "                               patience=4,\n",
        "                               verbose=1,\n",
        "                               epsilon=1e-4)"
      ],
      "execution_count": 15,
      "outputs": [
        {
          "output_type": "stream",
          "text": [
            "/usr/local/lib/python3.6/dist-packages/keras/callbacks.py:1335: UserWarning: `epsilon` argument is deprecated and will be removed, use `min_delta` instead.\n",
            "  warnings.warn('`epsilon` argument is deprecated and '\n"
          ],
          "name": "stderr"
        }
      ]
    },
    {
      "cell_type": "code",
      "metadata": {
        "id": "KrgM5RWvAVzq",
        "colab_type": "code",
        "outputId": "d1767f9f-468e-47f3-bf40-d342c428d7b0",
        "colab": {
          "base_uri": "https://localhost:8080/",
          "height": 72
        }
      },
      "source": [
        "opt = keras.optimizers.adam(LEARNING_RATE)\n",
        "model.compile(\n",
        "      optimizer=opt,\n",
        "      loss=soft_dice_loss,\n",
        "      metrics=[iou_coef])   "
      ],
      "execution_count": 16,
      "outputs": [
        {
          "output_type": "stream",
          "text": [
            "WARNING:tensorflow:From /usr/local/lib/python3.6/dist-packages/keras/optimizers.py:793: The name tf.train.Optimizer is deprecated. Please use tf.compat.v1.train.Optimizer instead.\n",
            "\n"
          ],
          "name": "stdout"
        }
      ]
    },
    {
      "cell_type": "code",
      "metadata": {
        "id": "LlPu-0sYcG2U",
        "colab_type": "code",
        "colab": {
          "base_uri": "https://localhost:8080/",
          "height": 1000
        },
        "outputId": "1911a107-2165-438d-8cbb-515d6172d103"
      },
      "source": [
        "history = model.fit(road,\n",
        "                    roadlabel.astype(np.float16)/255,\n",
        "                    validation_split = 0.1,\n",
        "                    epochs=EPOCHS,\n",
        "                    batch_size = BATCH_SIZE,\n",
        "                    callbacks = [checkpointer, earlystopper, lr_reducer, TensorBoardColabCallback(tbc)]\n",
        "                       )\n",
        "\n",
        "with open(\"History/Building_History.pickle\", 'wb') as f:\n",
        "    pickle.dump(history, f)"
      ],
      "execution_count": 17,
      "outputs": [
        {
          "output_type": "stream",
          "text": [
            "WARNING:tensorflow:From /usr/local/lib/python3.6/dist-packages/keras/backend/tensorflow_backend.py:1033: The name tf.assign_add is deprecated. Please use tf.compat.v1.assign_add instead.\n",
            "\n",
            "WARNING:tensorflow:From /usr/local/lib/python3.6/dist-packages/keras/backend/tensorflow_backend.py:1020: The name tf.assign is deprecated. Please use tf.compat.v1.assign instead.\n",
            "\n",
            "Train on 22068 samples, validate on 2452 samples\n",
            "WARNING:tensorflow:From /usr/local/lib/python3.6/dist-packages/tensorboardcolab/core.py:49: The name tf.summary.FileWriter is deprecated. Please use tf.compat.v1.summary.FileWriter instead.\n",
            "\n",
            "WARNING:tensorflow:From /usr/local/lib/python3.6/dist-packages/keras/callbacks.py:1122: The name tf.summary.merge_all is deprecated. Please use tf.compat.v1.summary.merge_all instead.\n",
            "\n",
            "Epoch 1/100\n",
            "22068/22068 [==============================] - 183s 8ms/step - loss: 0.5140 - iou_coef: 0.2668 - val_loss: 0.4257 - val_iou_coef: 0.3286\n",
            "\n",
            "Epoch 00001: val_loss improved from inf to 0.42571, saving model to Models/Final_unet_building_weights.h5\n",
            "WARNING:tensorflow:From /usr/local/lib/python3.6/dist-packages/tensorboardcolab/callbacks.py:51: The name tf.Summary is deprecated. Please use tf.compat.v1.Summary instead.\n",
            "\n",
            "Epoch 2/100\n",
            "22068/22068 [==============================] - 172s 8ms/step - loss: 0.3680 - iou_coef: 0.3780 - val_loss: 0.3328 - val_iou_coef: 0.4095\n",
            "\n",
            "Epoch 00002: val_loss improved from 0.42571 to 0.33276, saving model to Models/Final_unet_building_weights.h5\n",
            "Epoch 3/100\n",
            "22068/22068 [==============================] - 173s 8ms/step - loss: 0.3120 - iou_coef: 0.4312 - val_loss: 0.3028 - val_iou_coef: 0.4345\n",
            "\n",
            "Epoch 00003: val_loss improved from 0.33276 to 0.30281, saving model to Models/Final_unet_building_weights.h5\n",
            "Epoch 4/100\n",
            "22068/22068 [==============================] - 173s 8ms/step - loss: 0.2848 - iou_coef: 0.4606 - val_loss: 0.2796 - val_iou_coef: 0.4611\n",
            "\n",
            "Epoch 00004: val_loss improved from 0.30281 to 0.27964, saving model to Models/Final_unet_building_weights.h5\n",
            "Epoch 5/100\n",
            "22068/22068 [==============================] - 172s 8ms/step - loss: 0.2688 - iou_coef: 0.4792 - val_loss: 0.2680 - val_iou_coef: 0.4737\n",
            "\n",
            "Epoch 00005: val_loss improved from 0.27964 to 0.26804, saving model to Models/Final_unet_building_weights.h5\n",
            "Epoch 6/100\n",
            "22068/22068 [==============================] - 172s 8ms/step - loss: 0.2584 - iou_coef: 0.4926 - val_loss: 0.2647 - val_iou_coef: 0.4792\n",
            "\n",
            "Epoch 00006: val_loss improved from 0.26804 to 0.26469, saving model to Models/Final_unet_building_weights.h5\n",
            "Epoch 7/100\n",
            "22068/22068 [==============================] - 172s 8ms/step - loss: 0.2503 - iou_coef: 0.5030 - val_loss: 0.2554 - val_iou_coef: 0.4936\n",
            "\n",
            "Epoch 00007: val_loss improved from 0.26469 to 0.25537, saving model to Models/Final_unet_building_weights.h5\n",
            "Epoch 8/100\n",
            "22068/22068 [==============================] - 172s 8ms/step - loss: 0.2439 - iou_coef: 0.5121 - val_loss: 0.2564 - val_iou_coef: 0.4904\n",
            "\n",
            "Epoch 00008: val_loss did not improve from 0.25537\n",
            "Epoch 9/100\n",
            "22068/22068 [==============================] - 172s 8ms/step - loss: 0.2391 - iou_coef: 0.5198 - val_loss: 0.2521 - val_iou_coef: 0.4994\n",
            "\n",
            "Epoch 00009: val_loss improved from 0.25537 to 0.25207, saving model to Models/Final_unet_building_weights.h5\n",
            "Epoch 10/100\n",
            "22068/22068 [==============================] - 172s 8ms/step - loss: 0.2342 - iou_coef: 0.5272 - val_loss: 0.2401 - val_iou_coef: 0.5221\n",
            "\n",
            "Epoch 00010: val_loss improved from 0.25207 to 0.24010, saving model to Models/Final_unet_building_weights.h5\n",
            "Epoch 11/100\n",
            "22068/22068 [==============================] - 172s 8ms/step - loss: 0.2309 - iou_coef: 0.5338 - val_loss: 0.2407 - val_iou_coef: 0.5188\n",
            "\n",
            "Epoch 00011: val_loss did not improve from 0.24010\n",
            "Epoch 12/100\n",
            "22068/22068 [==============================] - 173s 8ms/step - loss: 0.2280 - iou_coef: 0.5410 - val_loss: 0.2317 - val_iou_coef: 0.5402\n",
            "\n",
            "Epoch 00012: val_loss improved from 0.24010 to 0.23169, saving model to Models/Final_unet_building_weights.h5\n",
            "Epoch 13/100\n",
            "22068/22068 [==============================] - 173s 8ms/step - loss: 0.2248 - iou_coef: 0.5494 - val_loss: 0.2400 - val_iou_coef: 0.5365\n",
            "\n",
            "Epoch 00013: val_loss did not improve from 0.23169\n",
            "Epoch 14/100\n",
            "22068/22068 [==============================] - 172s 8ms/step - loss: 0.2218 - iou_coef: 0.5574 - val_loss: 0.2274 - val_iou_coef: 0.5607\n",
            "\n",
            "Epoch 00014: val_loss improved from 0.23169 to 0.22744, saving model to Models/Final_unet_building_weights.h5\n",
            "Epoch 15/100\n",
            "22068/22068 [==============================] - 172s 8ms/step - loss: 0.2198 - iou_coef: 0.5663 - val_loss: 0.2282 - val_iou_coef: 0.5675\n",
            "\n",
            "Epoch 00015: val_loss did not improve from 0.22744\n",
            "Epoch 16/100\n",
            "22068/22068 [==============================] - 173s 8ms/step - loss: 0.2170 - iou_coef: 0.5767 - val_loss: 0.2250 - val_iou_coef: 0.5825\n",
            "\n",
            "Epoch 00016: val_loss improved from 0.22744 to 0.22501, saving model to Models/Final_unet_building_weights.h5\n",
            "Epoch 17/100\n",
            "22068/22068 [==============================] - 173s 8ms/step - loss: 0.2149 - iou_coef: 0.5849 - val_loss: 0.2256 - val_iou_coef: 0.5862\n",
            "\n",
            "Epoch 00017: val_loss did not improve from 0.22501\n",
            "Epoch 18/100\n",
            "22068/22068 [==============================] - 172s 8ms/step - loss: 0.2126 - iou_coef: 0.5941 - val_loss: 0.2220 - val_iou_coef: 0.6004\n",
            "\n",
            "Epoch 00018: val_loss improved from 0.22501 to 0.22201, saving model to Models/Final_unet_building_weights.h5\n",
            "Epoch 19/100\n",
            "22068/22068 [==============================] - 172s 8ms/step - loss: 0.2109 - iou_coef: 0.6007 - val_loss: 0.2188 - val_iou_coef: 0.6133\n",
            "\n",
            "Epoch 00019: val_loss improved from 0.22201 to 0.21882, saving model to Models/Final_unet_building_weights.h5\n",
            "Epoch 20/100\n",
            "22068/22068 [==============================] - 172s 8ms/step - loss: 0.2087 - iou_coef: 0.6076 - val_loss: 0.2153 - val_iou_coef: 0.6192\n",
            "\n",
            "Epoch 00020: val_loss improved from 0.21882 to 0.21526, saving model to Models/Final_unet_building_weights.h5\n",
            "Epoch 21/100\n",
            "22068/22068 [==============================] - 172s 8ms/step - loss: 0.2076 - iou_coef: 0.6151 - val_loss: 0.2147 - val_iou_coef: 0.6305\n",
            "\n",
            "Epoch 00021: val_loss improved from 0.21526 to 0.21468, saving model to Models/Final_unet_building_weights.h5\n",
            "Epoch 22/100\n",
            "22068/22068 [==============================] - 172s 8ms/step - loss: 0.2061 - iou_coef: 0.6206 - val_loss: 0.2106 - val_iou_coef: 0.6365\n",
            "\n",
            "Epoch 00022: val_loss improved from 0.21468 to 0.21060, saving model to Models/Final_unet_building_weights.h5\n",
            "Epoch 23/100\n",
            "22068/22068 [==============================] - 173s 8ms/step - loss: 0.2040 - iou_coef: 0.6234 - val_loss: 0.2107 - val_iou_coef: 0.6418\n",
            "\n",
            "Epoch 00023: val_loss did not improve from 0.21060\n",
            "Epoch 24/100\n",
            "22068/22068 [==============================] - 172s 8ms/step - loss: 0.2023 - iou_coef: 0.6298 - val_loss: 0.2174 - val_iou_coef: 0.6352\n",
            "\n",
            "Epoch 00024: val_loss did not improve from 0.21060\n",
            "Epoch 25/100\n",
            "22068/22068 [==============================] - 172s 8ms/step - loss: 0.2011 - iou_coef: 0.6330 - val_loss: 0.2083 - val_iou_coef: 0.6443\n",
            "\n",
            "Epoch 00025: val_loss improved from 0.21060 to 0.20827, saving model to Models/Final_unet_building_weights.h5\n",
            "Epoch 26/100\n",
            "22068/22068 [==============================] - 172s 8ms/step - loss: 0.1993 - iou_coef: 0.6382 - val_loss: 0.2098 - val_iou_coef: 0.6459\n",
            "\n",
            "Epoch 00026: val_loss did not improve from 0.20827\n",
            "Epoch 27/100\n",
            "22068/22068 [==============================] - 172s 8ms/step - loss: 0.1987 - iou_coef: 0.6386 - val_loss: 0.2070 - val_iou_coef: 0.6528\n",
            "\n",
            "Epoch 00027: val_loss improved from 0.20827 to 0.20705, saving model to Models/Final_unet_building_weights.h5\n",
            "Epoch 28/100\n",
            "22068/22068 [==============================] - 172s 8ms/step - loss: 0.1973 - iou_coef: 0.6413 - val_loss: 0.2028 - val_iou_coef: 0.6619\n",
            "\n",
            "Epoch 00028: val_loss improved from 0.20705 to 0.20279, saving model to Models/Final_unet_building_weights.h5\n",
            "Epoch 29/100\n",
            "22068/22068 [==============================] - 172s 8ms/step - loss: 0.1961 - iou_coef: 0.6458 - val_loss: 0.2049 - val_iou_coef: 0.6576\n",
            "\n",
            "Epoch 00029: val_loss did not improve from 0.20279\n",
            "Epoch 30/100\n",
            "22068/22068 [==============================] - 172s 8ms/step - loss: 0.1951 - iou_coef: 0.6467 - val_loss: 0.2057 - val_iou_coef: 0.6589\n",
            "\n",
            "Epoch 00030: val_loss did not improve from 0.20279\n",
            "Epoch 31/100\n",
            "22068/22068 [==============================] - 172s 8ms/step - loss: 0.1942 - iou_coef: 0.6495 - val_loss: 0.2009 - val_iou_coef: 0.6596\n",
            "\n",
            "Epoch 00031: val_loss improved from 0.20279 to 0.20090, saving model to Models/Final_unet_building_weights.h5\n",
            "Epoch 32/100\n",
            "22068/22068 [==============================] - 172s 8ms/step - loss: 0.1927 - iou_coef: 0.6537 - val_loss: 0.2004 - val_iou_coef: 0.6653\n",
            "\n",
            "Epoch 00032: val_loss improved from 0.20090 to 0.20041, saving model to Models/Final_unet_building_weights.h5\n",
            "Epoch 33/100\n",
            "22068/22068 [==============================] - 172s 8ms/step - loss: 0.1922 - iou_coef: 0.6536 - val_loss: 0.2036 - val_iou_coef: 0.6617\n",
            "\n",
            "Epoch 00033: val_loss did not improve from 0.20041\n",
            "Epoch 34/100\n",
            "22068/22068 [==============================] - 172s 8ms/step - loss: 0.1910 - iou_coef: 0.6555 - val_loss: 0.2008 - val_iou_coef: 0.6644\n",
            "\n",
            "Epoch 00034: val_loss did not improve from 0.20041\n",
            "Epoch 35/100\n",
            "22068/22068 [==============================] - 171s 8ms/step - loss: 0.1910 - iou_coef: 0.6551 - val_loss: 0.2109 - val_iou_coef: 0.6513\n",
            "\n",
            "Epoch 00035: val_loss did not improve from 0.20041\n",
            "Epoch 36/100\n",
            "22068/22068 [==============================] - 171s 8ms/step - loss: 0.1900 - iou_coef: 0.6584 - val_loss: 0.2002 - val_iou_coef: 0.6687\n",
            "\n",
            "Epoch 00036: val_loss improved from 0.20041 to 0.20019, saving model to Models/Final_unet_building_weights.h5\n",
            "Epoch 37/100\n",
            "22068/22068 [==============================] - 171s 8ms/step - loss: 0.1888 - iou_coef: 0.6594 - val_loss: 0.2010 - val_iou_coef: 0.6666\n",
            "\n",
            "Epoch 00037: val_loss did not improve from 0.20019\n",
            "Epoch 38/100\n",
            "22068/22068 [==============================] - 171s 8ms/step - loss: 0.1877 - iou_coef: 0.6629 - val_loss: 0.1981 - val_iou_coef: 0.6724\n",
            "\n",
            "Epoch 00038: val_loss improved from 0.20019 to 0.19811, saving model to Models/Final_unet_building_weights.h5\n",
            "Epoch 39/100\n",
            "22068/22068 [==============================] - 171s 8ms/step - loss: 0.1871 - iou_coef: 0.6632 - val_loss: 0.1966 - val_iou_coef: 0.6742\n",
            "\n",
            "Epoch 00039: val_loss improved from 0.19811 to 0.19656, saving model to Models/Final_unet_building_weights.h5\n",
            "Epoch 40/100\n",
            "22068/22068 [==============================] - 172s 8ms/step - loss: 0.1863 - iou_coef: 0.6659 - val_loss: 0.1963 - val_iou_coef: 0.6743\n",
            "\n",
            "Epoch 00040: val_loss improved from 0.19656 to 0.19627, saving model to Models/Final_unet_building_weights.h5\n",
            "Epoch 41/100\n",
            "22068/22068 [==============================] - 171s 8ms/step - loss: 0.1858 - iou_coef: 0.6664 - val_loss: 0.1944 - val_iou_coef: 0.6766\n",
            "\n",
            "Epoch 00041: val_loss improved from 0.19627 to 0.19438, saving model to Models/Final_unet_building_weights.h5\n",
            "Epoch 42/100\n",
            "22068/22068 [==============================] - 171s 8ms/step - loss: 0.1857 - iou_coef: 0.6668 - val_loss: 0.1961 - val_iou_coef: 0.6738\n",
            "\n",
            "Epoch 00042: val_loss did not improve from 0.19438\n",
            "Epoch 43/100\n",
            "22068/22068 [==============================] - 171s 8ms/step - loss: 0.1845 - iou_coef: 0.6701 - val_loss: 0.1947 - val_iou_coef: 0.6770\n",
            "\n",
            "Epoch 00043: val_loss did not improve from 0.19438\n",
            "Epoch 44/100\n",
            "22068/22068 [==============================] - 171s 8ms/step - loss: 0.1840 - iou_coef: 0.6710 - val_loss: 0.1937 - val_iou_coef: 0.6784\n",
            "\n",
            "Epoch 00044: val_loss improved from 0.19438 to 0.19371, saving model to Models/Final_unet_building_weights.h5\n",
            "Epoch 45/100\n",
            "22068/22068 [==============================] - 171s 8ms/step - loss: 0.1829 - iou_coef: 0.6722 - val_loss: 0.1953 - val_iou_coef: 0.6752\n",
            "\n",
            "Epoch 00045: val_loss did not improve from 0.19371\n",
            "Epoch 46/100\n",
            "22068/22068 [==============================] - 171s 8ms/step - loss: 0.1825 - iou_coef: 0.6726 - val_loss: 0.1937 - val_iou_coef: 0.6808\n",
            "\n",
            "Epoch 00046: val_loss improved from 0.19371 to 0.19367, saving model to Models/Final_unet_building_weights.h5\n",
            "Epoch 47/100\n",
            "22068/22068 [==============================] - 171s 8ms/step - loss: 0.1819 - iou_coef: 0.6736 - val_loss: 0.1939 - val_iou_coef: 0.6803\n",
            "\n",
            "Epoch 00047: val_loss did not improve from 0.19367\n",
            "Epoch 48/100\n",
            "22068/22068 [==============================] - 171s 8ms/step - loss: 0.1813 - iou_coef: 0.6757 - val_loss: 0.1951 - val_iou_coef: 0.6786\n",
            "\n",
            "Epoch 00048: val_loss did not improve from 0.19367\n",
            "\n",
            "Epoch 00048: ReduceLROnPlateau reducing learning rate to 9.999999747378752e-06.\n",
            "Epoch 49/100\n",
            "22068/22068 [==============================] - 171s 8ms/step - loss: 0.1787 - iou_coef: 0.6794 - val_loss: 0.1919 - val_iou_coef: 0.6841\n",
            "\n",
            "Epoch 00049: val_loss improved from 0.19367 to 0.19193, saving model to Models/Final_unet_building_weights.h5\n",
            "Epoch 50/100\n",
            "22068/22068 [==============================] - 171s 8ms/step - loss: 0.1783 - iou_coef: 0.6803 - val_loss: 0.1916 - val_iou_coef: 0.6838\n",
            "\n",
            "Epoch 00050: val_loss improved from 0.19193 to 0.19156, saving model to Models/Final_unet_building_weights.h5\n",
            "Epoch 51/100\n",
            "22068/22068 [==============================] - 171s 8ms/step - loss: 0.1779 - iou_coef: 0.6810 - val_loss: 0.1908 - val_iou_coef: 0.6847\n",
            "\n",
            "Epoch 00051: val_loss improved from 0.19156 to 0.19077, saving model to Models/Final_unet_building_weights.h5\n",
            "Epoch 52/100\n",
            "22068/22068 [==============================] - 171s 8ms/step - loss: 0.1775 - iou_coef: 0.6823 - val_loss: 0.1911 - val_iou_coef: 0.6834\n",
            "\n",
            "Epoch 00052: val_loss did not improve from 0.19077\n",
            "Epoch 53/100\n",
            "22068/22068 [==============================] - 171s 8ms/step - loss: 0.1775 - iou_coef: 0.6801 - val_loss: 0.1911 - val_iou_coef: 0.6847\n",
            "\n",
            "Epoch 00053: val_loss did not improve from 0.19077\n",
            "Epoch 54/100\n",
            "22068/22068 [==============================] - 172s 8ms/step - loss: 0.1776 - iou_coef: 0.6802 - val_loss: 0.1907 - val_iou_coef: 0.6846\n",
            "\n",
            "Epoch 00054: val_loss improved from 0.19077 to 0.19067, saving model to Models/Final_unet_building_weights.h5\n",
            "Epoch 55/100\n",
            "22068/22068 [==============================] - 172s 8ms/step - loss: 0.1773 - iou_coef: 0.6817 - val_loss: 0.1902 - val_iou_coef: 0.6859\n",
            "\n",
            "Epoch 00055: val_loss improved from 0.19067 to 0.19020, saving model to Models/Final_unet_building_weights.h5\n",
            "Epoch 56/100\n",
            "22068/22068 [==============================] - 171s 8ms/step - loss: 0.1773 - iou_coef: 0.6810 - val_loss: 0.1905 - val_iou_coef: 0.6851\n",
            "\n",
            "Epoch 00056: val_loss did not improve from 0.19020\n",
            "Epoch 57/100\n",
            "22068/22068 [==============================] - 171s 8ms/step - loss: 0.1772 - iou_coef: 0.6824 - val_loss: 0.1898 - val_iou_coef: 0.6867\n",
            "\n",
            "Epoch 00057: val_loss improved from 0.19020 to 0.18982, saving model to Models/Final_unet_building_weights.h5\n",
            "Epoch 58/100\n",
            "22068/22068 [==============================] - 171s 8ms/step - loss: 0.1768 - iou_coef: 0.6824 - val_loss: 0.1904 - val_iou_coef: 0.6848\n",
            "\n",
            "Epoch 00058: val_loss did not improve from 0.18982\n",
            "Epoch 59/100\n",
            "22068/22068 [==============================] - 171s 8ms/step - loss: 0.1768 - iou_coef: 0.6828 - val_loss: 0.1908 - val_iou_coef: 0.6845\n",
            "\n",
            "Epoch 00059: val_loss did not improve from 0.18982\n",
            "Epoch 60/100\n",
            "22068/22068 [==============================] - 171s 8ms/step - loss: 0.1767 - iou_coef: 0.6832 - val_loss: 0.1900 - val_iou_coef: 0.6858\n",
            "\n",
            "Epoch 00060: val_loss did not improve from 0.18982\n",
            "Epoch 61/100\n",
            "22068/22068 [==============================] - 171s 8ms/step - loss: 0.1766 - iou_coef: 0.6831 - val_loss: 0.1900 - val_iou_coef: 0.6854\n",
            "\n",
            "Epoch 00061: val_loss did not improve from 0.18982\n",
            "\n",
            "Epoch 00061: ReduceLROnPlateau reducing learning rate to 9.999999747378752e-07.\n",
            "Epoch 62/100\n",
            "22068/22068 [==============================] - 171s 8ms/step - loss: 0.1763 - iou_coef: 0.6842 - val_loss: 0.1901 - val_iou_coef: 0.6861\n",
            "\n",
            "Epoch 00062: val_loss did not improve from 0.18982\n",
            "Epoch 63/100\n",
            "22068/22068 [==============================] - 171s 8ms/step - loss: 0.1762 - iou_coef: 0.6836 - val_loss: 0.1899 - val_iou_coef: 0.6860\n",
            "\n",
            "Epoch 00063: val_loss did not improve from 0.18982\n",
            "Epoch 64/100\n",
            "22068/22068 [==============================] - 171s 8ms/step - loss: 0.1761 - iou_coef: 0.6843 - val_loss: 0.1901 - val_iou_coef: 0.6855\n",
            "\n",
            "Epoch 00064: val_loss did not improve from 0.18982\n"
          ],
          "name": "stdout"
        },
        {
          "output_type": "error",
          "ename": "NameError",
          "evalue": "ignored",
          "traceback": [
            "\u001b[0;31m---------------------------------------------------------------------------\u001b[0m",
            "\u001b[0;31mNameError\u001b[0m                                 Traceback (most recent call last)",
            "\u001b[0;32m<ipython-input-17-fcc7a37fdfa0>\u001b[0m in \u001b[0;36m<module>\u001b[0;34m()\u001b[0m\n\u001b[1;32m      8\u001b[0m \u001b[0;34m\u001b[0m\u001b[0m\n\u001b[1;32m      9\u001b[0m \u001b[0;32mwith\u001b[0m \u001b[0mopen\u001b[0m\u001b[0;34m(\u001b[0m\u001b[0;34m\"History/Building_History.pickle\"\u001b[0m\u001b[0;34m,\u001b[0m \u001b[0;34m'wb'\u001b[0m\u001b[0;34m)\u001b[0m \u001b[0;32mas\u001b[0m \u001b[0mf\u001b[0m\u001b[0;34m:\u001b[0m\u001b[0;34m\u001b[0m\u001b[0;34m\u001b[0m\u001b[0m\n\u001b[0;32m---> 10\u001b[0;31m     \u001b[0mpickle\u001b[0m\u001b[0;34m.\u001b[0m\u001b[0mdump\u001b[0m\u001b[0;34m(\u001b[0m\u001b[0mhistory\u001b[0m\u001b[0;34m,\u001b[0m \u001b[0mf\u001b[0m\u001b[0;34m)\u001b[0m\u001b[0;34m\u001b[0m\u001b[0;34m\u001b[0m\u001b[0m\n\u001b[0m",
            "\u001b[0;31mNameError\u001b[0m: name 'pickle' is not defined"
          ]
        }
      ]
    },
    {
      "cell_type": "code",
      "metadata": {
        "id": "OZthE65vN7fY",
        "colab_type": "code",
        "colab": {}
      },
      "source": [
        "import pickle\n",
        "\n",
        "with open(\"History/Building_History.pickle\", 'wb') as f:\n",
        "    pickle.dump(history, f)"
      ],
      "execution_count": 0,
      "outputs": []
    },
    {
      "cell_type": "code",
      "metadata": {
        "id": "Z5Joz_WJcclW",
        "colab_type": "code",
        "colab": {
          "base_uri": "https://localhost:8080/",
          "height": 573
        },
        "outputId": "9af091f4-53c8-4364-8417-0e3a8658939e"
      },
      "source": [
        "import matplotlib.pyplot as plt\n",
        "\n",
        "# Plot training & validation accuracy values\n",
        "plt.plot(history.history['iou_coef'])\n",
        "plt.plot(history.history['val_iou_coef'])\n",
        "plt.title('Model accuracy')\n",
        "plt.ylabel('Accuracy')\n",
        "plt.xlabel('Epoch')\n",
        "plt.legend(['Train', 'Test'], loc='upper left')\n",
        "plt.show()\n",
        "\n",
        "# Plot training & validation loss values\n",
        "plt.plot(history.history['loss'])\n",
        "plt.plot(history.history['val_loss'])\n",
        "plt.title('Model loss')\n",
        "plt.ylabel('Loss')\n",
        "plt.xlabel('Epoch')\n",
        "plt.legend(['Train', 'Test'], loc='upper left')\n",
        "plt.show()"
      ],
      "execution_count": 19,
      "outputs": [
        {
          "output_type": "display_data",
          "data": {
            "image/png": "[encoded data removed]",
            "text/plain": [
              "<Figure size 432x288 with 1 Axes>"
            ]
          },
          "metadata": {
            "tags": []
          }
        },
        {
          "output_type": "display_data",
          "data": {
            "image/png": "[encoded data removed]",
            "text/plain": [
              "<Figure size 432x288 with 1 Axes>"
            ]
          },
          "metadata": {
            "tags": []
          }
        }
      ]
    }
  ]
}